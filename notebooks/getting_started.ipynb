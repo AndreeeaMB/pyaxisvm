{
 "cells": [
  {
   "cell_type": "markdown",
   "metadata": {},
   "source": [
    "# Getting Started"
   ]
  },
  {
   "cell_type": "markdown",
   "metadata": {},
   "source": [
    "## Installation and testing\n",
    "\n",
    "### Register AxisVM's Type Library\n",
    "\n",
    "If this is not your first time using **AxisVM** through a COM interface on your machine, you should already have a registered type library and you can skip this step. Otherwise, follow the instructions at the beginning of the ***AxisVM API Reference Guide***.\n",
    "\n",
    "\n",
    "### Install PyAxisVM\n",
    "This is optional, but we suggest you to create a dedicated virtual enviroment at all times to avoid conflicts with your other projects. Create a folder, open a command shell in that folder and use the following command\n",
    "\n",
    "```console\n",
    ">>> python -m venv venv_name\n",
    "```\n",
    "\n",
    "Once the enviroment is created, activate it via typing\n",
    "\n",
    "```console\n",
    ">>> .\\venv_name\\Scripts\\activate\n",
    "```\n",
    "\n",
    "The **AxisVM** python package can be installed (either in a virtual enviroment or globally) from PyPI using `pip` on Python >= 3.6:\n",
    "\n",
    "```console\n",
    ">>> pip install axisvm\n",
    "```\n",
    "\n",
    "### Launch AxisVM from Python\n",
    "\n",
    "The `axisvm.com.client` submodule implements various tools to handle the client side operations of creating a COM connection. Import the module and start a new application instance with the `start_AxisVM` method:\n",
    "\n",
    "\n",
    "```python\n",
    "from axisvm.com.client import start_AxisVM\n",
    "axapp = start_AxisVM(visible=True)\n",
    "```\n",
    "\n",
    "To test the connection, you can query the path of the executable being run by typing `axapp.FullExePath`."
   ]
  },
  {
   "cell_type": "markdown",
   "metadata": {},
   "source": [
    "## How to use the API"
   ]
  },
  {
   "cell_type": "markdown",
   "metadata": {},
   "source": [
    "`pyaxisvm` has two layers. The first one is the raw type library extracted from AxisVM using the `comptypes` package. We are working on an online version of it, until that the documentation of this layer is only available in pdf format, that you should already posess at the moment of reading this notebook. If you don't have it yet, go to our website, and look for it under downloads. Be careful to download the documentation that matches the version of your AxisVM instance."
   ]
  },
  {
   "cell_type": "markdown",
   "metadata": {},
   "source": [
    "### Basic API usage"
   ]
  },
  {
   "cell_type": "markdown",
   "metadata": {},
   "source": [
    "Firts of all, we need a runnning AxisVM either in the background, or with the graphical interface."
   ]
  },
  {
   "cell_type": "code",
   "execution_count": 15,
   "metadata": {},
   "outputs": [],
   "source": [
    "from axisvm.com.client import start_AxisVM\n",
    "axvm = start_AxisVM(visible=True, daemon=True)"
   ]
  },
  {
   "cell_type": "markdown",
   "metadata": {},
   "source": [
    "As a consequence of the hierarchical structure of the models in AxisVM, every model creation proccess starts with nodes. To create nodes we need an interface to the nodes of the application. This is achieved by the `IAxisVMNodes` class of the type library. If you look it up in the pdf document, you will see this:"
   ]
  },
  {
   "cell_type": "markdown",
   "metadata": {},
   "source": [
    "![IAxisVMNodes](IAxisVMNodes.png)"
   ]
  },
  {
   "cell_type": "markdown",
   "metadata": {},
   "source": [
    "Just like other interfaces, the documentation of `IAxisVMNodes` begins with listing the enumerations and records specific to nodes. Below these, you can see the functions of the interface."
   ]
  },
  {
   "cell_type": "markdown",
   "metadata": {},
   "source": [
    "![Functions](IAxisVMNodes_Functions.png)"
   ]
  },
  {
   "cell_type": "markdown",
   "metadata": {},
   "source": [
    "After all the functions, the documentation of the interface is finished by listing the properties of the interface."
   ]
  },
  {
   "cell_type": "markdown",
   "metadata": {},
   "source": [
    "![Properties](IAxisVMNodes_Properties.png)"
   ]
  },
  {
   "cell_type": "code",
   "execution_count": 16,
   "metadata": {},
   "outputs": [],
   "source": [
    "from axisvm.com.client import start_AxisVM\n",
    "axvm = start_AxisVM(visible=True, daemon=True)\n",
    "\n",
    "modelId = axvm.Models.New()\n",
    "model = axvm.Models[modelId]"
   ]
  },
  {
   "cell_type": "markdown",
   "metadata": {},
   "source": [
    "Right below the `Add` function, there is the `AddWithDOF`, with the following documentation:"
   ]
  },
  {
   "cell_type": "markdown",
   "metadata": {},
   "source": [
    "![Properties](IAxisVMNodes_AddWithDof.png)"
   ]
  },
  {
   "cell_type": "markdown",
   "metadata": {},
   "source": [
    "It tells, that the function needs to be called with specifying three scalar values and a fourth one specifying a DOF component. The enumeration `EDegreeOfFreedom` was listed at the beginning of the documentation of the interface."
   ]
  },
  {
   "cell_type": "code",
   "execution_count": 17,
   "metadata": {},
   "outputs": [],
   "source": [
    "from axisvm.com.tlb import dofFree\n",
    "id1 = model.Nodes.AddWithDOF(-1, -1, 0, dofFree)\n",
    "id2 = model.Nodes.AddWithDOF(1, -1, 0, dofFree)\n",
    "id3 = model.Nodes.AddWithDOF(1, 1, 0, dofFree)\n",
    "id4 = model.Nodes.AddWithDOF(-1, 1, 0, dofFree)"
   ]
  },
  {
   "cell_type": "code",
   "execution_count": 18,
   "metadata": {},
   "outputs": [
    {
     "data": {
      "image/png": "[encoded data removed]",
      "text/plain": [
       "<PIL.BmpImagePlugin.DibImageFile image mode=RGB size=1464x867>"
      ]
     },
     "execution_count": 18,
     "metadata": {},
     "output_type": "execute_result"
    }
   ],
   "source": [
    "axvm.BringToFront()\n",
    "model.FitInView()\n",
    "model.Windows[1].screenshot()"
   ]
  },
  {
   "cell_type": "markdown",
   "metadata": {},
   "source": [
    "After the session has ended, close the application by"
   ]
  },
  {
   "cell_type": "code",
   "execution_count": 19,
   "metadata": {},
   "outputs": [],
   "source": [
    "axvm.Quit()"
   ]
  }
 ],
 "metadata": {
  "kernelspec": {
   "display_name": "Python 3.8.10 ('.axisvm': venv)",
   "language": "python",
   "name": "python3"
  },
  "language_info": {
   "codemirror_mode": {
    "name": "ipython",
    "version": 3
   },
   "file_extension": ".py",
   "mimetype": "text/x-python",
   "name": "python",
   "nbconvert_exporter": "python",
   "pygments_lexer": "ipython3",
   "version": "3.8.10"
  },
  "orig_nbformat": 4,
  "vscode": {
   "interpreter": {
    "hash": "62a188e81264291779f8a10a2e0f1db6faba48499db9735822f5bbb24c067aef"
   }
  }
 },
 "nbformat": 4,
 "nbformat_minor": 2
}
