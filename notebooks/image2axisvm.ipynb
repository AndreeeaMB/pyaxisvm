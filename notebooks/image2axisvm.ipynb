{
 "cells": [
  {
   "cell_type": "code",
   "execution_count": 1,
   "metadata": {},
   "outputs": [],
   "source": [
    "import vtk\n",
    "from PIL import Image\n",
    "import os\n",
    "\n",
    "pngpath = \"f:\\\\GitHub\\\\pyaxisvm\\\\working\\\\1000.png\"\n",
    "filename, extension  = os.path.splitext(pngpath)\n",
    "pmgfile = \"{}.pgm\".format(filename)\n",
    "with Image.open(pngpath) as im:\n",
    "    im.save(pmgfile)\n",
    "\n",
    "imageIn = vtk.vtkPNMReader()\n",
    "imageIn.SetFileName(pmgfile)\n",
    "\n",
    "gaussian = vtk.vtkImageGaussianSmooth()\n",
    "gaussian.SetStandardDeviations(2, 2)\n",
    "gaussian.SetDimensionality(2)\n",
    "gaussian.SetRadiusFactors(1, 1)\n",
    "gaussian.SetInputConnection(imageIn.GetOutputPort())\n",
    "\n",
    "geometry = vtk.vtkImageDataGeometryFilter()\n",
    "geometry.SetInputConnection(gaussian.GetOutputPort())\n",
    "\n",
    "aClipper = vtk.vtkClipPolyData()\n",
    "aClipper.SetInputConnection(geometry.GetOutputPort())\n",
    "aClipper.SetValue(130)\n",
    "aClipper.GenerateClipScalarsOff()\n",
    "aClipper.InsideOutOn()\n",
    "aClipper.GetOutput().GetPointData().CopyScalarsOff()\n",
    "aClipper.Update()\n",
    "\n",
    "mapper = vtk.vtkPolyDataMapper()\n",
    "mapper.SetInputConnection(aClipper.GetOutputPort())\n",
    "mapper.ScalarVisibilityOff()\n",
    "\n",
    "letter = vtk.vtkActor()\n",
    "letter.SetMapper(mapper)"
   ]
  },
  {
   "cell_type": "code",
   "execution_count": 2,
   "metadata": {},
   "outputs": [],
   "source": [
    "def transformPolyData(actor):\n",
    "    polyData = vtk.vtkPolyData()\n",
    "    polyData.DeepCopy(actor.GetMapper().GetInput())\n",
    "    transform = vtk.vtkTransform()\n",
    "    transform.SetMatrix(actor.GetMatrix())\n",
    "    fil = vtk.vtkTransformPolyDataFilter()\n",
    "    fil.SetTransform(transform)\n",
    "    fil.SetInputDataObject(polyData)\n",
    "    fil.Update()\n",
    "    polyData.DeepCopy(fil.GetOutput())\n",
    "    return polyData"
   ]
  },
  {
   "cell_type": "code",
   "execution_count": 3,
   "metadata": {},
   "outputs": [],
   "source": [
    "import pyvista as pv\n",
    "from dewloosh.mesh.topo.tr import Q4_to_T3\n",
    "import numpy as np\n",
    "\n",
    "from dewloosh.mesh.tri.triutils import edges_tri\n",
    "from dewloosh.mesh.topo import unique_topo_data\n",
    "\n",
    "polydata = pv.wrap(transformPolyData(letter))\n",
    "mesh = pv.wrap(polydata).cast_to_unstructured_grid()\n",
    "\n",
    "coords = np.array(mesh.points)\n",
    "tri = []\n",
    "cells = mesh.cells_dict\n",
    "if 5 in cells:\n",
    "    tri.append(mesh.cells_dict[5])\n",
    "if 9 in cells:\n",
    "    _, triQ4 = Q4_to_T3(coords, mesh.cells_dict[9])\n",
    "    tri.append(triQ4)\n",
    "topo = np.vstack(tri)\n",
    "\n",
    "edges, edgeIDs = unique_topo_data(edges_tri(topo))\n",
    "edges += 1\n",
    "edgeIDs += 1"
   ]
  },
  {
   "cell_type": "code",
   "execution_count": 4,
   "metadata": {},
   "outputs": [
    {
     "data": {
      "text/plain": [
       "0"
      ]
     },
     "execution_count": 4,
     "metadata": {},
     "output_type": "execute_result"
    }
   ],
   "source": [
    "from axisvm.com.client import start_AxisVM\n",
    "axvm = start_AxisVM(visible=True, daemon=True)\n",
    "\n",
    "modelId = axvm.Models.New()\n",
    "axm = axvm.Models.Item[modelId]\n",
    "axm.Settings.EditingTolerance = -1\n",
    "wdir = \"\"\n",
    "\n",
    "from axisvm.com.tlb import RPoint3d\n",
    "foo = lambda x : RPoint3d(x=x[0], y=x[1], z=x[2])\n",
    "axm.BeginUpdate()\n",
    "axm.Nodes.BulkAdd(list(map(foo, coords)))\n",
    "axm.EndUpdate()\n",
    "\n",
    "from axisvm.com.tlb import lgtStraightLine, RLineData\n",
    "\n",
    "def gen_line(edge):\n",
    "    return RLineData(\n",
    "        NodeId1 = edge[0],\n",
    "        NodeId2 = edge[1],\n",
    "        GeomType = lgtStraightLine\n",
    "    )\n",
    "axm.BeginUpdate()\n",
    "axm.Lines.BulkAdd(list(map(gen_line, edges)))\n",
    "axm.EndUpdate()\n",
    "\n",
    "from axisvm.com.tlb import vTop\n",
    "axm.View = vTop\n",
    "axm.FitInView();\n",
    "\n",
    "from axisvm.com.tlb import ndcEuroCode\n",
    "axm.Settings.NationalDesignCode = ndcEuroCode\n",
    "matId = axm.Materials.AddFromCatalog(ndcEuroCode, \"S235\")\n",
    "\n",
    "from axisvm.com.tlb import RSurfaceAttr, lnlTensionAndCompression, \\\n",
    "    RResistancesXYZ, schLinear, stShell, RElasticFoundationXYZ, \\\n",
    "    RNonLinearityXYZ, RSurface\n",
    "    \n",
    "SurfaceAttr = RSurfaceAttr(\n",
    "    Thickness=1,\n",
    "    SurfaceType=stShell,\n",
    "    RefZId=0,\n",
    "    RefXId=0,\n",
    "    MaterialId=matId,\n",
    "    ElasticFoundation=RElasticFoundationXYZ(0, 0, 0),\n",
    "    NonLinearity=RNonLinearityXYZ(lnlTensionAndCompression,\n",
    "                                  lnlTensionAndCompression,\n",
    "                                  lnlTensionAndCompression),\n",
    "    Resistance=RResistancesXYZ(0, 0, 0),\n",
    "    Charactersitics=schLinear)\n",
    "\n",
    "def gen_surface(edges):\n",
    "    return RSurface(\n",
    "        N=3,\n",
    "        LineIndex1 = edges[0],\n",
    "        LineIndex2 = edges[1],\n",
    "        LineIndex3 = edges[2],\n",
    "        Attr = SurfaceAttr,\n",
    "        DomainIndex = 0\n",
    "    )\n",
    "axm.BeginUpdate()\n",
    "axm.Surfaces.BulkAdd(list(map(gen_surface, edgeIDs)))\n",
    "axm.EndUpdate()\n"
   ]
  },
  {
   "cell_type": "code",
   "execution_count": 24,
   "metadata": {},
   "outputs": [
    {
     "data": {
      "text/plain": [
       "180224"
      ]
     },
     "execution_count": 24,
     "metadata": {},
     "output_type": "execute_result"
    }
   ],
   "source": [
    "axm.Surfaces.Count"
   ]
  }
 ],
 "metadata": {
  "kernelspec": {
   "display_name": "Python 3.8.10 ('.venv': venv)",
   "language": "python",
   "name": "python3"
  },
  "language_info": {
   "codemirror_mode": {
    "name": "ipython",
    "version": 3
   },
   "file_extension": ".py",
   "mimetype": "text/x-python",
   "name": "python",
   "nbconvert_exporter": "python",
   "pygments_lexer": "ipython3",
   "version": "3.8.10"
  },
  "orig_nbformat": 4,
  "vscode": {
   "interpreter": {
    "hash": "40d25ec769e13e95ebfd1ec05f7c04c775f26d40144c28ce5090e24d5cd2071f"
   }
  }
 },
 "nbformat": 4,
 "nbformat_minor": 2
}
