{
 "cells": [
  {
   "cell_type": "markdown",
   "metadata": {},
   "source": [
    "# Build a Tetrahedra with Mixed Domains"
   ]
  },
  {
   "cell_type": "code",
   "execution_count": 1,
   "metadata": {},
   "outputs": [],
   "source": [
    "from axisvm.com.client import start_AxisVM\n",
    "axvm = start_AxisVM(visible=True, daemon=True)"
   ]
  },
  {
   "cell_type": "code",
   "execution_count": 2,
   "metadata": {},
   "outputs": [],
   "source": [
    "import axisvm.com.tlb as axtlb\n",
    "import numpy as np\n",
    "\n",
    "modelId = axvm.Models.New()\n",
    "axm = axvm.Models.Item[modelId]\n",
    "axm.Settings.NationalDesignCode = axtlb.ndcEuroCode\n",
    "wdir = \"\""
   ]
  },
  {
   "cell_type": "markdown",
   "metadata": {},
   "source": [
    "Custom Parts"
   ]
  },
  {
   "cell_type": "code",
   "execution_count": 3,
   "metadata": {},
   "outputs": [],
   "source": [
    "CustomParts = axm.CustomParts\n",
    "CustomPartsFolder = CustomParts.RootFolder\n",
    "i = CustomPartsFolder.AddSubFolder('tetra')\n",
    "Folder = CustomPartsFolder.SubFolder[i]\n",
    "face_1 = Folder.AddPart('face 1', [])[-1]\n",
    "face_2 = Folder.AddPart('face 2', [])[-1]\n",
    "face_3 = Folder.AddPart('face 3', [])[-1]\n",
    "face_4 = Folder.AddPart('face 4', [])[-1]"
   ]
  },
  {
   "cell_type": "markdown",
   "metadata": {},
   "source": [
    "Materials"
   ]
  },
  {
   "cell_type": "code",
   "execution_count": 4,
   "metadata": {},
   "outputs": [],
   "source": [
    "steel = axm.Materials.AddFromCatalog(axtlb.ndcEuroCode, \"S 235\")\n",
    "timber = axm.Materials.AddFromCatalog(axtlb.ndcEuroCode, \"C24\")\n",
    "xlam = axm.Materials.AddFromCatalog(axtlb.ndcEuroCode, \"XLAM\")\n",
    "concrete = axm.Materials.AddFromCatalog(axtlb.ndcEuroCode, \"C16/20\")"
   ]
  },
  {
   "cell_type": "markdown",
   "metadata": {},
   "source": [
    "Nodes"
   ]
  },
  {
   "cell_type": "code",
   "execution_count": 5,
   "metadata": {},
   "outputs": [],
   "source": [
    "# the plate is in the x-y plane\n",
    "coords = np.zeros((4, 3))  # we have four points in 3d space\n",
    "coords[0, :] = 0., 0., 0.\n",
    "coords[1, :] = 1., 0., 0.\n",
    "coords[2, :] = 0., 1., 0.\n",
    "coords[3, :] = 0., 0., 1.\n",
    "\n",
    "fnc = axm.Nodes.Add\n",
    "nodeIDs = list(map(lambda c: fnc(*c), coords))"
   ]
  },
  {
   "cell_type": "markdown",
   "metadata": {},
   "source": [
    "Lines"
   ]
  },
  {
   "cell_type": "code",
   "execution_count": 6,
   "metadata": {},
   "outputs": [],
   "source": [
    "nodes_of_lines = [[0, 1], [1, 2], [2, 0], \n",
    "                  [0, 3], [1, 3], [2, 3]]\n",
    "LineGeomType = axtlb.lgtStraightLine\n",
    "lineIDs = []\n",
    "for line in nodes_of_lines:\n",
    "    lineIDs.append(axm.Lines.Add(nodeIDs[line[0]], nodeIDs[line[1]],\n",
    "                   LineGeomType, axtlb.RLineGeomData())[1])"
   ]
  },
  {
   "cell_type": "markdown",
   "metadata": {},
   "source": [
    "Domain"
   ]
  },
  {
   "cell_type": "code",
   "execution_count": 7,
   "metadata": {},
   "outputs": [
    {
     "data": {
      "text/plain": [
       "-100023"
      ]
     },
     "execution_count": 7,
     "metadata": {},
     "output_type": "execute_result"
    }
   ],
   "source": [
    "from axisvm.com.tlb import RSurfaceAttr, lnlTensionAndCompression, \\\n",
    "    RResistancesXYZ, schLinear, stShell, RElasticFoundationXYZ, \\\n",
    "    RNonLinearityXYZ, xtldLocalX\n",
    "\n",
    "steel_surface = RSurfaceAttr(\n",
    "    Thickness=0.01,\n",
    "    SurfaceType=stShell,\n",
    "    RefZId=0,\n",
    "    RefXId=0,\n",
    "    MaterialId=steel,\n",
    "    ElasticFoundation=RElasticFoundationXYZ(0, 0, 0),\n",
    "    NonLinearity=RNonLinearityXYZ(lnlTensionAndCompression,\n",
    "                                  lnlTensionAndCompression,\n",
    "                                  lnlTensionAndCompression),\n",
    "    Resistance=RResistancesXYZ(0, 0, 0),\n",
    "    Charactersitics=schLinear)\n",
    "lines_steel = lineIDs[:3]\n",
    "domain_steel = axm.Domains.Add(LineIds=lines_steel, SurfaceAttr=steel_surface)[-1]\n",
    "\n",
    "timber_surface = RSurfaceAttr(\n",
    "    Thickness=0.01,\n",
    "    SurfaceType=stShell,\n",
    "    RefZId=0,\n",
    "    RefXId=0,\n",
    "    MaterialId=timber,\n",
    "    ElasticFoundation=RElasticFoundationXYZ(0, 0, 0),\n",
    "    NonLinearity=RNonLinearityXYZ(lnlTensionAndCompression,\n",
    "                                  lnlTensionAndCompression,\n",
    "                                  lnlTensionAndCompression),\n",
    "    Resistance=RResistancesXYZ(0, 0, 0),\n",
    "    Charactersitics=schLinear)\n",
    "lines_timber = [lineIDs[i] for i in [0, 4, 3]]\n",
    "domain_timber = axm.Domains.Add(LineIds=lines_timber, SurfaceAttr=timber_surface)[-1]\n",
    "\n",
    "concrete_surface = RSurfaceAttr(\n",
    "    Thickness=0.01,\n",
    "    SurfaceType=stShell,\n",
    "    RefZId=0,\n",
    "    RefXId=0,\n",
    "    MaterialId=concrete,\n",
    "    ElasticFoundation=RElasticFoundationXYZ(0, 0, 0),\n",
    "    NonLinearity=RNonLinearityXYZ(lnlTensionAndCompression,\n",
    "                                  lnlTensionAndCompression,\n",
    "                                  lnlTensionAndCompression),\n",
    "    Resistance=RResistancesXYZ(0, 0, 0),\n",
    "    Charactersitics=schLinear)\n",
    "lines_concrete = [lineIDs[i] for i in [1, 5, 4]]\n",
    "domain_concrete = axm.Domains.Add(LineIds=lines_concrete, SurfaceAttr=concrete_surface)[-1]\n",
    "\n",
    "xlam_surface = RSurfaceAttr(\n",
    "    Thickness=0.01,\n",
    "    SurfaceType=stShell,\n",
    "    RefZId=0,\n",
    "    RefXId=0,\n",
    "    MaterialId=xlam,\n",
    "    ElasticFoundation=RElasticFoundationXYZ(0, 0, 0),\n",
    "    NonLinearity=RNonLinearityXYZ(lnlTensionAndCompression,\n",
    "                                  lnlTensionAndCompression,\n",
    "                                  lnlTensionAndCompression),\n",
    "    Resistance=RResistancesXYZ(0, 0, 0),\n",
    "    Charactersitics=schLinear)\n",
    "lines_xlam = [lineIDs[i] for i in [2, 3, 5]]\n",
    "domain_xlam = axm.Domains.Add(LineIds=lines_xlam, SurfaceAttr=xlam_surface)[-1]\n",
    "xlam_panel = axm.XLAMPanels.AddFromCatalog('Binderholz', '3(90)')\n",
    "axm.Domains.SetXLAMParameters(domain_xlam, xlam_panel, xtldLocalX)"
   ]
  },
  {
   "cell_type": "code",
   "execution_count": 8,
   "metadata": {},
   "outputs": [
    {
     "data": {
      "text/plain": [
       "[(<comtypes.gen._0AA46C32_04EF_46E3_B0E4_D2DA28D0AB08_0_16_100.RPartItem at 0x20c1a65a440>,),\n",
       " 1]"
      ]
     },
     "execution_count": 8,
     "metadata": {},
     "output_type": "execute_result"
    }
   ],
   "source": [
    "from axisvm.com.tlb import RPartItem, pitDomain\n",
    "\n",
    "Folder.AddPartItemsToPart(face_1, [RPartItem(ItemType=pitDomain, Id=domain_steel)])\n",
    "Folder.AddPartItemsToPart(face_2, [RPartItem(ItemType=pitDomain, Id=domain_timber)])\n",
    "Folder.AddPartItemsToPart(face_3, [RPartItem(ItemType=pitDomain, Id=domain_concrete)])\n",
    "Folder.AddPartItemsToPart(face_4, [RPartItem(ItemType=pitDomain, Id=domain_xlam)])"
   ]
  },
  {
   "cell_type": "markdown",
   "metadata": {},
   "source": [
    "Loads"
   ]
  },
  {
   "cell_type": "code",
   "execution_count": 9,
   "metadata": {},
   "outputs": [],
   "source": [
    "from axisvm.com.tlb import RPartItem, lgtPermanent, lgtIncidental, gctExclusive\n",
    "\n",
    "load_group_G = axm.LoadGroups.Add('LG0', lgtPermanent, True, gctExclusive)\n",
    "load_group_1 = axm.LoadGroups.Add('LG1', lgtIncidental, True, gctExclusive)\n",
    "load_group_2 = axm.LoadGroups.Add('LG2', lgtIncidental, True, gctExclusive)\n",
    "load_group_3 = axm.LoadGroups.Add('LG3', lgtIncidental, True, gctExclusive)\n",
    "load_group_4 = axm.LoadGroups.Add('LG4', lgtIncidental, True, gctExclusive)"
   ]
  },
  {
   "cell_type": "code",
   "execution_count": 10,
   "metadata": {},
   "outputs": [],
   "source": [
    "from axisvm.com.tlb import lctStandard\n",
    "\n",
    "load_case_G = axm.LoadCases.AddWithGroup('LCG', lctStandard, load_group_G)\n",
    "load_case_1 = axm.LoadCases.AddWithGroup('LC1', lctStandard, load_group_1)\n",
    "load_case_2 = axm.LoadCases.AddWithGroup('LC2', lctStandard, load_group_2)\n",
    "load_case_3 = axm.LoadCases.AddWithGroup('LC3', lctStandard, load_group_3)\n",
    "load_case_4 = axm.LoadCases.AddWithGroup('LC4', lctStandard, load_group_4)"
   ]
  },
  {
   "cell_type": "code",
   "execution_count": 11,
   "metadata": {},
   "outputs": [
    {
     "data": {
      "text/plain": [
       "[<comtypes.gen._0AA46C32_04EF_46E3_B0E4_D2DA28D0AB08_0_16_100.RLoadDomainConstant at 0x20c1a678640>,\n",
       " 4]"
      ]
     },
     "execution_count": 11,
     "metadata": {},
     "output_type": "execute_result"
    }
   ],
   "source": [
    "from axisvm.com.tlb import RLoadDomainConstant, sddtSurface, sysLocal\n",
    "\n",
    "LoadDomainConstant = RLoadDomainConstant(\n",
    "    LoadCaseId=load_case_1, DomainId=domain_steel,\n",
    "    qx=0, qy=0, qz=-1,\n",
    "    DistributionType=sddtSurface, SystemGLR=sysLocal\n",
    ")\n",
    "axm.Loads.AddDomainConstant(LoadDomainConstant)\n",
    "\n",
    "LoadDomainConstant = RLoadDomainConstant(\n",
    "    LoadCaseId=load_case_2, DomainId=domain_timber,\n",
    "    qx=0, qy=0, qz=-1,\n",
    "    DistributionType=sddtSurface, SystemGLR=sysLocal\n",
    ")\n",
    "axm.Loads.AddDomainConstant(LoadDomainConstant)\n",
    "\n",
    "LoadDomainConstant = RLoadDomainConstant(\n",
    "    LoadCaseId=load_case_3, DomainId=domain_concrete,\n",
    "    qx=0, qy=0, qz=-1,\n",
    "    DistributionType=sddtSurface, SystemGLR=sysLocal\n",
    ")\n",
    "axm.Loads.AddDomainConstant(LoadDomainConstant)\n",
    "\n",
    "LoadDomainConstant = RLoadDomainConstant(\n",
    "    LoadCaseId=load_case_4, DomainId=domain_xlam,\n",
    "    qx=0, qy=0, qz=-1,\n",
    "    DistributionType=sddtSurface, SystemGLR=sysLocal\n",
    ")\n",
    "axm.Loads.AddDomainConstant(LoadDomainConstant)"
   ]
  },
  {
   "cell_type": "code",
   "execution_count": 12,
   "metadata": {},
   "outputs": [],
   "source": [
    "from axisvm.com.tlb import ctULS1\n",
    "\n",
    "caseIDs = [load_case_G, load_case_1, load_case_2, load_case_3, load_case_4]\n",
    "nC = len(caseIDs)\n",
    "\n",
    "for i in range(10):\n",
    "    factors = np.random.rand(nC)\n",
    "    name = 'Combination {}'.format(i+1)\n",
    "    axm.LoadCombinations.Add(name, ctULS1, factors, caseIDs)\n"
   ]
  },
  {
   "cell_type": "markdown",
   "metadata": {},
   "source": [
    "Supports"
   ]
  },
  {
   "cell_type": "code",
   "execution_count": 13,
   "metadata": {},
   "outputs": [],
   "source": [
    "spring = axtlb.RStiffnesses(x=1e12, y=1e12, z=1e12, xx=0, yy=0, zz=0)\n",
    "RNonLinearity = axtlb.RNonLinearity(\n",
    "    x=axtlb.lnlTensionAndCompression,\n",
    "    y=axtlb.lnlTensionAndCompression,\n",
    "    z=axtlb.lnlTensionAndCompression,\n",
    "    xx=axtlb.lnlTensionAndCompression,\n",
    "    yy=axtlb.lnlTensionAndCompression,\n",
    "    zz=axtlb.lnlTensionAndCompression\n",
    ")\n",
    "RResistances = axtlb.RResistances(x=0, y=0, z=0, xx=0, yy=0, zz=0)\n",
    "for id in nodeIDs:\n",
    "    axm.NodalSupports.AddNodalGlobal(spring, RNonLinearity, RResistances, id)"
   ]
  },
  {
   "cell_type": "markdown",
   "metadata": {},
   "source": [
    "Meshing"
   ]
  },
  {
   "cell_type": "code",
   "execution_count": 14,
   "metadata": {},
   "outputs": [
    {
     "data": {
      "text/plain": [
       "[<comtypes.gen._0AA46C32_04EF_46E3_B0E4_D2DA28D0AB08_0_16_100.RDomainMeshParameters at 0x20c1a670ec0>,\n",
       " (),\n",
       " (),\n",
       " (),\n",
       " 4]"
      ]
     },
     "execution_count": 14,
     "metadata": {},
     "output_type": "execute_result"
    }
   ],
   "source": [
    "MeshParams = axtlb.RDomainMeshParameters(\n",
    "    MeshSize=0.1,\n",
    "    MeshType=axtlb.mtUniform,\n",
    "    MeshGeometryType=axtlb.mgtTriangle\n",
    ")\n",
    "axm.Domains[domain_steel].GenerateMesh(MeshParams)\n",
    "\n",
    "MeshParams = axtlb.RDomainMeshParameters(\n",
    "    MeshSize=0.1,\n",
    "    MeshType=axtlb.mtAdaptive,\n",
    "    MeshGeometryType=axtlb.mgtTriangle\n",
    ")\n",
    "axm.Domains[domain_timber].GenerateMesh(MeshParams)\n",
    "\n",
    "MeshParams = axtlb.RDomainMeshParameters(\n",
    "    MeshSize=0.1,\n",
    "    MeshType=axtlb.mtAdaptive,\n",
    "    MeshGeometryType=axtlb.mgtMixedQuadTriangle\n",
    ")\n",
    "axm.Domains[domain_concrete].GenerateMesh(MeshParams)\n",
    "\n",
    "MeshParams = axtlb.RDomainMeshParameters(\n",
    "    MeshSize=0.1,\n",
    "    MeshType=axtlb.mtAdaptive,\n",
    "    MeshGeometryType=axtlb.mgtMixedQuadTriangle\n",
    ")\n",
    "axm.Domains[domain_xlam].GenerateMesh(MeshParams)\n"
   ]
  },
  {
   "cell_type": "markdown",
   "metadata": {},
   "source": [
    "Calculate"
   ]
  },
  {
   "cell_type": "code",
   "execution_count": 15,
   "metadata": {},
   "outputs": [
    {
     "data": {
      "text/plain": [
       "0"
      ]
     },
     "execution_count": 15,
     "metadata": {},
     "output_type": "execute_result"
    }
   ],
   "source": [
    "fpath = 'tetrahedra.axs'\n",
    "axm.SaveToFile(fpath, False)\n",
    "axm.Calculation.LinearAnalysis(axtlb.cuiNoUserInteractionWithAutoCorrectNoShow)"
   ]
  },
  {
   "cell_type": "code",
   "execution_count": 16,
   "metadata": {},
   "outputs": [
    {
     "data": {
      "image/png": "[encoded data removed]",
      "text/plain": [
       "<PIL.BmpImagePlugin.DibImageFile image mode=RGB size=1464x867>"
      ]
     },
     "execution_count": 16,
     "metadata": {},
     "output_type": "execute_result"
    }
   ],
   "source": [
    "from axisvm.com.tlb import vTop, mftGeometry\n",
    "axvm.BringToFront()\n",
    "axm.View = vTop\n",
    "axvm.MainFormTab = mftGeometry\n",
    "axm.FitInView()\n",
    "axm.Windows[1].screenshot()"
   ]
  },
  {
   "cell_type": "code",
   "execution_count": 17,
   "metadata": {},
   "outputs": [],
   "source": [
    "axvm.Quit()"
   ]
  }
 ],
 "metadata": {
  "kernelspec": {
   "display_name": "Python 3.8.10 ('.axisvm': venv)",
   "language": "python",
   "name": "python3"
  },
  "language_info": {
   "codemirror_mode": {
    "name": "ipython",
    "version": 3
   },
   "file_extension": ".py",
   "mimetype": "text/x-python",
   "name": "python",
   "nbconvert_exporter": "python",
   "pygments_lexer": "ipython3",
   "version": "3.8.10"
  },
  "orig_nbformat": 4,
  "vscode": {
   "interpreter": {
    "hash": "75f801d42fddfbedd62bf9fb9562c0e8fb7997dfe614b782ff1e1c11b6f734f0"
   }
  }
 },
 "nbformat": 4,
 "nbformat_minor": 2
}
