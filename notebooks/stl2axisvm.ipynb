{
 "cells": [
  {
   "cell_type": "markdown",
   "metadata": {},
   "source": [
    "# Complex Workflow with AxisVM and VTK"
   ]
  },
  {
   "cell_type": "code",
   "execution_count": null,
   "metadata": {},
   "outputs": [],
   "source": [
    "from axisvm.com.client import start_AxisVM\n",
    "axvm = start_AxisVM(visible=True, daemon=True)"
   ]
  },
  {
   "cell_type": "code",
   "execution_count": 5,
   "metadata": {},
   "outputs": [],
   "source": [
    "from axisvm import examples\n",
    "import pyvista as pv\n",
    "import numpy as np\n",
    "\n",
    "from sigmaepsilon.mesh.tri.triutils import edges_tri\n",
    "from sigmaepsilon.mesh.topo import unique_topo_data, detach\n",
    "\n",
    "vtkpath = examples.download_stand_vtk()\n",
    "mesh = pv.read(vtkpath).cast_to_unstructured_grid().extract_surface().cast_to_unstructured_grid()\n",
    "coords = mesh.points / 1000\n",
    "topo = np.array(mesh.cells_dict[5], dtype=int)\n",
    "\n",
    "edges, edgeIDs = unique_topo_data(edges_tri(topo))\n",
    "edges += 1\n",
    "edgeIDs += 1"
   ]
  },
  {
   "cell_type": "code",
   "execution_count": 7,
   "metadata": {},
   "outputs": [
    {
     "data": {
      "text/plain": [
       "0"
      ]
     },
     "execution_count": 7,
     "metadata": {},
     "output_type": "execute_result"
    }
   ],
   "source": [
    "modelId = axvm.Models.New()\n",
    "axm = axvm.Models.Item[modelId]\n",
    "axm.Settings.EditingTolerance = -1\n",
    "wdir = \"\"\n",
    "\n",
    "from axisvm.com.tlb import RPoint3d\n",
    "foo = lambda x : RPoint3d(x=x[0], y=x[1], z=x[2])\n",
    "axm.BeginUpdate()\n",
    "axm.Nodes.BulkAdd(list(map(foo, coords)))\n",
    "axm.EndUpdate()\n",
    "\n",
    "from axisvm.com.tlb import lgtStraightLine, RLineData\n",
    "\n",
    "def gen_line(edge):\n",
    "    return RLineData(\n",
    "        NodeId1 = edge[0],\n",
    "        NodeId2 = edge[1],\n",
    "        GeomType = lgtStraightLine\n",
    "    )\n",
    "    \n",
    "axm.BeginUpdate()\n",
    "axm.Lines.BulkAdd(list(map(gen_line, edges)))\n",
    "axm.EndUpdate()\n",
    "\n",
    "from axisvm.com.tlb import vFront\n",
    "axm.View = vFront\n",
    "axm.FitInView()\n",
    "\n",
    "from axisvm.com.tlb import ndcEuroCode\n",
    "axm.Settings.NationalDesignCode = ndcEuroCode\n",
    "matId = axm.Materials.AddFromCatalog(ndcEuroCode, \"S 235\")\n",
    "\n",
    "from axisvm.com.tlb import RSurfaceAttr, lnlTensionAndCompression, \\\n",
    "    RResistancesXYZ, schLinear, stShell, RElasticFoundationXYZ, \\\n",
    "    RNonLinearityXYZ, RSurface\n",
    "    \n",
    "SurfaceAttr = RSurfaceAttr(\n",
    "    Thickness=1,\n",
    "    SurfaceType=stShell,\n",
    "    RefZId=0,\n",
    "    RefXId=0,\n",
    "    MaterialId=matId,\n",
    "    ElasticFoundation=RElasticFoundationXYZ(0, 0, 0),\n",
    "    NonLinearity=RNonLinearityXYZ(lnlTensionAndCompression,\n",
    "                                  lnlTensionAndCompression,\n",
    "                                  lnlTensionAndCompression),\n",
    "    Resistance=RResistancesXYZ(0, 0, 0),\n",
    "    Charactersitics=schLinear)\n",
    "\n",
    "def gen_surface(edges):\n",
    "    return RSurface(\n",
    "        N=3,\n",
    "        LineIndex1 = edges[0],\n",
    "        LineIndex2 = edges[1],\n",
    "        LineIndex3 = edges[2],\n",
    "        Attr = SurfaceAttr,\n",
    "        DomainIndex = 0\n",
    "    )\n",
    "axm.BeginUpdate()\n",
    "axm.Surfaces.BulkAdd(list(map(gen_surface, edgeIDs)))\n",
    "axm.EndUpdate()\n"
   ]
  },
  {
   "cell_type": "markdown",
   "metadata": {},
   "source": [
    "Select points of action"
   ]
  },
  {
   "cell_type": "code",
   "execution_count": 3,
   "metadata": {},
   "outputs": [],
   "source": [
    "axvm.BringToFront()\n",
    "nodes_f = axm.Nodes.select_IDs(msg='Select nodes where nodal loads are to be imposed!')\n",
    "nodes_u = axm.Nodes.select_IDs(msg='Select nodes where displacement penalties are to be enforced!')"
   ]
  },
  {
   "cell_type": "code",
   "execution_count": 4,
   "metadata": {},
   "outputs": [],
   "source": [
    "\"\"\"coords = axm.coordinates()\n",
    "topo = axm.Surfaces.topology()\"\"\""
   ]
  },
  {
   "cell_type": "code",
   "execution_count": 6,
   "metadata": {},
   "outputs": [],
   "source": [
    "\"\"\"import tetgen\n",
    "tet = tetgen.TetGen(coords, topo)\n",
    "tet.tetrahedralize(order=1, mindihedral=10, minratio=1.1, quality=True)\n",
    "grid = tet.grid\n",
    "coords = np.array(grid.points).astype(float)\n",
    "topo = grid.cells_dict[10].astype(int)\"\"\""
   ]
  },
  {
   "cell_type": "code",
   "execution_count": null,
   "metadata": {},
   "outputs": [],
   "source": [
    "from sigmaepsilon.solid import Structure, PointData, FemMesh\n",
    "from sigmaepsilon.mesh.space import StandardFrame\n",
    "from sigmaepsilon.solid.fem.cells import TET4 as CellData\n",
    "from sigmaepsilon.math.array import repeat\n",
    "\n",
    "GlobalFrame = StandardFrame(dim=3)\n",
    "\n",
    "# essential bc\n",
    "fixity = np.zeros((coords.shape[0], 6), dtype=bool)\n",
    "fixity[nodes_u, :3] = True\n",
    "fixity[:, 3:] = True\n",
    "\n",
    "# natural bc\n",
    "F = 10\n",
    "loads = np.zeros((coords.shape[0], 6))\n",
    "loads[nodes_f, 2] = True\n",
    "\n",
    "# pointdata\n",
    "pd = PointData(coords=coords, frame=GlobalFrame,\n",
    "               loads=loads, fixity=fixity)\n",
    "\n",
    "# celldata\n",
    "frames = repeat(GlobalFrame.show(), topo.shape[0])\n",
    "cd = CellData(topo=topo, frames=frames)\n",
    "\n",
    "# set up mesh and structure\n",
    "E = 12000.\n",
    "nu = 0.2\n",
    "A = np.array([\n",
    "    [1, nu, nu, 0, 0, 0], \n",
    "    [nu, 1, nu, 0, 0, 0],\n",
    "    [nu, nu, 1, 0, 0, 0], \n",
    "    [0., 0, 0, (1-nu)/2, 0, 0],\n",
    "    [0., 0, 0, 0, (1-nu)/2, 0],\n",
    "    [0., 0, 0, 0, 0, (1-nu)/2]]) * (E / (1-nu**2))\n",
    "\n",
    "mesh = FemMesh(pd, cd, model=A, frame=GlobalFrame)\n",
    "\n",
    "structure = Structure(mesh=mesh)"
   ]
  },
  {
   "cell_type": "code",
   "execution_count": null,
   "metadata": {},
   "outputs": [],
   "source": []
  }
 ],
 "metadata": {
  "kernelspec": {
   "display_name": "Python 3.8.10 ('.venv': venv)",
   "language": "python",
   "name": "python3"
  },
  "language_info": {
   "codemirror_mode": {
    "name": "ipython",
    "version": 3
   },
   "file_extension": ".py",
   "mimetype": "text/x-python",
   "name": "python",
   "nbconvert_exporter": "python",
   "pygments_lexer": "ipython3",
   "version": "3.8.10"
  },
  "orig_nbformat": 4,
  "vscode": {
   "interpreter": {
    "hash": "81af22673e51a55db93ad07d3dd2d272490ff9da1a60e01b8f0931d11d215c80"
   }
  }
 },
 "nbformat": 4,
 "nbformat_minor": 2
}
