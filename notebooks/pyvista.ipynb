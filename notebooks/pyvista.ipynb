{
 "cells": [
  {
   "cell_type": "code",
   "execution_count": 1,
   "metadata": {},
   "outputs": [],
   "source": [
    "from axisvm.com.client import start_AxisVM\n",
    "axvm = start_AxisVM(visible=True, daemon=True)"
   ]
  },
  {
   "cell_type": "code",
   "execution_count": 2,
   "metadata": {},
   "outputs": [],
   "source": [
    "import numpy as np\n",
    "from pyvista import examples\n",
    "bunny = examples.download_bunny_coarse().cast_to_unstructured_grid()\n",
    "coords = bunny.points\n",
    "coords *= 100\n",
    "topo = np.array(bunny.cells_dict[5], dtype=int)"
   ]
  },
  {
   "cell_type": "code",
   "execution_count": 3,
   "metadata": {},
   "outputs": [],
   "source": [
    "from polymesh.tri.triutils import edges_tri\n",
    "from polymesh.topo import unique_topo_data\n",
    "edges, edgeIDs = unique_topo_data(edges_tri(topo))\n",
    "edges += 1\n",
    "edgeIDs += 1"
   ]
  },
  {
   "cell_type": "code",
   "execution_count": 4,
   "metadata": {},
   "outputs": [],
   "source": [
    "modelId = axvm.Models.New()\n",
    "axm = axvm.Models.Item[modelId]\n",
    "axm.Settings.EditingTolerance = -1\n",
    "wdir = \"\""
   ]
  },
  {
   "cell_type": "markdown",
   "metadata": {},
   "source": [
    "Add nodes"
   ]
  },
  {
   "cell_type": "code",
   "execution_count": 5,
   "metadata": {},
   "outputs": [
    {
     "data": {
      "text/plain": [
       "0"
      ]
     },
     "execution_count": 5,
     "metadata": {},
     "output_type": "execute_result"
    }
   ],
   "source": [
    "from axisvm.com.tlb import RPoint3d\n",
    "foo = lambda x : RPoint3d(x=x[0], y=x[1], z=x[2])\n",
    "axm.BeginUpdate()\n",
    "axm.Nodes.BulkAdd(list(map(foo, coords)))\n",
    "axm.EndUpdate()"
   ]
  },
  {
   "cell_type": "markdown",
   "metadata": {},
   "source": [
    "Add edges"
   ]
  },
  {
   "cell_type": "code",
   "execution_count": 6,
   "metadata": {},
   "outputs": [
    {
     "data": {
      "text/plain": [
       "0"
      ]
     },
     "execution_count": 6,
     "metadata": {},
     "output_type": "execute_result"
    }
   ],
   "source": [
    "from axisvm.com.tlb import lgtStraightLine, RLineData\n",
    "\n",
    "def gen_line(edge):\n",
    "    return RLineData(\n",
    "        NodeId1 = edge[0],\n",
    "        NodeId2 = edge[1],\n",
    "        GeomType = lgtStraightLine\n",
    "    )\n",
    "axm.BeginUpdate()\n",
    "axm.Lines.BulkAdd(list(map(gen_line, edges)))\n",
    "axm.EndUpdate()"
   ]
  },
  {
   "cell_type": "code",
   "execution_count": 7,
   "metadata": {},
   "outputs": [],
   "source": [
    "from axisvm.com.tlb import vTop\n",
    "axm.View = vTop\n",
    "axm.FitInView();"
   ]
  },
  {
   "cell_type": "code",
   "execution_count": 8,
   "metadata": {},
   "outputs": [],
   "source": [
    "from axisvm.com.tlb import ndcEuroCode\n",
    "axm.Settings.NationalDesignCode = ndcEuroCode\n",
    "matId = axm.Materials.AddFromCatalog(ndcEuroCode, \"C16/20\")"
   ]
  },
  {
   "cell_type": "code",
   "execution_count": 9,
   "metadata": {},
   "outputs": [
    {
     "data": {
      "text/plain": [
       "0"
      ]
     },
     "execution_count": 9,
     "metadata": {},
     "output_type": "execute_result"
    }
   ],
   "source": [
    "from axisvm.com.tlb import RSurfaceAttr, lnlTensionAndCompression, \\\n",
    "    RResistancesXYZ, schLinear, stShell, RElasticFoundationXYZ, \\\n",
    "    RNonLinearityXYZ, RSurface\n",
    "\n",
    "SurfaceAttr = RSurfaceAttr(\n",
    "    Thickness=0.1,\n",
    "    SurfaceType=stShell,\n",
    "    RefZId=0,\n",
    "    RefXId=0,\n",
    "    MaterialId=matId,\n",
    "    ElasticFoundation=RElasticFoundationXYZ(0, 0, 0),\n",
    "    NonLinearity=RNonLinearityXYZ(lnlTensionAndCompression,\n",
    "                                  lnlTensionAndCompression,\n",
    "                                  lnlTensionAndCompression),\n",
    "    Resistance=RResistancesXYZ(0, 0, 0),\n",
    "    Charactersitics=schLinear)\n",
    "\n",
    "def gen_surface(edges):\n",
    "    return RSurface(\n",
    "        N=3,\n",
    "        LineIndex1 = edges[0],\n",
    "        LineIndex2 = edges[1],\n",
    "        LineIndex3 = edges[2],\n",
    "        Attr = SurfaceAttr,\n",
    "        DomainIndex = 0\n",
    "    )\n",
    "axm.BeginUpdate()\n",
    "axm.Surfaces.BulkAdd(list(map(gen_surface, edgeIDs)))\n",
    "axm.EndUpdate()"
   ]
  }
 ],
 "metadata": {
  "kernelspec": {
   "display_name": "Python 3.8.10 ('.axisvm': venv)",
   "language": "python",
   "name": "python3"
  },
  "language_info": {
   "codemirror_mode": {
    "name": "ipython",
    "version": 3
   },
   "file_extension": ".py",
   "mimetype": "text/x-python",
   "name": "python",
   "nbconvert_exporter": "python",
   "pygments_lexer": "ipython3",
   "version": "3.8.10"
  },
  "orig_nbformat": 4,
  "vscode": {
   "interpreter": {
    "hash": "75f801d42fddfbedd62bf9fb9562c0e8fb7997dfe614b782ff1e1c11b6f734f0"
   }
  }
 },
 "nbformat": 4,
 "nbformat_minor": 2
}
