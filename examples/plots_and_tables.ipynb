{
 "cells": [
  {
   "cell_type": "markdown",
   "metadata": {},
   "source": [
    "# **Plots and Tables**"
   ]
  },
  {
   "cell_type": "code",
   "execution_count": 1,
   "metadata": {},
   "outputs": [],
   "source": [
    "from axisvm.com.client import start_AxisVM\n",
    "axvm = start_AxisVM(visible=True, daemon=True)"
   ]
  },
  {
   "cell_type": "code",
   "execution_count": 2,
   "metadata": {},
   "outputs": [],
   "source": [
    "import axisvm.com.tlb as axtlb\n",
    "from axisvm import examples"
   ]
  },
  {
   "cell_type": "markdown",
   "metadata": {},
   "source": [
    "## AxisVM"
   ]
  },
  {
   "cell_type": "code",
   "execution_count": 3,
   "metadata": {},
   "outputs": [],
   "source": [
    "axvm.model = examples.download_bernoulli_grid()"
   ]
  },
  {
   "cell_type": "code",
   "execution_count": 4,
   "metadata": {},
   "outputs": [
    {
     "data": {
      "text/plain": [
       "[<comtypes.gen._0AA46C32_04EF_46E3_B0E4_D2DA28D0AB08_0_16_100.RGridOptions at 0x144e86b5540>,\n",
       " 1]"
      ]
     },
     "execution_count": 4,
     "metadata": {},
     "output_type": "execute_result"
    }
   ],
   "source": [
    "axm = axvm.model\n",
    "axm.Calculation.LinearAnalysis()\n",
    "\n",
    "# turn off the grid\n",
    "GridOptions = axtlb.RGridOptions(DisplayGrid=False)\n",
    "axm.Settings.SetGridOptions(GridOptions)"
   ]
  },
  {
   "cell_type": "code",
   "execution_count": 5,
   "metadata": {},
   "outputs": [
    {
     "data": {
      "image/png": "[encoded data removed]",
      "text/plain": [
       "<PIL.BmpImagePlugin.DibImageFile image mode=RGB size=905x721>"
      ]
     },
     "execution_count": 5,
     "metadata": {},
     "output_type": "execute_result"
    }
   ],
   "source": [
    "axvm.BringToFront()\n",
    "axm.View = axtlb.vFront\n",
    "axvm.MainFormTab = axtlb.mftGeometry\n",
    "axm.FitInView()\n",
    "axm.Windows[1].screenshot()"
   ]
  },
  {
   "cell_type": "code",
   "execution_count": 6,
   "metadata": {},
   "outputs": [
    {
     "data": {
      "text/html": [
       "<div>\n",
       "<style scoped>\n",
       "    .dataframe tbody tr th:only-of-type {\n",
       "        vertical-align: middle;\n",
       "    }\n",
       "\n",
       "    .dataframe tbody tr th {\n",
       "        vertical-align: top;\n",
       "    }\n",
       "\n",
       "    .dataframe thead th {\n",
       "        text-align: right;\n",
       "    }\n",
       "</style>\n",
       "<table border=\"1\" class=\"dataframe\">\n",
       "  <thead>\n",
       "    <tr style=\"text-align: right;\">\n",
       "      <th></th>\n",
       "      <th>NodeId1</th>\n",
       "      <th>NodeId2</th>\n",
       "      <th>GeomType</th>\n",
       "    </tr>\n",
       "  </thead>\n",
       "  <tbody>\n",
       "    <tr>\n",
       "      <th>0</th>\n",
       "      <td>1</td>\n",
       "      <td>2</td>\n",
       "      <td>StraightLine</td>\n",
       "    </tr>\n",
       "    <tr>\n",
       "      <th>1</th>\n",
       "      <td>1</td>\n",
       "      <td>6</td>\n",
       "      <td>StraightLine</td>\n",
       "    </tr>\n",
       "    <tr>\n",
       "      <th>2</th>\n",
       "      <td>1</td>\n",
       "      <td>26</td>\n",
       "      <td>StraightLine</td>\n",
       "    </tr>\n",
       "    <tr>\n",
       "      <th>3</th>\n",
       "      <td>2</td>\n",
       "      <td>3</td>\n",
       "      <td>StraightLine</td>\n",
       "    </tr>\n",
       "    <tr>\n",
       "      <th>4</th>\n",
       "      <td>2</td>\n",
       "      <td>7</td>\n",
       "      <td>StraightLine</td>\n",
       "    </tr>\n",
       "    <tr>\n",
       "      <th>...</th>\n",
       "      <td>...</td>\n",
       "      <td>...</td>\n",
       "      <td>...</td>\n",
       "    </tr>\n",
       "    <tr>\n",
       "      <th>759</th>\n",
       "      <td>309</td>\n",
       "      <td>337</td>\n",
       "      <td>StraightLine</td>\n",
       "    </tr>\n",
       "    <tr>\n",
       "      <th>760</th>\n",
       "      <td>257</td>\n",
       "      <td>338</td>\n",
       "      <td>StraightLine</td>\n",
       "    </tr>\n",
       "    <tr>\n",
       "      <th>761</th>\n",
       "      <td>276</td>\n",
       "      <td>338</td>\n",
       "      <td>StraightLine</td>\n",
       "    </tr>\n",
       "    <tr>\n",
       "      <th>762</th>\n",
       "      <td>298</td>\n",
       "      <td>338</td>\n",
       "      <td>StraightLine</td>\n",
       "    </tr>\n",
       "    <tr>\n",
       "      <th>763</th>\n",
       "      <td>291</td>\n",
       "      <td>338</td>\n",
       "      <td>StraightLine</td>\n",
       "    </tr>\n",
       "  </tbody>\n",
       "</table>\n",
       "<p>764 rows × 3 columns</p>\n",
       "</div>"
      ],
      "text/plain": [
       "     NodeId1  NodeId2      GeomType\n",
       "0          1        2  StraightLine\n",
       "1          1        6  StraightLine\n",
       "2          1       26  StraightLine\n",
       "3          2        3  StraightLine\n",
       "4          2        7  StraightLine\n",
       "..       ...      ...           ...\n",
       "759      309      337  StraightLine\n",
       "760      257      338  StraightLine\n",
       "761      276      338  StraightLine\n",
       "762      298      338  StraightLine\n",
       "763      291      338  StraightLine\n",
       "\n",
       "[764 rows x 3 columns]"
      ]
     },
     "execution_count": 6,
     "metadata": {},
     "output_type": "execute_result"
    }
   ],
   "source": [
    "axm.Lines.get_line_data(fields=['NodeId1', 'NodeId2', 'GeomType']).to_pandas()"
   ]
  },
  {
   "cell_type": "code",
   "execution_count": 7,
   "metadata": {},
   "outputs": [
    {
     "data": {
      "application/vnd.plotly.v1+json": {
       "config": {
        "plotlyServerURL": "https://plot.ly"
       },
       "data": [
        {
         "cells": {
          "values": [
           [
            1,
            1,
            1,
            2,
            2,
            2,
            3,
            3,
            3,
            4,
            4,
            4,
            5,
            5,
            6,
            6,
            6,
            7,
            7,
            7,
            8,
            8,
            8,
            9,
            9,
            9,
            10,
            10,
            11,
            11,
            11,
            12,
            12,
            12,
            13,
            13,
            13,
            14,
            14,
            14,
            15,
            15,
            16,
            16,
            16,
            17,
            17,
            17,
            18,
            18,
            18,
            19,
            19,
            19,
            20,
            20,
            21,
            21,
            22,
            22,
            23,
            23,
            24,
            24,
            25,
            26,
            26,
            26,
            27,
            27,
            27,
            28,
            28,
            28,
            29,
            29,
            29,
            30,
            30,
            31,
            31,
            31,
            32,
            32,
            32,
            33,
            33,
            33,
            34,
            34,
            34,
            35,
            35,
            36,
            36,
            36,
            37,
            37,
            37,
            38,
            38,
            38,
            39,
            39,
            39,
            40,
            40,
            41,
            41,
            41,
            42,
            42,
            42,
            43,
            43,
            43,
            44,
            44,
            44,
            45,
            45,
            46,
            46,
            47,
            47,
            48,
            48,
            49,
            49,
            50,
            51,
            51,
            51,
            52,
            52,
            52,
            53,
            53,
            53,
            54,
            54,
            54,
            55,
            55,
            56,
            56,
            56,
            57,
            57,
            57,
            58,
            58,
            58,
            59,
            59,
            59,
            60,
            60,
            61,
            61,
            61,
            62,
            62,
            62,
            63,
            63,
            63,
            64,
            64,
            64,
            65,
            65,
            66,
            66,
            66,
            67,
            67,
            67,
            68,
            68,
            68,
            69,
            69,
            69,
            70,
            70,
            71,
            71,
            72,
            72,
            73,
            73,
            74,
            74,
            75,
            76,
            76,
            76,
            77,
            77,
            77,
            78,
            78,
            78,
            79,
            79,
            79,
            80,
            80,
            81,
            81,
            81,
            82,
            82,
            82,
            83,
            83,
            83,
            84,
            84,
            84,
            85,
            85,
            86,
            86,
            86,
            87,
            87,
            87,
            88,
            88,
            88,
            89,
            89,
            89,
            90,
            90,
            91,
            91,
            91,
            92,
            92,
            92,
            93,
            93,
            93,
            94,
            94,
            94,
            95,
            95,
            96,
            96,
            97,
            97,
            98,
            98,
            99,
            99,
            100,
            101,
            101,
            101,
            102,
            102,
            102,
            103,
            103,
            103,
            104,
            104,
            104,
            105,
            105,
            106,
            106,
            106,
            107,
            107,
            107,
            108,
            108,
            108,
            109,
            109,
            109,
            110,
            110,
            111,
            111,
            111,
            112,
            112,
            112,
            113,
            113,
            113,
            114,
            114,
            114,
            115,
            115,
            116,
            116,
            116,
            117,
            117,
            117,
            118,
            118,
            118,
            119,
            119,
            119,
            120,
            120,
            121,
            121,
            122,
            122,
            123,
            123,
            124,
            124,
            125,
            126,
            126,
            126,
            127,
            127,
            127,
            128,
            128,
            128,
            129,
            129,
            129,
            130,
            130,
            131,
            131,
            131,
            132,
            132,
            132,
            133,
            133,
            133,
            134,
            134,
            134,
            135,
            135,
            136,
            136,
            136,
            137,
            137,
            137,
            138,
            138,
            138,
            139,
            139,
            139,
            140,
            140,
            141,
            141,
            141,
            142,
            142,
            142,
            143,
            143,
            143,
            144,
            144,
            144,
            145,
            145,
            146,
            146,
            147,
            147,
            148,
            148,
            149,
            149,
            150,
            151,
            151,
            151,
            152,
            152,
            152,
            153,
            153,
            153,
            154,
            154,
            154,
            155,
            155,
            156,
            156,
            156,
            157,
            157,
            157,
            158,
            158,
            158,
            159,
            159,
            159,
            160,
            160,
            161,
            161,
            161,
            162,
            162,
            162,
            163,
            163,
            163,
            164,
            164,
            164,
            165,
            165,
            166,
            166,
            166,
            167,
            167,
            167,
            168,
            168,
            168,
            169,
            169,
            169,
            170,
            170,
            171,
            171,
            172,
            172,
            173,
            173,
            174,
            174,
            175,
            176,
            176,
            176,
            177,
            177,
            177,
            178,
            178,
            178,
            179,
            179,
            179,
            180,
            180,
            181,
            181,
            181,
            182,
            182,
            182,
            183,
            183,
            183,
            184,
            184,
            184,
            185,
            185,
            186,
            186,
            186,
            187,
            187,
            187,
            188,
            188,
            188,
            189,
            189,
            189,
            190,
            190,
            191,
            191,
            191,
            192,
            192,
            192,
            193,
            193,
            193,
            194,
            194,
            194,
            196,
            196,
            197,
            197,
            198,
            198,
            199,
            199,
            201,
            201,
            202,
            202,
            203,
            203,
            204,
            204,
            205,
            206,
            206,
            207,
            207,
            208,
            208,
            209,
            209,
            210,
            211,
            211,
            212,
            212,
            213,
            213,
            214,
            214,
            215,
            216,
            216,
            217,
            217,
            218,
            218,
            219,
            219,
            221,
            222,
            223,
            224,
            195,
            235,
            226,
            239,
            240,
            241,
            242,
            243,
            244,
            245,
            246,
            235,
            220,
            226,
            220,
            227,
            227,
            250,
            251,
            252,
            253,
            229,
            225,
            229,
            225,
            230,
            230,
            257,
            258,
            259,
            260,
            261,
            262,
            263,
            264,
            232,
            200,
            232,
            200,
            233,
            233,
            268,
            269,
            270,
            271,
            237,
            195,
            237,
            227,
            228,
            226,
            228,
            230,
            231,
            229,
            231,
            233,
            234,
            232,
            234,
            235,
            236,
            236,
            237,
            246,
            282,
            283,
            240,
            228,
            283,
            251,
            283,
            284,
            253,
            231,
            284,
            258,
            284,
            285,
            264,
            234,
            285,
            269,
            285,
            282,
            271,
            236,
            282,
            287,
            286,
            286,
            244,
            282,
            286,
            287,
            242,
            287,
            283,
            284,
            283,
            288,
            260,
            287,
            288,
            288,
            284,
            289,
            262,
            286,
            289,
            289,
            288,
            285,
            289,
            285,
            282,
            280,
            238,
            281,
            273,
            294,
            247,
            293,
            280,
            303,
            245,
            304,
            294,
            305,
            243,
            302,
            303,
            295,
            241,
            306,
            305,
            275,
            239,
            290,
            295,
            250,
            274,
            296,
            290,
            297,
            252,
            307,
            296,
            277,
            254,
            291,
            297,
            308,
            259,
            310,
            298,
            249,
            248,
            274,
            275,
            256,
            255,
            276,
            277,
            267,
            266,
            278,
            279,
            311,
            261,
            313,
            308,
            299,
            263,
            314,
            311,
            279,
            265,
            292,
            299,
            268,
            278,
            300,
            292,
            301,
            270,
            315,
            300,
            281,
            272,
            293,
            301,
            312,
            304,
            314,
            315,
            309,
            302,
            313,
            312,
            307,
            306,
            310,
            309,
            257,
            276,
            298,
            291
           ],
           [
            2,
            6,
            26,
            3,
            7,
            27,
            4,
            8,
            28,
            5,
            9,
            29,
            10,
            30,
            7,
            11,
            31,
            8,
            12,
            32,
            9,
            13,
            33,
            10,
            14,
            34,
            15,
            35,
            12,
            16,
            36,
            13,
            17,
            37,
            14,
            18,
            38,
            15,
            19,
            39,
            20,
            40,
            17,
            21,
            41,
            18,
            22,
            42,
            19,
            23,
            43,
            20,
            24,
            44,
            25,
            45,
            22,
            46,
            23,
            47,
            24,
            48,
            25,
            49,
            50,
            27,
            31,
            51,
            28,
            32,
            52,
            29,
            33,
            53,
            30,
            34,
            54,
            35,
            55,
            32,
            36,
            56,
            33,
            37,
            57,
            34,
            38,
            58,
            35,
            39,
            59,
            40,
            60,
            37,
            41,
            61,
            38,
            42,
            62,
            39,
            43,
            63,
            40,
            44,
            64,
            45,
            65,
            42,
            46,
            66,
            43,
            47,
            67,
            44,
            48,
            68,
            45,
            49,
            69,
            50,
            70,
            47,
            71,
            48,
            72,
            49,
            73,
            50,
            74,
            75,
            52,
            56,
            76,
            53,
            57,
            77,
            54,
            58,
            78,
            55,
            59,
            79,
            60,
            80,
            57,
            61,
            81,
            58,
            62,
            82,
            59,
            63,
            83,
            60,
            64,
            84,
            65,
            85,
            62,
            66,
            86,
            63,
            67,
            87,
            64,
            68,
            88,
            65,
            69,
            89,
            70,
            90,
            67,
            71,
            91,
            68,
            72,
            92,
            69,
            73,
            93,
            70,
            74,
            94,
            75,
            95,
            72,
            96,
            73,
            97,
            74,
            98,
            75,
            99,
            100,
            77,
            81,
            101,
            78,
            82,
            102,
            79,
            83,
            103,
            80,
            84,
            104,
            85,
            105,
            82,
            86,
            106,
            83,
            87,
            107,
            84,
            88,
            108,
            85,
            89,
            109,
            90,
            110,
            87,
            91,
            111,
            88,
            92,
            112,
            89,
            93,
            113,
            90,
            94,
            114,
            95,
            115,
            92,
            96,
            116,
            93,
            97,
            117,
            94,
            98,
            118,
            95,
            99,
            119,
            100,
            120,
            97,
            121,
            98,
            122,
            99,
            123,
            100,
            124,
            125,
            102,
            106,
            126,
            103,
            107,
            127,
            104,
            108,
            128,
            105,
            109,
            129,
            110,
            130,
            107,
            111,
            131,
            108,
            112,
            132,
            109,
            113,
            133,
            110,
            114,
            134,
            115,
            135,
            112,
            116,
            136,
            113,
            117,
            137,
            114,
            118,
            138,
            115,
            119,
            139,
            120,
            140,
            117,
            121,
            141,
            118,
            122,
            142,
            119,
            123,
            143,
            120,
            124,
            144,
            125,
            145,
            122,
            146,
            123,
            147,
            124,
            148,
            125,
            149,
            150,
            127,
            131,
            151,
            128,
            132,
            152,
            129,
            133,
            153,
            130,
            134,
            154,
            135,
            155,
            132,
            136,
            156,
            133,
            137,
            157,
            134,
            138,
            158,
            135,
            139,
            159,
            140,
            160,
            137,
            141,
            161,
            138,
            142,
            162,
            139,
            143,
            163,
            140,
            144,
            164,
            145,
            165,
            142,
            146,
            166,
            143,
            147,
            167,
            144,
            148,
            168,
            145,
            149,
            169,
            150,
            170,
            147,
            171,
            148,
            172,
            149,
            173,
            150,
            174,
            175,
            152,
            156,
            176,
            153,
            157,
            177,
            154,
            158,
            178,
            155,
            159,
            179,
            160,
            180,
            157,
            161,
            181,
            158,
            162,
            182,
            159,
            163,
            183,
            160,
            164,
            184,
            165,
            185,
            162,
            166,
            186,
            163,
            167,
            187,
            164,
            168,
            188,
            165,
            169,
            189,
            170,
            190,
            167,
            171,
            191,
            168,
            172,
            192,
            169,
            173,
            193,
            170,
            174,
            194,
            175,
            195,
            172,
            196,
            173,
            197,
            174,
            198,
            175,
            199,
            200,
            177,
            181,
            201,
            178,
            182,
            202,
            179,
            183,
            203,
            180,
            184,
            204,
            185,
            205,
            182,
            186,
            206,
            183,
            187,
            207,
            184,
            188,
            208,
            185,
            189,
            209,
            190,
            210,
            187,
            191,
            211,
            188,
            192,
            212,
            189,
            193,
            213,
            190,
            194,
            214,
            195,
            215,
            192,
            196,
            216,
            193,
            197,
            217,
            194,
            198,
            218,
            195,
            199,
            219,
            197,
            221,
            198,
            222,
            199,
            223,
            200,
            224,
            202,
            206,
            203,
            207,
            204,
            208,
            205,
            209,
            210,
            207,
            211,
            208,
            212,
            209,
            213,
            210,
            214,
            215,
            212,
            216,
            213,
            217,
            214,
            218,
            215,
            219,
            220,
            217,
            221,
            218,
            222,
            219,
            223,
            220,
            224,
            222,
            223,
            224,
            225,
            238,
            238,
            239,
            240,
            241,
            242,
            243,
            244,
            245,
            246,
            247,
            247,
            248,
            248,
            249,
            249,
            250,
            251,
            252,
            253,
            254,
            254,
            255,
            255,
            256,
            256,
            257,
            258,
            259,
            260,
            261,
            262,
            263,
            264,
            265,
            265,
            266,
            266,
            267,
            267,
            268,
            269,
            270,
            271,
            272,
            272,
            273,
            273,
            274,
            274,
            275,
            275,
            276,
            276,
            277,
            277,
            278,
            278,
            279,
            279,
            280,
            280,
            281,
            281,
            294,
            294,
            295,
            295,
            290,
            290,
            296,
            296,
            297,
            297,
            291,
            291,
            298,
            298,
            299,
            299,
            292,
            292,
            300,
            300,
            301,
            301,
            293,
            293,
            302,
            302,
            303,
            303,
            304,
            304,
            305,
            305,
            306,
            306,
            307,
            307,
            308,
            308,
            309,
            309,
            310,
            310,
            311,
            311,
            312,
            312,
            313,
            313,
            314,
            314,
            315,
            315,
            316,
            316,
            316,
            316,
            317,
            317,
            317,
            317,
            318,
            318,
            318,
            318,
            319,
            319,
            319,
            319,
            320,
            320,
            320,
            320,
            321,
            321,
            321,
            321,
            322,
            322,
            322,
            322,
            323,
            323,
            323,
            323,
            324,
            324,
            324,
            324,
            325,
            325,
            325,
            325,
            326,
            326,
            326,
            326,
            327,
            327,
            327,
            327,
            328,
            328,
            328,
            328,
            329,
            329,
            329,
            329,
            330,
            330,
            330,
            330,
            331,
            331,
            331,
            331,
            332,
            332,
            332,
            332,
            333,
            333,
            333,
            333,
            334,
            334,
            334,
            334,
            335,
            335,
            335,
            335,
            336,
            336,
            336,
            336,
            337,
            337,
            337,
            337,
            338,
            338,
            338,
            338
           ],
           [
            "StraightLine",
            "StraightLine",
            "StraightLine",
            "StraightLine",
            "StraightLine",
            "StraightLine",
            "StraightLine",
            "StraightLine",
            "StraightLine",
            "StraightLine",
            "StraightLine",
            "StraightLine",
            "StraightLine",
            "StraightLine",
            "StraightLine",
            "StraightLine",
            "StraightLine",
            "StraightLine",
            "StraightLine",
            "StraightLine",
            "StraightLine",
            "StraightLine",
            "StraightLine",
            "StraightLine",
            "StraightLine",
            "StraightLine",
            "StraightLine",
            "StraightLine",
            "StraightLine",
            "StraightLine",
            "StraightLine",
            "StraightLine",
            "StraightLine",
            "StraightLine",
            "StraightLine",
            "StraightLine",
            "StraightLine",
            "StraightLine",
            "StraightLine",
            "StraightLine",
            "StraightLine",
            "StraightLine",
            "StraightLine",
            "StraightLine",
            "StraightLine",
            "StraightLine",
            "StraightLine",
            "StraightLine",
            "StraightLine",
            "StraightLine",
            "StraightLine",
            "StraightLine",
            "StraightLine",
            "StraightLine",
            "StraightLine",
            "StraightLine",
            "StraightLine",
            "StraightLine",
            "StraightLine",
            "StraightLine",
            "StraightLine",
            "StraightLine",
            "StraightLine",
            "StraightLine",
            "StraightLine",
            "StraightLine",
            "StraightLine",
            "StraightLine",
            "StraightLine",
            "StraightLine",
            "StraightLine",
            "StraightLine",
            "StraightLine",
            "StraightLine",
            "StraightLine",
            "StraightLine",
            "StraightLine",
            "StraightLine",
            "StraightLine",
            "StraightLine",
            "StraightLine",
            "StraightLine",
            "StraightLine",
            "StraightLine",
            "StraightLine",
            "StraightLine",
            "StraightLine",
            "StraightLine",
            "StraightLine",
            "StraightLine",
            "StraightLine",
            "StraightLine",
            "StraightLine",
            "StraightLine",
            "StraightLine",
            "StraightLine",
            "StraightLine",
            "StraightLine",
            "StraightLine",
            "StraightLine",
            "StraightLine",
            "StraightLine",
            "StraightLine",
            "StraightLine",
            "StraightLine",
            "StraightLine",
            "StraightLine",
            "StraightLine",
            "StraightLine",
            "StraightLine",
            "StraightLine",
            "StraightLine",
            "StraightLine",
            "StraightLine",
            "StraightLine",
            "StraightLine",
            "StraightLine",
            "StraightLine",
            "StraightLine",
            "StraightLine",
            "StraightLine",
            "StraightLine",
            "StraightLine",
            "StraightLine",
            "StraightLine",
            "StraightLine",
            "StraightLine",
            "StraightLine",
            "StraightLine",
            "StraightLine",
            "StraightLine",
            "StraightLine",
            "StraightLine",
            "StraightLine",
            "StraightLine",
            "StraightLine",
            "StraightLine",
            "StraightLine",
            "StraightLine",
            "StraightLine",
            "StraightLine",
            "StraightLine",
            "StraightLine",
            "StraightLine",
            "StraightLine",
            "StraightLine",
            "StraightLine",
            "StraightLine",
            "StraightLine",
            "StraightLine",
            "StraightLine",
            "StraightLine",
            "StraightLine",
            "StraightLine",
            "StraightLine",
            "StraightLine",
            "StraightLine",
            "StraightLine",
            "StraightLine",
            "StraightLine",
            "StraightLine",
            "StraightLine",
            "StraightLine",
            "StraightLine",
            "StraightLine",
            "StraightLine",
            "StraightLine",
            "StraightLine",
            "StraightLine",
            "StraightLine",
            "StraightLine",
            "StraightLine",
            "StraightLine",
            "StraightLine",
            "StraightLine",
            "StraightLine",
            "StraightLine",
            "StraightLine",
            "StraightLine",
            "StraightLine",
            "StraightLine",
            "StraightLine",
            "StraightLine",
            "StraightLine",
            "StraightLine",
            "StraightLine",
            "StraightLine",
            "StraightLine",
            "StraightLine",
            "StraightLine",
            "StraightLine",
            "StraightLine",
            "StraightLine",
            "StraightLine",
            "StraightLine",
            "StraightLine",
            "StraightLine",
            "StraightLine",
            "StraightLine",
            "StraightLine",
            "StraightLine",
            "StraightLine",
            "StraightLine",
            "StraightLine",
            "StraightLine",
            "StraightLine",
            "StraightLine",
            "StraightLine",
            "StraightLine",
            "StraightLine",
            "StraightLine",
            "StraightLine",
            "StraightLine",
            "StraightLine",
            "StraightLine",
            "StraightLine",
            "StraightLine",
            "StraightLine",
            "StraightLine",
            "StraightLine",
            "StraightLine",
            "StraightLine",
            "StraightLine",
            "StraightLine",
            "StraightLine",
            "StraightLine",
            "StraightLine",
            "StraightLine",
            "StraightLine",
            "StraightLine",
            "StraightLine",
            "StraightLine",
            "StraightLine",
            "StraightLine",
            "StraightLine",
            "StraightLine",
            "StraightLine",
            "StraightLine",
            "StraightLine",
            "StraightLine",
            "StraightLine",
            "StraightLine",
            "StraightLine",
            "StraightLine",
            "StraightLine",
            "StraightLine",
            "StraightLine",
            "StraightLine",
            "StraightLine",
            "StraightLine",
            "StraightLine",
            "StraightLine",
            "StraightLine",
            "StraightLine",
            "StraightLine",
            "StraightLine",
            "StraightLine",
            "StraightLine",
            "StraightLine",
            "StraightLine",
            "StraightLine",
            "StraightLine",
            "StraightLine",
            "StraightLine",
            "StraightLine",
            "StraightLine",
            "StraightLine",
            "StraightLine",
            "StraightLine",
            "StraightLine",
            "StraightLine",
            "StraightLine",
            "StraightLine",
            "StraightLine",
            "StraightLine",
            "StraightLine",
            "StraightLine",
            "StraightLine",
            "StraightLine",
            "StraightLine",
            "StraightLine",
            "StraightLine",
            "StraightLine",
            "StraightLine",
            "StraightLine",
            "StraightLine",
            "StraightLine",
            "StraightLine",
            "StraightLine",
            "StraightLine",
            "StraightLine",
            "StraightLine",
            "StraightLine",
            "StraightLine",
            "StraightLine",
            "StraightLine",
            "StraightLine",
            "StraightLine",
            "StraightLine",
            "StraightLine",
            "StraightLine",
            "StraightLine",
            "StraightLine",
            "StraightLine",
            "StraightLine",
            "StraightLine",
            "StraightLine",
            "StraightLine",
            "StraightLine",
            "StraightLine",
            "StraightLine",
            "StraightLine",
            "StraightLine",
            "StraightLine",
            "StraightLine",
            "StraightLine",
            "StraightLine",
            "StraightLine",
            "StraightLine",
            "StraightLine",
            "StraightLine",
            "StraightLine",
            "StraightLine",
            "StraightLine",
            "StraightLine",
            "StraightLine",
            "StraightLine",
            "StraightLine",
            "StraightLine",
            "StraightLine",
            "StraightLine",
            "StraightLine",
            "StraightLine",
            "StraightLine",
            "StraightLine",
            "StraightLine",
            "StraightLine",
            "StraightLine",
            "StraightLine",
            "StraightLine",
            "StraightLine",
            "StraightLine",
            "StraightLine",
            "StraightLine",
            "StraightLine",
            "StraightLine",
            "StraightLine",
            "StraightLine",
            "StraightLine",
            "StraightLine",
            "StraightLine",
            "StraightLine",
            "StraightLine",
            "StraightLine",
            "StraightLine",
            "StraightLine",
            "StraightLine",
            "StraightLine",
            "StraightLine",
            "StraightLine",
            "StraightLine",
            "StraightLine",
            "StraightLine",
            "StraightLine",
            "StraightLine",
            "StraightLine",
            "StraightLine",
            "StraightLine",
            "StraightLine",
            "StraightLine",
            "StraightLine",
            "StraightLine",
            "StraightLine",
            "StraightLine",
            "StraightLine",
            "StraightLine",
            "StraightLine",
            "StraightLine",
            "StraightLine",
            "StraightLine",
            "StraightLine",
            "StraightLine",
            "StraightLine",
            "StraightLine",
            "StraightLine",
            "StraightLine",
            "StraightLine",
            "StraightLine",
            "StraightLine",
            "StraightLine",
            "StraightLine",
            "StraightLine",
            "StraightLine",
            "StraightLine",
            "StraightLine",
            "StraightLine",
            "StraightLine",
            "StraightLine",
            "StraightLine",
            "StraightLine",
            "StraightLine",
            "StraightLine",
            "StraightLine",
            "StraightLine",
            "StraightLine",
            "StraightLine",
            "StraightLine",
            "StraightLine",
            "StraightLine",
            "StraightLine",
            "StraightLine",
            "StraightLine",
            "StraightLine",
            "StraightLine",
            "StraightLine",
            "StraightLine",
            "StraightLine",
            "StraightLine",
            "StraightLine",
            "StraightLine",
            "StraightLine",
            "StraightLine",
            "StraightLine",
            "StraightLine",
            "StraightLine",
            "StraightLine",
            "StraightLine",
            "StraightLine",
            "StraightLine",
            "StraightLine",
            "StraightLine",
            "StraightLine",
            "StraightLine",
            "StraightLine",
            "StraightLine",
            "StraightLine",
            "StraightLine",
            "StraightLine",
            "StraightLine",
            "StraightLine",
            "StraightLine",
            "StraightLine",
            "StraightLine",
            "StraightLine",
            "StraightLine",
            "StraightLine",
            "StraightLine",
            "StraightLine",
            "StraightLine",
            "StraightLine",
            "StraightLine",
            "StraightLine",
            "StraightLine",
            "StraightLine",
            "StraightLine",
            "StraightLine",
            "StraightLine",
            "StraightLine",
            "StraightLine",
            "StraightLine",
            "StraightLine",
            "StraightLine",
            "StraightLine",
            "StraightLine",
            "StraightLine",
            "StraightLine",
            "StraightLine",
            "StraightLine",
            "StraightLine",
            "StraightLine",
            "StraightLine",
            "StraightLine",
            "StraightLine",
            "StraightLine",
            "StraightLine",
            "StraightLine",
            "StraightLine",
            "StraightLine",
            "StraightLine",
            "StraightLine",
            "StraightLine",
            "StraightLine",
            "StraightLine",
            "StraightLine",
            "StraightLine",
            "StraightLine",
            "StraightLine",
            "StraightLine",
            "StraightLine",
            "StraightLine",
            "StraightLine",
            "StraightLine",
            "StraightLine",
            "StraightLine",
            "StraightLine",
            "StraightLine",
            "StraightLine",
            "StraightLine",
            "StraightLine",
            "StraightLine",
            "StraightLine",
            "StraightLine",
            "StraightLine",
            "StraightLine",
            "StraightLine",
            "StraightLine",
            "StraightLine",
            "StraightLine",
            "StraightLine",
            "StraightLine",
            "StraightLine",
            "StraightLine",
            "StraightLine",
            "StraightLine",
            "StraightLine",
            "StraightLine",
            "StraightLine",
            "StraightLine",
            "StraightLine",
            "StraightLine",
            "StraightLine",
            "StraightLine",
            "StraightLine",
            "StraightLine",
            "StraightLine",
            "StraightLine",
            "StraightLine",
            "StraightLine",
            "StraightLine",
            "StraightLine",
            "StraightLine",
            "StraightLine",
            "StraightLine",
            "StraightLine",
            "StraightLine",
            "StraightLine",
            "StraightLine",
            "StraightLine",
            "StraightLine",
            "StraightLine",
            "StraightLine",
            "StraightLine",
            "StraightLine",
            "StraightLine",
            "StraightLine",
            "StraightLine",
            "StraightLine",
            "StraightLine",
            "StraightLine",
            "StraightLine",
            "StraightLine",
            "StraightLine",
            "StraightLine",
            "StraightLine",
            "StraightLine",
            "StraightLine",
            "StraightLine",
            "StraightLine",
            "StraightLine",
            "StraightLine",
            "StraightLine",
            "StraightLine",
            "StraightLine",
            "StraightLine",
            "StraightLine",
            "StraightLine",
            "StraightLine",
            "StraightLine",
            "StraightLine",
            "StraightLine",
            "StraightLine",
            "StraightLine",
            "StraightLine",
            "StraightLine",
            "StraightLine",
            "StraightLine",
            "StraightLine",
            "StraightLine",
            "StraightLine",
            "StraightLine",
            "StraightLine",
            "StraightLine",
            "StraightLine",
            "StraightLine",
            "StraightLine",
            "StraightLine",
            "StraightLine",
            "StraightLine",
            "StraightLine",
            "StraightLine",
            "StraightLine",
            "StraightLine",
            "StraightLine",
            "StraightLine",
            "StraightLine",
            "StraightLine",
            "StraightLine",
            "StraightLine",
            "StraightLine",
            "StraightLine",
            "StraightLine",
            "StraightLine",
            "StraightLine",
            "StraightLine",
            "StraightLine",
            "StraightLine",
            "StraightLine",
            "StraightLine",
            "StraightLine",
            "StraightLine",
            "StraightLine",
            "StraightLine",
            "StraightLine",
            "StraightLine",
            "StraightLine",
            "StraightLine",
            "StraightLine",
            "StraightLine",
            "StraightLine",
            "StraightLine",
            "StraightLine",
            "StraightLine",
            "StraightLine",
            "StraightLine",
            "StraightLine",
            "StraightLine",
            "StraightLine",
            "StraightLine",
            "StraightLine",
            "StraightLine",
            "StraightLine",
            "StraightLine",
            "StraightLine",
            "StraightLine",
            "StraightLine",
            "StraightLine",
            "StraightLine",
            "StraightLine",
            "StraightLine",
            "StraightLine",
            "StraightLine",
            "StraightLine",
            "StraightLine",
            "StraightLine",
            "StraightLine",
            "StraightLine",
            "StraightLine",
            "StraightLine",
            "StraightLine",
            "StraightLine",
            "StraightLine",
            "StraightLine",
            "StraightLine",
            "StraightLine",
            "StraightLine",
            "StraightLine",
            "StraightLine",
            "StraightLine",
            "StraightLine",
            "StraightLine",
            "StraightLine",
            "StraightLine",
            "StraightLine",
            "StraightLine",
            "StraightLine",
            "StraightLine",
            "StraightLine",
            "StraightLine",
            "StraightLine",
            "StraightLine",
            "StraightLine",
            "StraightLine",
            "StraightLine",
            "StraightLine",
            "StraightLine",
            "StraightLine",
            "StraightLine",
            "StraightLine",
            "StraightLine",
            "StraightLine",
            "StraightLine",
            "StraightLine",
            "StraightLine",
            "StraightLine",
            "StraightLine",
            "StraightLine",
            "StraightLine",
            "StraightLine",
            "StraightLine",
            "StraightLine",
            "StraightLine",
            "StraightLine",
            "StraightLine",
            "StraightLine",
            "StraightLine",
            "StraightLine",
            "StraightLine",
            "StraightLine",
            "StraightLine",
            "StraightLine",
            "StraightLine",
            "StraightLine",
            "StraightLine",
            "StraightLine",
            "StraightLine",
            "StraightLine",
            "StraightLine",
            "StraightLine",
            "StraightLine",
            "StraightLine",
            "StraightLine",
            "StraightLine",
            "StraightLine",
            "StraightLine",
            "StraightLine",
            "StraightLine",
            "StraightLine",
            "StraightLine",
            "StraightLine",
            "StraightLine",
            "StraightLine",
            "StraightLine",
            "StraightLine",
            "StraightLine",
            "StraightLine",
            "StraightLine",
            "StraightLine",
            "StraightLine",
            "StraightLine",
            "StraightLine",
            "StraightLine",
            "StraightLine",
            "StraightLine",
            "StraightLine",
            "StraightLine",
            "StraightLine",
            "StraightLine",
            "StraightLine",
            "StraightLine",
            "StraightLine",
            "StraightLine",
            "StraightLine",
            "StraightLine",
            "StraightLine",
            "StraightLine",
            "StraightLine",
            "StraightLine",
            "StraightLine",
            "StraightLine",
            "StraightLine",
            "StraightLine",
            "StraightLine",
            "StraightLine",
            "StraightLine",
            "StraightLine",
            "StraightLine",
            "StraightLine",
            "StraightLine",
            "StraightLine",
            "StraightLine",
            "StraightLine",
            "StraightLine",
            "StraightLine",
            "StraightLine"
           ]
          ]
         },
         "header": {
          "values": [
           "NodeId1",
           "NodeId2",
           "GeomType"
          ]
         },
         "type": "table"
        }
       ],
       "layout": {
        "height": 400,
        "template": {
         "data": {
          "bar": [
           {
            "error_x": {
             "color": "#2a3f5f"
            },
            "error_y": {
             "color": "#2a3f5f"
            },
            "marker": {
             "line": {
              "color": "#E5ECF6",
              "width": 0.5
             },
             "pattern": {
              "fillmode": "overlay",
              "size": 10,
              "solidity": 0.2
             }
            },
            "type": "bar"
           }
          ],
          "barpolar": [
           {
            "marker": {
             "line": {
              "color": "#E5ECF6",
              "width": 0.5
             },
             "pattern": {
              "fillmode": "overlay",
              "size": 10,
              "solidity": 0.2
             }
            },
            "type": "barpolar"
           }
          ],
          "carpet": [
           {
            "aaxis": {
             "endlinecolor": "#2a3f5f",
             "gridcolor": "white",
             "linecolor": "white",
             "minorgridcolor": "white",
             "startlinecolor": "#2a3f5f"
            },
            "baxis": {
             "endlinecolor": "#2a3f5f",
             "gridcolor": "white",
             "linecolor": "white",
             "minorgridcolor": "white",
             "startlinecolor": "#2a3f5f"
            },
            "type": "carpet"
           }
          ],
          "choropleth": [
           {
            "colorbar": {
             "outlinewidth": 0,
             "ticks": ""
            },
            "type": "choropleth"
           }
          ],
          "contour": [
           {
            "colorbar": {
             "outlinewidth": 0,
             "ticks": ""
            },
            "colorscale": [
             [
              0,
              "#0d0887"
             ],
             [
              0.1111111111111111,
              "#46039f"
             ],
             [
              0.2222222222222222,
              "#7201a8"
             ],
             [
              0.3333333333333333,
              "#9c179e"
             ],
             [
              0.4444444444444444,
              "#bd3786"
             ],
             [
              0.5555555555555556,
              "#d8576b"
             ],
             [
              0.6666666666666666,
              "#ed7953"
             ],
             [
              0.7777777777777778,
              "#fb9f3a"
             ],
             [
              0.8888888888888888,
              "#fdca26"
             ],
             [
              1,
              "#f0f921"
             ]
            ],
            "type": "contour"
           }
          ],
          "contourcarpet": [
           {
            "colorbar": {
             "outlinewidth": 0,
             "ticks": ""
            },
            "type": "contourcarpet"
           }
          ],
          "heatmap": [
           {
            "colorbar": {
             "outlinewidth": 0,
             "ticks": ""
            },
            "colorscale": [
             [
              0,
              "#0d0887"
             ],
             [
              0.1111111111111111,
              "#46039f"
             ],
             [
              0.2222222222222222,
              "#7201a8"
             ],
             [
              0.3333333333333333,
              "#9c179e"
             ],
             [
              0.4444444444444444,
              "#bd3786"
             ],
             [
              0.5555555555555556,
              "#d8576b"
             ],
             [
              0.6666666666666666,
              "#ed7953"
             ],
             [
              0.7777777777777778,
              "#fb9f3a"
             ],
             [
              0.8888888888888888,
              "#fdca26"
             ],
             [
              1,
              "#f0f921"
             ]
            ],
            "type": "heatmap"
           }
          ],
          "heatmapgl": [
           {
            "colorbar": {
             "outlinewidth": 0,
             "ticks": ""
            },
            "colorscale": [
             [
              0,
              "#0d0887"
             ],
             [
              0.1111111111111111,
              "#46039f"
             ],
             [
              0.2222222222222222,
              "#7201a8"
             ],
             [
              0.3333333333333333,
              "#9c179e"
             ],
             [
              0.4444444444444444,
              "#bd3786"
             ],
             [
              0.5555555555555556,
              "#d8576b"
             ],
             [
              0.6666666666666666,
              "#ed7953"
             ],
             [
              0.7777777777777778,
              "#fb9f3a"
             ],
             [
              0.8888888888888888,
              "#fdca26"
             ],
             [
              1,
              "#f0f921"
             ]
            ],
            "type": "heatmapgl"
           }
          ],
          "histogram": [
           {
            "marker": {
             "pattern": {
              "fillmode": "overlay",
              "size": 10,
              "solidity": 0.2
             }
            },
            "type": "histogram"
           }
          ],
          "histogram2d": [
           {
            "colorbar": {
             "outlinewidth": 0,
             "ticks": ""
            },
            "colorscale": [
             [
              0,
              "#0d0887"
             ],
             [
              0.1111111111111111,
              "#46039f"
             ],
             [
              0.2222222222222222,
              "#7201a8"
             ],
             [
              0.3333333333333333,
              "#9c179e"
             ],
             [
              0.4444444444444444,
              "#bd3786"
             ],
             [
              0.5555555555555556,
              "#d8576b"
             ],
             [
              0.6666666666666666,
              "#ed7953"
             ],
             [
              0.7777777777777778,
              "#fb9f3a"
             ],
             [
              0.8888888888888888,
              "#fdca26"
             ],
             [
              1,
              "#f0f921"
             ]
            ],
            "type": "histogram2d"
           }
          ],
          "histogram2dcontour": [
           {
            "colorbar": {
             "outlinewidth": 0,
             "ticks": ""
            },
            "colorscale": [
             [
              0,
              "#0d0887"
             ],
             [
              0.1111111111111111,
              "#46039f"
             ],
             [
              0.2222222222222222,
              "#7201a8"
             ],
             [
              0.3333333333333333,
              "#9c179e"
             ],
             [
              0.4444444444444444,
              "#bd3786"
             ],
             [
              0.5555555555555556,
              "#d8576b"
             ],
             [
              0.6666666666666666,
              "#ed7953"
             ],
             [
              0.7777777777777778,
              "#fb9f3a"
             ],
             [
              0.8888888888888888,
              "#fdca26"
             ],
             [
              1,
              "#f0f921"
             ]
            ],
            "type": "histogram2dcontour"
           }
          ],
          "mesh3d": [
           {
            "colorbar": {
             "outlinewidth": 0,
             "ticks": ""
            },
            "type": "mesh3d"
           }
          ],
          "parcoords": [
           {
            "line": {
             "colorbar": {
              "outlinewidth": 0,
              "ticks": ""
             }
            },
            "type": "parcoords"
           }
          ],
          "pie": [
           {
            "automargin": true,
            "type": "pie"
           }
          ],
          "scatter": [
           {
            "fillpattern": {
             "fillmode": "overlay",
             "size": 10,
             "solidity": 0.2
            },
            "type": "scatter"
           }
          ],
          "scatter3d": [
           {
            "line": {
             "colorbar": {
              "outlinewidth": 0,
              "ticks": ""
             }
            },
            "marker": {
             "colorbar": {
              "outlinewidth": 0,
              "ticks": ""
             }
            },
            "type": "scatter3d"
           }
          ],
          "scattercarpet": [
           {
            "marker": {
             "colorbar": {
              "outlinewidth": 0,
              "ticks": ""
             }
            },
            "type": "scattercarpet"
           }
          ],
          "scattergeo": [
           {
            "marker": {
             "colorbar": {
              "outlinewidth": 0,
              "ticks": ""
             }
            },
            "type": "scattergeo"
           }
          ],
          "scattergl": [
           {
            "marker": {
             "colorbar": {
              "outlinewidth": 0,
              "ticks": ""
             }
            },
            "type": "scattergl"
           }
          ],
          "scattermapbox": [
           {
            "marker": {
             "colorbar": {
              "outlinewidth": 0,
              "ticks": ""
             }
            },
            "type": "scattermapbox"
           }
          ],
          "scatterpolar": [
           {
            "marker": {
             "colorbar": {
              "outlinewidth": 0,
              "ticks": ""
             }
            },
            "type": "scatterpolar"
           }
          ],
          "scatterpolargl": [
           {
            "marker": {
             "colorbar": {
              "outlinewidth": 0,
              "ticks": ""
             }
            },
            "type": "scatterpolargl"
           }
          ],
          "scatterternary": [
           {
            "marker": {
             "colorbar": {
              "outlinewidth": 0,
              "ticks": ""
             }
            },
            "type": "scatterternary"
           }
          ],
          "surface": [
           {
            "colorbar": {
             "outlinewidth": 0,
             "ticks": ""
            },
            "colorscale": [
             [
              0,
              "#0d0887"
             ],
             [
              0.1111111111111111,
              "#46039f"
             ],
             [
              0.2222222222222222,
              "#7201a8"
             ],
             [
              0.3333333333333333,
              "#9c179e"
             ],
             [
              0.4444444444444444,
              "#bd3786"
             ],
             [
              0.5555555555555556,
              "#d8576b"
             ],
             [
              0.6666666666666666,
              "#ed7953"
             ],
             [
              0.7777777777777778,
              "#fb9f3a"
             ],
             [
              0.8888888888888888,
              "#fdca26"
             ],
             [
              1,
              "#f0f921"
             ]
            ],
            "type": "surface"
           }
          ],
          "table": [
           {
            "cells": {
             "fill": {
              "color": "#EBF0F8"
             },
             "line": {
              "color": "white"
             }
            },
            "header": {
             "fill": {
              "color": "#C8D4E3"
             },
             "line": {
              "color": "white"
             }
            },
            "type": "table"
           }
          ]
         },
         "layout": {
          "annotationdefaults": {
           "arrowcolor": "#2a3f5f",
           "arrowhead": 0,
           "arrowwidth": 1
          },
          "autotypenumbers": "strict",
          "coloraxis": {
           "colorbar": {
            "outlinewidth": 0,
            "ticks": ""
           }
          },
          "colorscale": {
           "diverging": [
            [
             0,
             "#8e0152"
            ],
            [
             0.1,
             "#c51b7d"
            ],
            [
             0.2,
             "#de77ae"
            ],
            [
             0.3,
             "#f1b6da"
            ],
            [
             0.4,
             "#fde0ef"
            ],
            [
             0.5,
             "#f7f7f7"
            ],
            [
             0.6,
             "#e6f5d0"
            ],
            [
             0.7,
             "#b8e186"
            ],
            [
             0.8,
             "#7fbc41"
            ],
            [
             0.9,
             "#4d9221"
            ],
            [
             1,
             "#276419"
            ]
           ],
           "sequential": [
            [
             0,
             "#0d0887"
            ],
            [
             0.1111111111111111,
             "#46039f"
            ],
            [
             0.2222222222222222,
             "#7201a8"
            ],
            [
             0.3333333333333333,
             "#9c179e"
            ],
            [
             0.4444444444444444,
             "#bd3786"
            ],
            [
             0.5555555555555556,
             "#d8576b"
            ],
            [
             0.6666666666666666,
             "#ed7953"
            ],
            [
             0.7777777777777778,
             "#fb9f3a"
            ],
            [
             0.8888888888888888,
             "#fdca26"
            ],
            [
             1,
             "#f0f921"
            ]
           ],
           "sequentialminus": [
            [
             0,
             "#0d0887"
            ],
            [
             0.1111111111111111,
             "#46039f"
            ],
            [
             0.2222222222222222,
             "#7201a8"
            ],
            [
             0.3333333333333333,
             "#9c179e"
            ],
            [
             0.4444444444444444,
             "#bd3786"
            ],
            [
             0.5555555555555556,
             "#d8576b"
            ],
            [
             0.6666666666666666,
             "#ed7953"
            ],
            [
             0.7777777777777778,
             "#fb9f3a"
            ],
            [
             0.8888888888888888,
             "#fdca26"
            ],
            [
             1,
             "#f0f921"
            ]
           ]
          },
          "colorway": [
           "#636efa",
           "#EF553B",
           "#00cc96",
           "#ab63fa",
           "#FFA15A",
           "#19d3f3",
           "#FF6692",
           "#B6E880",
           "#FF97FF",
           "#FECB52"
          ],
          "font": {
           "color": "#2a3f5f"
          },
          "geo": {
           "bgcolor": "white",
           "lakecolor": "white",
           "landcolor": "#E5ECF6",
           "showlakes": true,
           "showland": true,
           "subunitcolor": "white"
          },
          "hoverlabel": {
           "align": "left"
          },
          "hovermode": "closest",
          "mapbox": {
           "style": "light"
          },
          "paper_bgcolor": "white",
          "plot_bgcolor": "#E5ECF6",
          "polar": {
           "angularaxis": {
            "gridcolor": "white",
            "linecolor": "white",
            "ticks": ""
           },
           "bgcolor": "#E5ECF6",
           "radialaxis": {
            "gridcolor": "white",
            "linecolor": "white",
            "ticks": ""
           }
          },
          "scene": {
           "xaxis": {
            "backgroundcolor": "#E5ECF6",
            "gridcolor": "white",
            "gridwidth": 2,
            "linecolor": "white",
            "showbackground": true,
            "ticks": "",
            "zerolinecolor": "white"
           },
           "yaxis": {
            "backgroundcolor": "#E5ECF6",
            "gridcolor": "white",
            "gridwidth": 2,
            "linecolor": "white",
            "showbackground": true,
            "ticks": "",
            "zerolinecolor": "white"
           },
           "zaxis": {
            "backgroundcolor": "#E5ECF6",
            "gridcolor": "white",
            "gridwidth": 2,
            "linecolor": "white",
            "showbackground": true,
            "ticks": "",
            "zerolinecolor": "white"
           }
          },
          "shapedefaults": {
           "line": {
            "color": "#2a3f5f"
           }
          },
          "ternary": {
           "aaxis": {
            "gridcolor": "white",
            "linecolor": "white",
            "ticks": ""
           },
           "baxis": {
            "gridcolor": "white",
            "linecolor": "white",
            "ticks": ""
           },
           "bgcolor": "#E5ECF6",
           "caxis": {
            "gridcolor": "white",
            "linecolor": "white",
            "ticks": ""
           }
          },
          "title": {
           "x": 0.05
          },
          "xaxis": {
           "automargin": true,
           "gridcolor": "white",
           "linecolor": "white",
           "ticks": "",
           "title": {
            "standoff": 15
           },
           "zerolinecolor": "white",
           "zerolinewidth": 2
          },
          "yaxis": {
           "automargin": true,
           "gridcolor": "white",
           "linecolor": "white",
           "ticks": "",
           "title": {
            "standoff": 15
           },
           "zerolinecolor": "white",
           "zerolinewidth": 2
          }
         }
        },
        "width": 800
       }
      }
     },
     "metadata": {},
     "output_type": "display_data"
    }
   ],
   "source": [
    "import plotly.graph_objects as go\n",
    "fields = ['NodeId1', 'NodeId2', 'GeomType']\n",
    "d = axm.Lines.get_line_data(fields=fields)\n",
    "tbl = go.Table(header=dict(values=list(d.keys())),\n",
    "               cells=dict(values=list(d.values())))\n",
    "fig = go.Figure(data=[tbl])\n",
    "fig.update_layout(width=800, height=400)\n",
    "fig.show()"
   ]
  },
  {
   "cell_type": "code",
   "execution_count": 8,
   "metadata": {},
   "outputs": [
    {
     "data": {
      "image/png": "[encoded data removed]",
      "text/plain": [
       "<PIL.BmpImagePlugin.DibImageFile image mode=RGB size=905x721>"
      ]
     },
     "execution_count": 8,
     "metadata": {},
     "output_type": "execute_result"
    }
   ],
   "source": [
    "axvm.MainFormTab = axtlb.mftStatic\n",
    "\n",
    "WriteValuesTo = axtlb.RWriteValuesTo(\n",
    "    Nodes=True,\n",
    "    Lines=False,\n",
    "    Surfaces=False,\n",
    "    MinMaxOnly=True\n",
    ")\n",
    "BasicDispParams = axtlb.RBasicDisplayParameters_V153(\n",
    "    ResultComponent=axtlb.rc_d_eZ,\n",
    "    Scale=1.0,\n",
    "    DisplayMode=axtlb.dmDiagram,\n",
    "    DisplayShape=axtlb.dsDeformed,\n",
    "    WriteValuesTo=WriteValuesTo\n",
    ")\n",
    "ExtDispParams = axtlb.RExtendedDisplayParameters_V153(\n",
    "    BasicDispParams=BasicDispParams,\n",
    "    DisplayAnalysisType=axtlb.datLinear,\n",
    "    ResultType=axtlb.rtLoadCombination\n",
    ")\n",
    "axm.Windows.SetStaticDisplayParameters_V153(1, ExtDispParams, 2, [])\n",
    "\n",
    "axm.Windows.ReDraw()\n",
    "axm.Windows[1].screenshot()"
   ]
  },
  {
   "cell_type": "markdown",
   "metadata": {},
   "source": [
    "## Plotly"
   ]
  },
  {
   "cell_type": "code",
   "execution_count": 10,
   "metadata": {},
   "outputs": [
    {
     "data": {
      "application/vnd.plotly.v1+json": {
       "config": {
        "plotlyServerURL": "https://plot.ly"
       },
       "data": [
        {
         "hovertemplate": "x: %{x}<br>y: %{y}<br>z: %{z}",
         "hovertext": [
          1,
          2,
          3,
          4,
          5,
          6,
          7,
          8,
          9,
          10,
          11,
          12,
          13,
          14,
          15,
          16,
          17,
          18,
          19,
          20,
          21,
          22,
          23,
          24,
          25,
          26,
          27,
          28,
          29,
          30,
          31,
          32,
          33,
          34,
          35,
          36,
          37,
          38,
          39,
          40,
          41,
          42,
          43,
          44,
          45,
          46,
          47,
          48,
          49,
          50,
          51,
          52,
          53,
          54,
          55,
          56,
          57,
          58,
          59,
          60,
          61,
          62,
          63,
          64,
          65,
          66,
          67,
          68,
          69,
          70,
          71,
          72,
          73,
          74,
          75,
          76,
          77,
          78,
          79,
          80,
          81,
          82,
          83,
          84,
          85,
          86,
          87,
          88,
          89,
          90,
          91,
          92,
          93,
          94,
          95,
          96,
          97,
          98,
          99,
          100,
          101,
          102,
          103,
          104,
          105,
          106,
          107,
          108,
          109,
          110,
          111,
          112,
          113,
          114,
          115,
          116,
          117,
          118,
          119,
          120,
          121,
          122,
          123,
          124,
          125,
          126,
          127,
          128,
          129,
          130,
          131,
          132,
          133,
          134,
          135,
          136,
          137,
          138,
          139,
          140,
          141,
          142,
          143,
          144,
          145,
          146,
          147,
          148,
          149,
          150,
          151,
          152,
          153,
          154,
          155,
          156,
          157,
          158,
          159,
          160,
          161,
          162,
          163,
          164,
          165,
          166,
          167,
          168,
          169,
          170,
          171,
          172,
          173,
          174,
          175,
          176,
          177,
          178,
          179,
          180,
          181,
          182,
          183,
          184,
          185,
          186,
          187,
          188,
          189,
          190,
          191,
          192,
          193,
          194,
          195,
          196,
          197,
          198,
          199,
          200,
          201,
          202,
          203,
          204,
          205,
          206,
          207,
          208,
          209,
          210,
          211,
          212,
          213,
          214,
          215,
          216,
          217,
          218,
          219,
          220,
          221,
          222,
          223,
          224,
          225,
          226,
          227,
          228,
          229,
          230,
          231,
          232,
          233,
          234,
          235,
          236,
          237,
          238,
          239,
          240,
          241,
          242,
          243,
          244,
          245,
          246,
          247,
          248,
          249,
          250,
          251,
          252,
          253,
          254,
          255,
          256,
          257,
          258,
          259,
          260,
          261,
          262,
          263,
          264,
          265,
          266,
          267,
          268,
          269,
          270,
          271,
          272,
          273
         ],
         "legendgroup": "",
         "marker": {
          "color": "#636efa",
          "size": 5,
          "sizemode": "area",
          "sizeref": 0.0025,
          "symbol": "circle"
         },
         "mode": "markers+text",
         "name": "",
         "scene": "scene",
         "showlegend": false,
         "text": [
          1,
          2,
          3,
          4,
          5,
          6,
          7,
          8,
          9,
          10,
          11,
          12,
          13,
          14,
          15,
          16,
          17,
          18,
          19,
          20,
          21,
          22,
          23,
          24,
          25,
          26,
          27,
          28,
          29,
          30,
          31,
          32,
          33,
          34,
          35,
          36,
          37,
          38,
          39,
          40,
          41,
          42,
          43,
          44,
          45,
          46,
          47,
          48,
          49,
          50,
          51,
          52,
          53,
          54,
          55,
          56,
          57,
          58,
          59,
          60,
          61,
          62,
          63,
          64,
          65,
          66,
          67,
          68,
          69,
          70,
          71,
          72,
          73,
          74,
          75,
          76,
          77,
          78,
          79,
          80,
          81,
          82,
          83,
          84,
          85,
          86,
          87,
          88,
          89,
          90,
          91,
          92,
          93,
          94,
          95,
          96,
          97,
          98,
          99,
          100,
          101,
          102,
          103,
          104,
          105,
          106,
          107,
          108,
          109,
          110,
          111,
          112,
          113,
          114,
          115,
          116,
          117,
          118,
          119,
          120,
          121,
          122,
          123,
          124,
          125,
          126,
          127,
          128,
          129,
          130,
          131,
          132,
          133,
          134,
          135,
          136,
          137,
          138,
          139,
          140,
          141,
          142,
          143,
          144,
          145,
          146,
          147,
          148,
          149,
          150,
          151,
          152,
          153,
          154,
          155,
          156,
          157,
          158,
          159,
          160,
          161,
          162,
          163,
          164,
          165,
          166,
          167,
          168,
          169,
          170,
          171,
          172,
          173,
          174,
          175,
          176,
          177,
          178,
          179,
          180,
          181,
          182,
          183,
          184,
          185,
          186,
          187,
          188,
          189,
          190,
          191,
          192,
          193,
          194,
          195,
          196,
          197,
          198,
          199,
          200,
          201,
          202,
          203,
          204,
          205,
          206,
          207,
          208,
          209,
          210,
          211,
          212,
          213,
          214,
          215,
          216,
          217,
          218,
          219,
          220,
          221,
          222,
          223,
          224,
          225,
          226,
          227,
          228,
          229,
          230,
          231,
          232,
          233,
          234,
          235,
          236,
          237,
          238,
          239,
          240,
          241,
          242,
          243,
          244,
          245,
          246,
          247,
          248,
          249,
          250,
          251,
          252,
          253,
          254,
          255,
          256,
          257,
          258,
          259,
          260,
          261,
          262,
          263,
          264,
          265,
          266,
          267,
          268,
          269,
          270,
          271,
          272,
          273
         ],
         "type": "scatter3d",
         "x": [
          0,
          0,
          0,
          0,
          0,
          0,
          0,
          0,
          0,
          0,
          0,
          0,
          0,
          0,
          0,
          0,
          0,
          0,
          0,
          0,
          0,
          0,
          0,
          0,
          0,
          5,
          5,
          5,
          5,
          5,
          5,
          5,
          5,
          5,
          5,
          5,
          5,
          5,
          5,
          5,
          5,
          5,
          5,
          5,
          5,
          5,
          5,
          5,
          5,
          5,
          10,
          10,
          10,
          10,
          10,
          10,
          10,
          10,
          10,
          10,
          10,
          10,
          10,
          10,
          10,
          10,
          10,
          10,
          10,
          10,
          10,
          10,
          10,
          10,
          10,
          15,
          15,
          15,
          15,
          15,
          15,
          15,
          15,
          15,
          15,
          15,
          15,
          15,
          15,
          15,
          15,
          15,
          15,
          15,
          15,
          15,
          15,
          15,
          15,
          15,
          20,
          20,
          20,
          20,
          20,
          20,
          20,
          20,
          20,
          20,
          20,
          20,
          20,
          20,
          20,
          20,
          20,
          20,
          20,
          20,
          20,
          20,
          20,
          20,
          20,
          25,
          25,
          25,
          25,
          25,
          25,
          25,
          25,
          25,
          25,
          25,
          25,
          25,
          25,
          25,
          25,
          25,
          25,
          25,
          25,
          25,
          25,
          25,
          25,
          25,
          30,
          30,
          30,
          30,
          30,
          30,
          30,
          30,
          30,
          30,
          30,
          30,
          30,
          30,
          30,
          30,
          30,
          30,
          30,
          30,
          30,
          30,
          30,
          30,
          30,
          35,
          35,
          35,
          35,
          35,
          35,
          35,
          35,
          35,
          35,
          35,
          35,
          35,
          35,
          35,
          35,
          35,
          35,
          35,
          35,
          35,
          35,
          35,
          35,
          35,
          40,
          40,
          40,
          40,
          40,
          40,
          40,
          40,
          40,
          40,
          40,
          40,
          40,
          40,
          40,
          40,
          40,
          40,
          40,
          40,
          40,
          40,
          40,
          40,
          40,
          39.95669872916554,
          40,
          39.95669872916554,
          40,
          39.95669872916554,
          39.95669872916554,
          35.04330127083446,
          35,
          35.04330127083446,
          35.04330127083446,
          35.04330127083446,
          35,
          35.02165063541723,
          39.46535898333243,
          38.97401923749932,
          38.48267949166622,
          37.99133974583311,
          37.5,
          37.00866025416689,
          36.51732050833378,
          36.02598076250068,
          35.53464101666757,
          39.97834936458277,
          40,
          40,
          40,
          40,
          40,
          40,
          40,
          39.97834936458277,
          39.46535898333243,
          38.97401923749932,
          38.48267949166622,
          37.99133974583311,
          37.5,
          37.00866025416689,
          36.51732050833378,
          36.02598076250068,
          35.53464101666757,
          35.02165063541723,
          35,
          35,
          35,
          35,
          35,
          35,
          35
         ],
         "y": [
          -6,
          -6,
          -6,
          -6,
          -6,
          -3,
          -3,
          -3,
          -3,
          -3,
          0,
          0,
          0,
          0,
          0,
          3,
          3,
          3,
          3,
          3,
          6,
          6,
          6,
          6,
          6,
          -6,
          -6,
          -6,
          -6,
          -6,
          -3,
          -3,
          -3,
          -3,
          -3,
          0,
          0,
          0,
          0,
          0,
          3,
          3,
          3,
          3,
          3,
          6,
          6,
          6,
          6,
          6,
          -6,
          -6,
          -6,
          -6,
          -6,
          -3,
          -3,
          -3,
          -3,
          -3,
          0,
          0,
          0,
          0,
          0,
          3,
          3,
          3,
          3,
          3,
          6,
          6,
          6,
          6,
          6,
          -6,
          -6,
          -6,
          -6,
          -6,
          -3,
          -3,
          -3,
          -3,
          -3,
          0,
          0,
          0,
          0,
          0,
          3,
          3,
          3,
          3,
          3,
          6,
          6,
          6,
          6,
          6,
          -6,
          -6,
          -6,
          -6,
          -6,
          -3,
          -3,
          -3,
          -3,
          -3,
          0,
          0,
          0,
          0,
          0,
          3,
          3,
          3,
          3,
          3,
          6,
          6,
          6,
          6,
          6,
          -6,
          -6,
          -6,
          -6,
          -6,
          -3,
          -3,
          -3,
          -3,
          -3,
          0,
          0,
          0,
          0,
          0,
          3,
          3,
          3,
          3,
          3,
          6,
          6,
          6,
          6,
          6,
          -6,
          -6,
          -6,
          -6,
          -6,
          -3,
          -3,
          -3,
          -3,
          -3,
          0,
          0,
          0,
          0,
          0,
          3,
          3,
          3,
          3,
          3,
          6,
          6,
          6,
          6,
          6,
          -6,
          -6,
          -6,
          -6,
          -6,
          -3,
          -3,
          -3,
          -3,
          -3,
          0,
          0,
          0,
          0,
          0,
          3,
          3,
          3,
          3,
          3,
          6,
          6,
          6,
          6,
          6,
          -6,
          -6,
          -6,
          -6,
          -6,
          -3,
          -3,
          -3,
          -3,
          -3,
          0,
          0,
          0,
          0,
          0,
          3,
          3,
          3,
          3,
          3,
          6,
          6,
          6,
          6,
          6,
          3,
          3.050000000745058,
          3.025000000372529,
          5.949999999254942,
          6,
          5.974999999627471,
          6,
          5.949999999254942,
          5.974999999627471,
          3,
          3.025000000372529,
          3.050000000745058,
          3,
          3,
          3,
          3,
          3,
          3,
          3,
          3,
          3,
          3,
          3,
          3.025000000372529,
          3.533333333830039,
          4.01666666691502,
          4.5,
          4.983333333084981,
          5.466666666169962,
          5.974999999627471,
          6,
          6,
          6,
          6,
          6,
          6,
          6,
          6,
          6,
          6,
          6,
          5.974999999627471,
          5.466666666169961,
          4.98333333308498,
          4.5,
          4.016666666915019,
          3.5333333338300386,
          3.025000000372529
         ],
         "z": [
          -4,
          -2,
          0,
          2,
          4,
          -4,
          -2,
          0,
          2,
          4,
          -4,
          -2,
          0,
          2,
          4,
          -4,
          -2,
          0,
          2,
          4,
          -4,
          -2,
          0,
          2,
          4,
          -4,
          -2,
          0,
          2,
          4,
          -4,
          -2,
          0,
          2,
          4,
          -4,
          -2,
          0,
          2,
          4,
          -4,
          -2,
          0,
          2,
          4,
          -4,
          -2,
          0,
          2,
          4,
          -4,
          -2,
          0,
          2,
          4,
          -4,
          -2,
          0,
          2,
          4,
          -4,
          -2,
          0,
          2,
          4,
          -4,
          -2,
          0,
          2,
          4,
          -4,
          -2,
          0,
          2,
          4,
          -4,
          -2,
          0,
          2,
          4,
          -4,
          -2,
          0,
          2,
          4,
          -4,
          -2,
          0,
          2,
          4,
          -4,
          -2,
          0,
          2,
          4,
          -4,
          -2,
          0,
          2,
          4,
          -4,
          -2,
          0,
          2,
          4,
          -4,
          -2,
          0,
          2,
          4,
          -4,
          -2,
          0,
          2,
          4,
          -4,
          -2,
          0,
          2,
          4,
          -4,
          -2,
          0,
          2,
          4,
          -4,
          -2,
          0,
          2,
          4,
          -4,
          -2,
          0,
          2,
          4,
          -4,
          -2,
          0,
          2,
          4,
          -4,
          -2,
          0,
          2,
          4,
          -4,
          -2,
          0,
          2,
          4,
          -4,
          -2,
          0,
          2,
          4,
          -4,
          -2,
          0,
          2,
          4,
          -4,
          -2,
          0,
          2,
          4,
          -4,
          -2,
          0,
          2,
          4,
          -4,
          -2,
          0,
          2,
          4,
          -4,
          -2,
          0,
          2,
          4,
          -4,
          -2,
          0,
          2,
          4,
          -4,
          -2,
          0,
          2,
          4,
          -4,
          -2,
          0,
          2,
          4,
          -4,
          -2,
          0,
          2,
          4,
          -4,
          -2,
          0,
          2,
          4,
          -4,
          -2,
          0,
          2,
          4,
          -4,
          -2,
          0,
          2,
          4,
          -4,
          -2,
          0,
          2,
          4,
          -4,
          -2,
          0,
          2,
          4,
          4,
          4,
          4,
          4,
          4,
          4,
          4,
          4,
          4,
          4,
          4,
          4,
          4,
          4,
          4,
          4,
          4,
          4,
          4,
          4,
          4,
          4,
          4,
          4,
          4,
          4,
          4,
          4,
          4,
          4,
          4,
          4,
          4,
          4,
          4,
          4,
          4,
          4,
          4,
          4,
          4,
          4,
          4,
          4,
          4,
          4,
          4,
          4
         ]
        },
        {
         "hoverinfo": "skip",
         "line": {
          "color": "black",
          "width": 4
         },
         "mode": "lines",
         "showlegend": false,
         "type": "scatter3d",
         "x": [
          0,
          0
         ],
         "y": [
          -6,
          -6
         ],
         "z": [
          -4,
          -2
         ]
        },
        {
         "hoverinfo": "skip",
         "line": {
          "color": "black",
          "width": 4
         },
         "mode": "lines",
         "showlegend": false,
         "type": "scatter3d",
         "x": [
          0,
          0
         ],
         "y": [
          -6,
          -3
         ],
         "z": [
          -4,
          -4
         ]
        },
        {
         "hoverinfo": "skip",
         "line": {
          "color": "black",
          "width": 4
         },
         "mode": "lines",
         "showlegend": false,
         "type": "scatter3d",
         "x": [
          0,
          5
         ],
         "y": [
          -6,
          -6
         ],
         "z": [
          -4,
          -4
         ]
        },
        {
         "hoverinfo": "skip",
         "line": {
          "color": "black",
          "width": 4
         },
         "mode": "lines",
         "showlegend": false,
         "type": "scatter3d",
         "x": [
          0,
          0
         ],
         "y": [
          -6,
          -6
         ],
         "z": [
          -2,
          0
         ]
        },
        {
         "hoverinfo": "skip",
         "line": {
          "color": "black",
          "width": 4
         },
         "mode": "lines",
         "showlegend": false,
         "type": "scatter3d",
         "x": [
          0,
          0
         ],
         "y": [
          -6,
          -3
         ],
         "z": [
          -2,
          -2
         ]
        },
        {
         "hoverinfo": "skip",
         "line": {
          "color": "black",
          "width": 4
         },
         "mode": "lines",
         "showlegend": false,
         "type": "scatter3d",
         "x": [
          0,
          5
         ],
         "y": [
          -6,
          -6
         ],
         "z": [
          -2,
          -2
         ]
        },
        {
         "hoverinfo": "skip",
         "line": {
          "color": "black",
          "width": 4
         },
         "mode": "lines",
         "showlegend": false,
         "type": "scatter3d",
         "x": [
          0,
          0
         ],
         "y": [
          -6,
          -6
         ],
         "z": [
          0,
          2
         ]
        },
        {
         "hoverinfo": "skip",
         "line": {
          "color": "black",
          "width": 4
         },
         "mode": "lines",
         "showlegend": false,
         "type": "scatter3d",
         "x": [
          0,
          0
         ],
         "y": [
          -6,
          -3
         ],
         "z": [
          0,
          0
         ]
        },
        {
         "hoverinfo": "skip",
         "line": {
          "color": "black",
          "width": 4
         },
         "mode": "lines",
         "showlegend": false,
         "type": "scatter3d",
         "x": [
          0,
          5
         ],
         "y": [
          -6,
          -6
         ],
         "z": [
          0,
          0
         ]
        },
        {
         "hoverinfo": "skip",
         "line": {
          "color": "black",
          "width": 4
         },
         "mode": "lines",
         "showlegend": false,
         "type": "scatter3d",
         "x": [
          0,
          0
         ],
         "y": [
          -6,
          -6
         ],
         "z": [
          2,
          4
         ]
        },
        {
         "hoverinfo": "skip",
         "line": {
          "color": "black",
          "width": 4
         },
         "mode": "lines",
         "showlegend": false,
         "type": "scatter3d",
         "x": [
          0,
          0
         ],
         "y": [
          -6,
          -3
         ],
         "z": [
          2,
          2
         ]
        },
        {
         "hoverinfo": "skip",
         "line": {
          "color": "black",
          "width": 4
         },
         "mode": "lines",
         "showlegend": false,
         "type": "scatter3d",
         "x": [
          0,
          5
         ],
         "y": [
          -6,
          -6
         ],
         "z": [
          2,
          2
         ]
        },
        {
         "hoverinfo": "skip",
         "line": {
          "color": "black",
          "width": 4
         },
         "mode": "lines",
         "showlegend": false,
         "type": "scatter3d",
         "x": [
          0,
          0
         ],
         "y": [
          -6,
          -3
         ],
         "z": [
          4,
          4
         ]
        },
        {
         "hoverinfo": "skip",
         "line": {
          "color": "black",
          "width": 4
         },
         "mode": "lines",
         "showlegend": false,
         "type": "scatter3d",
         "x": [
          0,
          5
         ],
         "y": [
          -6,
          -6
         ],
         "z": [
          4,
          4
         ]
        },
        {
         "hoverinfo": "skip",
         "line": {
          "color": "black",
          "width": 4
         },
         "mode": "lines",
         "showlegend": false,
         "type": "scatter3d",
         "x": [
          0,
          0
         ],
         "y": [
          -3,
          -3
         ],
         "z": [
          -4,
          -2
         ]
        },
        {
         "hoverinfo": "skip",
         "line": {
          "color": "black",
          "width": 4
         },
         "mode": "lines",
         "showlegend": false,
         "type": "scatter3d",
         "x": [
          0,
          0
         ],
         "y": [
          -3,
          0
         ],
         "z": [
          -4,
          -4
         ]
        },
        {
         "hoverinfo": "skip",
         "line": {
          "color": "black",
          "width": 4
         },
         "mode": "lines",
         "showlegend": false,
         "type": "scatter3d",
         "x": [
          0,
          5
         ],
         "y": [
          -3,
          -3
         ],
         "z": [
          -4,
          -4
         ]
        },
        {
         "hoverinfo": "skip",
         "line": {
          "color": "black",
          "width": 4
         },
         "mode": "lines",
         "showlegend": false,
         "type": "scatter3d",
         "x": [
          0,
          0
         ],
         "y": [
          -3,
          -3
         ],
         "z": [
          -2,
          0
         ]
        },
        {
         "hoverinfo": "skip",
         "line": {
          "color": "black",
          "width": 4
         },
         "mode": "lines",
         "showlegend": false,
         "type": "scatter3d",
         "x": [
          0,
          0
         ],
         "y": [
          -3,
          0
         ],
         "z": [
          -2,
          -2
         ]
        },
        {
         "hoverinfo": "skip",
         "line": {
          "color": "black",
          "width": 4
         },
         "mode": "lines",
         "showlegend": false,
         "type": "scatter3d",
         "x": [
          0,
          5
         ],
         "y": [
          -3,
          -3
         ],
         "z": [
          -2,
          -2
         ]
        },
        {
         "hoverinfo": "skip",
         "line": {
          "color": "black",
          "width": 4
         },
         "mode": "lines",
         "showlegend": false,
         "type": "scatter3d",
         "x": [
          0,
          0
         ],
         "y": [
          -3,
          -3
         ],
         "z": [
          0,
          2
         ]
        },
        {
         "hoverinfo": "skip",
         "line": {
          "color": "black",
          "width": 4
         },
         "mode": "lines",
         "showlegend": false,
         "type": "scatter3d",
         "x": [
          0,
          0
         ],
         "y": [
          -3,
          0
         ],
         "z": [
          0,
          0
         ]
        },
        {
         "hoverinfo": "skip",
         "line": {
          "color": "black",
          "width": 4
         },
         "mode": "lines",
         "showlegend": false,
         "type": "scatter3d",
         "x": [
          0,
          5
         ],
         "y": [
          -3,
          -3
         ],
         "z": [
          0,
          0
         ]
        },
        {
         "hoverinfo": "skip",
         "line": {
          "color": "black",
          "width": 4
         },
         "mode": "lines",
         "showlegend": false,
         "type": "scatter3d",
         "x": [
          0,
          0
         ],
         "y": [
          -3,
          -3
         ],
         "z": [
          2,
          4
         ]
        },
        {
         "hoverinfo": "skip",
         "line": {
          "color": "black",
          "width": 4
         },
         "mode": "lines",
         "showlegend": false,
         "type": "scatter3d",
         "x": [
          0,
          0
         ],
         "y": [
          -3,
          0
         ],
         "z": [
          2,
          2
         ]
        },
        {
         "hoverinfo": "skip",
         "line": {
          "color": "black",
          "width": 4
         },
         "mode": "lines",
         "showlegend": false,
         "type": "scatter3d",
         "x": [
          0,
          5
         ],
         "y": [
          -3,
          -3
         ],
         "z": [
          2,
          2
         ]
        },
        {
         "hoverinfo": "skip",
         "line": {
          "color": "black",
          "width": 4
         },
         "mode": "lines",
         "showlegend": false,
         "type": "scatter3d",
         "x": [
          0,
          0
         ],
         "y": [
          -3,
          0
         ],
         "z": [
          4,
          4
         ]
        },
        {
         "hoverinfo": "skip",
         "line": {
          "color": "black",
          "width": 4
         },
         "mode": "lines",
         "showlegend": false,
         "type": "scatter3d",
         "x": [
          0,
          5
         ],
         "y": [
          -3,
          -3
         ],
         "z": [
          4,
          4
         ]
        },
        {
         "hoverinfo": "skip",
         "line": {
          "color": "black",
          "width": 4
         },
         "mode": "lines",
         "showlegend": false,
         "type": "scatter3d",
         "x": [
          0,
          0
         ],
         "y": [
          0,
          0
         ],
         "z": [
          -4,
          -2
         ]
        },
        {
         "hoverinfo": "skip",
         "line": {
          "color": "black",
          "width": 4
         },
         "mode": "lines",
         "showlegend": false,
         "type": "scatter3d",
         "x": [
          0,
          0
         ],
         "y": [
          0,
          3
         ],
         "z": [
          -4,
          -4
         ]
        },
        {
         "hoverinfo": "skip",
         "line": {
          "color": "black",
          "width": 4
         },
         "mode": "lines",
         "showlegend": false,
         "type": "scatter3d",
         "x": [
          0,
          5
         ],
         "y": [
          0,
          0
         ],
         "z": [
          -4,
          -4
         ]
        },
        {
         "hoverinfo": "skip",
         "line": {
          "color": "black",
          "width": 4
         },
         "mode": "lines",
         "showlegend": false,
         "type": "scatter3d",
         "x": [
          0,
          0
         ],
         "y": [
          0,
          0
         ],
         "z": [
          -2,
          0
         ]
        },
        {
         "hoverinfo": "skip",
         "line": {
          "color": "black",
          "width": 4
         },
         "mode": "lines",
         "showlegend": false,
         "type": "scatter3d",
         "x": [
          0,
          0
         ],
         "y": [
          0,
          3
         ],
         "z": [
          -2,
          -2
         ]
        },
        {
         "hoverinfo": "skip",
         "line": {
          "color": "black",
          "width": 4
         },
         "mode": "lines",
         "showlegend": false,
         "type": "scatter3d",
         "x": [
          0,
          5
         ],
         "y": [
          0,
          0
         ],
         "z": [
          -2,
          -2
         ]
        },
        {
         "hoverinfo": "skip",
         "line": {
          "color": "black",
          "width": 4
         },
         "mode": "lines",
         "showlegend": false,
         "type": "scatter3d",
         "x": [
          0,
          0
         ],
         "y": [
          0,
          0
         ],
         "z": [
          0,
          2
         ]
        },
        {
         "hoverinfo": "skip",
         "line": {
          "color": "black",
          "width": 4
         },
         "mode": "lines",
         "showlegend": false,
         "type": "scatter3d",
         "x": [
          0,
          0
         ],
         "y": [
          0,
          3
         ],
         "z": [
          0,
          0
         ]
        },
        {
         "hoverinfo": "skip",
         "line": {
          "color": "black",
          "width": 4
         },
         "mode": "lines",
         "showlegend": false,
         "type": "scatter3d",
         "x": [
          0,
          5
         ],
         "y": [
          0,
          0
         ],
         "z": [
          0,
          0
         ]
        },
        {
         "hoverinfo": "skip",
         "line": {
          "color": "black",
          "width": 4
         },
         "mode": "lines",
         "showlegend": false,
         "type": "scatter3d",
         "x": [
          0,
          0
         ],
         "y": [
          0,
          0
         ],
         "z": [
          2,
          4
         ]
        },
        {
         "hoverinfo": "skip",
         "line": {
          "color": "black",
          "width": 4
         },
         "mode": "lines",
         "showlegend": false,
         "type": "scatter3d",
         "x": [
          0,
          0
         ],
         "y": [
          0,
          3
         ],
         "z": [
          2,
          2
         ]
        },
        {
         "hoverinfo": "skip",
         "line": {
          "color": "black",
          "width": 4
         },
         "mode": "lines",
         "showlegend": false,
         "type": "scatter3d",
         "x": [
          0,
          5
         ],
         "y": [
          0,
          0
         ],
         "z": [
          2,
          2
         ]
        },
        {
         "hoverinfo": "skip",
         "line": {
          "color": "black",
          "width": 4
         },
         "mode": "lines",
         "showlegend": false,
         "type": "scatter3d",
         "x": [
          0,
          0
         ],
         "y": [
          0,
          3
         ],
         "z": [
          4,
          4
         ]
        },
        {
         "hoverinfo": "skip",
         "line": {
          "color": "black",
          "width": 4
         },
         "mode": "lines",
         "showlegend": false,
         "type": "scatter3d",
         "x": [
          0,
          5
         ],
         "y": [
          0,
          0
         ],
         "z": [
          4,
          4
         ]
        },
        {
         "hoverinfo": "skip",
         "line": {
          "color": "black",
          "width": 4
         },
         "mode": "lines",
         "showlegend": false,
         "type": "scatter3d",
         "x": [
          0,
          0
         ],
         "y": [
          3,
          3
         ],
         "z": [
          -4,
          -2
         ]
        },
        {
         "hoverinfo": "skip",
         "line": {
          "color": "black",
          "width": 4
         },
         "mode": "lines",
         "showlegend": false,
         "type": "scatter3d",
         "x": [
          0,
          0
         ],
         "y": [
          3,
          6
         ],
         "z": [
          -4,
          -4
         ]
        },
        {
         "hoverinfo": "skip",
         "line": {
          "color": "black",
          "width": 4
         },
         "mode": "lines",
         "showlegend": false,
         "type": "scatter3d",
         "x": [
          0,
          5
         ],
         "y": [
          3,
          3
         ],
         "z": [
          -4,
          -4
         ]
        },
        {
         "hoverinfo": "skip",
         "line": {
          "color": "black",
          "width": 4
         },
         "mode": "lines",
         "showlegend": false,
         "type": "scatter3d",
         "x": [
          0,
          0
         ],
         "y": [
          3,
          3
         ],
         "z": [
          -2,
          0
         ]
        },
        {
         "hoverinfo": "skip",
         "line": {
          "color": "black",
          "width": 4
         },
         "mode": "lines",
         "showlegend": false,
         "type": "scatter3d",
         "x": [
          0,
          0
         ],
         "y": [
          3,
          6
         ],
         "z": [
          -2,
          -2
         ]
        },
        {
         "hoverinfo": "skip",
         "line": {
          "color": "black",
          "width": 4
         },
         "mode": "lines",
         "showlegend": false,
         "type": "scatter3d",
         "x": [
          0,
          5
         ],
         "y": [
          3,
          3
         ],
         "z": [
          -2,
          -2
         ]
        },
        {
         "hoverinfo": "skip",
         "line": {
          "color": "black",
          "width": 4
         },
         "mode": "lines",
         "showlegend": false,
         "type": "scatter3d",
         "x": [
          0,
          0
         ],
         "y": [
          3,
          3
         ],
         "z": [
          0,
          2
         ]
        },
        {
         "hoverinfo": "skip",
         "line": {
          "color": "black",
          "width": 4
         },
         "mode": "lines",
         "showlegend": false,
         "type": "scatter3d",
         "x": [
          0,
          0
         ],
         "y": [
          3,
          6
         ],
         "z": [
          0,
          0
         ]
        },
        {
         "hoverinfo": "skip",
         "line": {
          "color": "black",
          "width": 4
         },
         "mode": "lines",
         "showlegend": false,
         "type": "scatter3d",
         "x": [
          0,
          5
         ],
         "y": [
          3,
          3
         ],
         "z": [
          0,
          0
         ]
        },
        {
         "hoverinfo": "skip",
         "line": {
          "color": "black",
          "width": 4
         },
         "mode": "lines",
         "showlegend": false,
         "type": "scatter3d",
         "x": [
          0,
          0
         ],
         "y": [
          3,
          3
         ],
         "z": [
          2,
          4
         ]
        },
        {
         "hoverinfo": "skip",
         "line": {
          "color": "black",
          "width": 4
         },
         "mode": "lines",
         "showlegend": false,
         "type": "scatter3d",
         "x": [
          0,
          0
         ],
         "y": [
          3,
          6
         ],
         "z": [
          2,
          2
         ]
        },
        {
         "hoverinfo": "skip",
         "line": {
          "color": "black",
          "width": 4
         },
         "mode": "lines",
         "showlegend": false,
         "type": "scatter3d",
         "x": [
          0,
          5
         ],
         "y": [
          3,
          3
         ],
         "z": [
          2,
          2
         ]
        },
        {
         "hoverinfo": "skip",
         "line": {
          "color": "black",
          "width": 4
         },
         "mode": "lines",
         "showlegend": false,
         "type": "scatter3d",
         "x": [
          0,
          0
         ],
         "y": [
          3,
          6
         ],
         "z": [
          4,
          4
         ]
        },
        {
         "hoverinfo": "skip",
         "line": {
          "color": "black",
          "width": 4
         },
         "mode": "lines",
         "showlegend": false,
         "type": "scatter3d",
         "x": [
          0,
          5
         ],
         "y": [
          3,
          3
         ],
         "z": [
          4,
          4
         ]
        },
        {
         "hoverinfo": "skip",
         "line": {
          "color": "black",
          "width": 4
         },
         "mode": "lines",
         "showlegend": false,
         "type": "scatter3d",
         "x": [
          0,
          0
         ],
         "y": [
          6,
          6
         ],
         "z": [
          -4,
          -2
         ]
        },
        {
         "hoverinfo": "skip",
         "line": {
          "color": "black",
          "width": 4
         },
         "mode": "lines",
         "showlegend": false,
         "type": "scatter3d",
         "x": [
          0,
          5
         ],
         "y": [
          6,
          6
         ],
         "z": [
          -4,
          -4
         ]
        },
        {
         "hoverinfo": "skip",
         "line": {
          "color": "black",
          "width": 4
         },
         "mode": "lines",
         "showlegend": false,
         "type": "scatter3d",
         "x": [
          0,
          0
         ],
         "y": [
          6,
          6
         ],
         "z": [
          -2,
          0
         ]
        },
        {
         "hoverinfo": "skip",
         "line": {
          "color": "black",
          "width": 4
         },
         "mode": "lines",
         "showlegend": false,
         "type": "scatter3d",
         "x": [
          0,
          5
         ],
         "y": [
          6,
          6
         ],
         "z": [
          -2,
          -2
         ]
        },
        {
         "hoverinfo": "skip",
         "line": {
          "color": "black",
          "width": 4
         },
         "mode": "lines",
         "showlegend": false,
         "type": "scatter3d",
         "x": [
          0,
          0
         ],
         "y": [
          6,
          6
         ],
         "z": [
          0,
          2
         ]
        },
        {
         "hoverinfo": "skip",
         "line": {
          "color": "black",
          "width": 4
         },
         "mode": "lines",
         "showlegend": false,
         "type": "scatter3d",
         "x": [
          0,
          5
         ],
         "y": [
          6,
          6
         ],
         "z": [
          0,
          0
         ]
        },
        {
         "hoverinfo": "skip",
         "line": {
          "color": "black",
          "width": 4
         },
         "mode": "lines",
         "showlegend": false,
         "type": "scatter3d",
         "x": [
          0,
          0
         ],
         "y": [
          6,
          6
         ],
         "z": [
          2,
          4
         ]
        },
        {
         "hoverinfo": "skip",
         "line": {
          "color": "black",
          "width": 4
         },
         "mode": "lines",
         "showlegend": false,
         "type": "scatter3d",
         "x": [
          0,
          5
         ],
         "y": [
          6,
          6
         ],
         "z": [
          2,
          2
         ]
        },
        {
         "hoverinfo": "skip",
         "line": {
          "color": "black",
          "width": 4
         },
         "mode": "lines",
         "showlegend": false,
         "type": "scatter3d",
         "x": [
          0,
          5
         ],
         "y": [
          6,
          6
         ],
         "z": [
          4,
          4
         ]
        },
        {
         "hoverinfo": "skip",
         "line": {
          "color": "black",
          "width": 4
         },
         "mode": "lines",
         "showlegend": false,
         "type": "scatter3d",
         "x": [
          5,
          5
         ],
         "y": [
          -6,
          -6
         ],
         "z": [
          -4,
          -2
         ]
        },
        {
         "hoverinfo": "skip",
         "line": {
          "color": "black",
          "width": 4
         },
         "mode": "lines",
         "showlegend": false,
         "type": "scatter3d",
         "x": [
          5,
          5
         ],
         "y": [
          -6,
          -3
         ],
         "z": [
          -4,
          -4
         ]
        },
        {
         "hoverinfo": "skip",
         "line": {
          "color": "black",
          "width": 4
         },
         "mode": "lines",
         "showlegend": false,
         "type": "scatter3d",
         "x": [
          5,
          10
         ],
         "y": [
          -6,
          -6
         ],
         "z": [
          -4,
          -4
         ]
        },
        {
         "hoverinfo": "skip",
         "line": {
          "color": "black",
          "width": 4
         },
         "mode": "lines",
         "showlegend": false,
         "type": "scatter3d",
         "x": [
          5,
          5
         ],
         "y": [
          -6,
          -6
         ],
         "z": [
          -2,
          0
         ]
        },
        {
         "hoverinfo": "skip",
         "line": {
          "color": "black",
          "width": 4
         },
         "mode": "lines",
         "showlegend": false,
         "type": "scatter3d",
         "x": [
          5,
          5
         ],
         "y": [
          -6,
          -3
         ],
         "z": [
          -2,
          -2
         ]
        },
        {
         "hoverinfo": "skip",
         "line": {
          "color": "black",
          "width": 4
         },
         "mode": "lines",
         "showlegend": false,
         "type": "scatter3d",
         "x": [
          5,
          10
         ],
         "y": [
          -6,
          -6
         ],
         "z": [
          -2,
          -2
         ]
        },
        {
         "hoverinfo": "skip",
         "line": {
          "color": "black",
          "width": 4
         },
         "mode": "lines",
         "showlegend": false,
         "type": "scatter3d",
         "x": [
          5,
          5
         ],
         "y": [
          -6,
          -6
         ],
         "z": [
          0,
          2
         ]
        },
        {
         "hoverinfo": "skip",
         "line": {
          "color": "black",
          "width": 4
         },
         "mode": "lines",
         "showlegend": false,
         "type": "scatter3d",
         "x": [
          5,
          5
         ],
         "y": [
          -6,
          -3
         ],
         "z": [
          0,
          0
         ]
        },
        {
         "hoverinfo": "skip",
         "line": {
          "color": "black",
          "width": 4
         },
         "mode": "lines",
         "showlegend": false,
         "type": "scatter3d",
         "x": [
          5,
          10
         ],
         "y": [
          -6,
          -6
         ],
         "z": [
          0,
          0
         ]
        },
        {
         "hoverinfo": "skip",
         "line": {
          "color": "black",
          "width": 4
         },
         "mode": "lines",
         "showlegend": false,
         "type": "scatter3d",
         "x": [
          5,
          5
         ],
         "y": [
          -6,
          -6
         ],
         "z": [
          2,
          4
         ]
        },
        {
         "hoverinfo": "skip",
         "line": {
          "color": "black",
          "width": 4
         },
         "mode": "lines",
         "showlegend": false,
         "type": "scatter3d",
         "x": [
          5,
          5
         ],
         "y": [
          -6,
          -3
         ],
         "z": [
          2,
          2
         ]
        },
        {
         "hoverinfo": "skip",
         "line": {
          "color": "black",
          "width": 4
         },
         "mode": "lines",
         "showlegend": false,
         "type": "scatter3d",
         "x": [
          5,
          10
         ],
         "y": [
          -6,
          -6
         ],
         "z": [
          2,
          2
         ]
        },
        {
         "hoverinfo": "skip",
         "line": {
          "color": "black",
          "width": 4
         },
         "mode": "lines",
         "showlegend": false,
         "type": "scatter3d",
         "x": [
          5,
          5
         ],
         "y": [
          -6,
          -3
         ],
         "z": [
          4,
          4
         ]
        },
        {
         "hoverinfo": "skip",
         "line": {
          "color": "black",
          "width": 4
         },
         "mode": "lines",
         "showlegend": false,
         "type": "scatter3d",
         "x": [
          5,
          10
         ],
         "y": [
          -6,
          -6
         ],
         "z": [
          4,
          4
         ]
        },
        {
         "hoverinfo": "skip",
         "line": {
          "color": "black",
          "width": 4
         },
         "mode": "lines",
         "showlegend": false,
         "type": "scatter3d",
         "x": [
          5,
          5
         ],
         "y": [
          -3,
          -3
         ],
         "z": [
          -4,
          -2
         ]
        },
        {
         "hoverinfo": "skip",
         "line": {
          "color": "black",
          "width": 4
         },
         "mode": "lines",
         "showlegend": false,
         "type": "scatter3d",
         "x": [
          5,
          5
         ],
         "y": [
          -3,
          0
         ],
         "z": [
          -4,
          -4
         ]
        },
        {
         "hoverinfo": "skip",
         "line": {
          "color": "black",
          "width": 4
         },
         "mode": "lines",
         "showlegend": false,
         "type": "scatter3d",
         "x": [
          5,
          10
         ],
         "y": [
          -3,
          -3
         ],
         "z": [
          -4,
          -4
         ]
        },
        {
         "hoverinfo": "skip",
         "line": {
          "color": "black",
          "width": 4
         },
         "mode": "lines",
         "showlegend": false,
         "type": "scatter3d",
         "x": [
          5,
          5
         ],
         "y": [
          -3,
          -3
         ],
         "z": [
          -2,
          0
         ]
        },
        {
         "hoverinfo": "skip",
         "line": {
          "color": "black",
          "width": 4
         },
         "mode": "lines",
         "showlegend": false,
         "type": "scatter3d",
         "x": [
          5,
          5
         ],
         "y": [
          -3,
          0
         ],
         "z": [
          -2,
          -2
         ]
        },
        {
         "hoverinfo": "skip",
         "line": {
          "color": "black",
          "width": 4
         },
         "mode": "lines",
         "showlegend": false,
         "type": "scatter3d",
         "x": [
          5,
          10
         ],
         "y": [
          -3,
          -3
         ],
         "z": [
          -2,
          -2
         ]
        },
        {
         "hoverinfo": "skip",
         "line": {
          "color": "black",
          "width": 4
         },
         "mode": "lines",
         "showlegend": false,
         "type": "scatter3d",
         "x": [
          5,
          5
         ],
         "y": [
          -3,
          -3
         ],
         "z": [
          0,
          2
         ]
        },
        {
         "hoverinfo": "skip",
         "line": {
          "color": "black",
          "width": 4
         },
         "mode": "lines",
         "showlegend": false,
         "type": "scatter3d",
         "x": [
          5,
          5
         ],
         "y": [
          -3,
          0
         ],
         "z": [
          0,
          0
         ]
        },
        {
         "hoverinfo": "skip",
         "line": {
          "color": "black",
          "width": 4
         },
         "mode": "lines",
         "showlegend": false,
         "type": "scatter3d",
         "x": [
          5,
          10
         ],
         "y": [
          -3,
          -3
         ],
         "z": [
          0,
          0
         ]
        },
        {
         "hoverinfo": "skip",
         "line": {
          "color": "black",
          "width": 4
         },
         "mode": "lines",
         "showlegend": false,
         "type": "scatter3d",
         "x": [
          5,
          5
         ],
         "y": [
          -3,
          -3
         ],
         "z": [
          2,
          4
         ]
        },
        {
         "hoverinfo": "skip",
         "line": {
          "color": "black",
          "width": 4
         },
         "mode": "lines",
         "showlegend": false,
         "type": "scatter3d",
         "x": [
          5,
          5
         ],
         "y": [
          -3,
          0
         ],
         "z": [
          2,
          2
         ]
        },
        {
         "hoverinfo": "skip",
         "line": {
          "color": "black",
          "width": 4
         },
         "mode": "lines",
         "showlegend": false,
         "type": "scatter3d",
         "x": [
          5,
          10
         ],
         "y": [
          -3,
          -3
         ],
         "z": [
          2,
          2
         ]
        },
        {
         "hoverinfo": "skip",
         "line": {
          "color": "black",
          "width": 4
         },
         "mode": "lines",
         "showlegend": false,
         "type": "scatter3d",
         "x": [
          5,
          5
         ],
         "y": [
          -3,
          0
         ],
         "z": [
          4,
          4
         ]
        },
        {
         "hoverinfo": "skip",
         "line": {
          "color": "black",
          "width": 4
         },
         "mode": "lines",
         "showlegend": false,
         "type": "scatter3d",
         "x": [
          5,
          10
         ],
         "y": [
          -3,
          -3
         ],
         "z": [
          4,
          4
         ]
        },
        {
         "hoverinfo": "skip",
         "line": {
          "color": "black",
          "width": 4
         },
         "mode": "lines",
         "showlegend": false,
         "type": "scatter3d",
         "x": [
          5,
          5
         ],
         "y": [
          0,
          0
         ],
         "z": [
          -4,
          -2
         ]
        },
        {
         "hoverinfo": "skip",
         "line": {
          "color": "black",
          "width": 4
         },
         "mode": "lines",
         "showlegend": false,
         "type": "scatter3d",
         "x": [
          5,
          5
         ],
         "y": [
          0,
          3
         ],
         "z": [
          -4,
          -4
         ]
        },
        {
         "hoverinfo": "skip",
         "line": {
          "color": "black",
          "width": 4
         },
         "mode": "lines",
         "showlegend": false,
         "type": "scatter3d",
         "x": [
          5,
          10
         ],
         "y": [
          0,
          0
         ],
         "z": [
          -4,
          -4
         ]
        },
        {
         "hoverinfo": "skip",
         "line": {
          "color": "black",
          "width": 4
         },
         "mode": "lines",
         "showlegend": false,
         "type": "scatter3d",
         "x": [
          5,
          5
         ],
         "y": [
          0,
          0
         ],
         "z": [
          -2,
          0
         ]
        },
        {
         "hoverinfo": "skip",
         "line": {
          "color": "black",
          "width": 4
         },
         "mode": "lines",
         "showlegend": false,
         "type": "scatter3d",
         "x": [
          5,
          5
         ],
         "y": [
          0,
          3
         ],
         "z": [
          -2,
          -2
         ]
        },
        {
         "hoverinfo": "skip",
         "line": {
          "color": "black",
          "width": 4
         },
         "mode": "lines",
         "showlegend": false,
         "type": "scatter3d",
         "x": [
          5,
          10
         ],
         "y": [
          0,
          0
         ],
         "z": [
          -2,
          -2
         ]
        },
        {
         "hoverinfo": "skip",
         "line": {
          "color": "black",
          "width": 4
         },
         "mode": "lines",
         "showlegend": false,
         "type": "scatter3d",
         "x": [
          5,
          5
         ],
         "y": [
          0,
          0
         ],
         "z": [
          0,
          2
         ]
        },
        {
         "hoverinfo": "skip",
         "line": {
          "color": "black",
          "width": 4
         },
         "mode": "lines",
         "showlegend": false,
         "type": "scatter3d",
         "x": [
          5,
          5
         ],
         "y": [
          0,
          3
         ],
         "z": [
          0,
          0
         ]
        },
        {
         "hoverinfo": "skip",
         "line": {
          "color": "black",
          "width": 4
         },
         "mode": "lines",
         "showlegend": false,
         "type": "scatter3d",
         "x": [
          5,
          10
         ],
         "y": [
          0,
          0
         ],
         "z": [
          0,
          0
         ]
        },
        {
         "hoverinfo": "skip",
         "line": {
          "color": "black",
          "width": 4
         },
         "mode": "lines",
         "showlegend": false,
         "type": "scatter3d",
         "x": [
          5,
          5
         ],
         "y": [
          0,
          0
         ],
         "z": [
          2,
          4
         ]
        },
        {
         "hoverinfo": "skip",
         "line": {
          "color": "black",
          "width": 4
         },
         "mode": "lines",
         "showlegend": false,
         "type": "scatter3d",
         "x": [
          5,
          5
         ],
         "y": [
          0,
          3
         ],
         "z": [
          2,
          2
         ]
        },
        {
         "hoverinfo": "skip",
         "line": {
          "color": "black",
          "width": 4
         },
         "mode": "lines",
         "showlegend": false,
         "type": "scatter3d",
         "x": [
          5,
          10
         ],
         "y": [
          0,
          0
         ],
         "z": [
          2,
          2
         ]
        },
        {
         "hoverinfo": "skip",
         "line": {
          "color": "black",
          "width": 4
         },
         "mode": "lines",
         "showlegend": false,
         "type": "scatter3d",
         "x": [
          5,
          5
         ],
         "y": [
          0,
          3
         ],
         "z": [
          4,
          4
         ]
        },
        {
         "hoverinfo": "skip",
         "line": {
          "color": "black",
          "width": 4
         },
         "mode": "lines",
         "showlegend": false,
         "type": "scatter3d",
         "x": [
          5,
          10
         ],
         "y": [
          0,
          0
         ],
         "z": [
          4,
          4
         ]
        },
        {
         "hoverinfo": "skip",
         "line": {
          "color": "black",
          "width": 4
         },
         "mode": "lines",
         "showlegend": false,
         "type": "scatter3d",
         "x": [
          5,
          5
         ],
         "y": [
          3,
          3
         ],
         "z": [
          -4,
          -2
         ]
        },
        {
         "hoverinfo": "skip",
         "line": {
          "color": "black",
          "width": 4
         },
         "mode": "lines",
         "showlegend": false,
         "type": "scatter3d",
         "x": [
          5,
          5
         ],
         "y": [
          3,
          6
         ],
         "z": [
          -4,
          -4
         ]
        },
        {
         "hoverinfo": "skip",
         "line": {
          "color": "black",
          "width": 4
         },
         "mode": "lines",
         "showlegend": false,
         "type": "scatter3d",
         "x": [
          5,
          10
         ],
         "y": [
          3,
          3
         ],
         "z": [
          -4,
          -4
         ]
        },
        {
         "hoverinfo": "skip",
         "line": {
          "color": "black",
          "width": 4
         },
         "mode": "lines",
         "showlegend": false,
         "type": "scatter3d",
         "x": [
          5,
          5
         ],
         "y": [
          3,
          3
         ],
         "z": [
          -2,
          0
         ]
        },
        {
         "hoverinfo": "skip",
         "line": {
          "color": "black",
          "width": 4
         },
         "mode": "lines",
         "showlegend": false,
         "type": "scatter3d",
         "x": [
          5,
          5
         ],
         "y": [
          3,
          6
         ],
         "z": [
          -2,
          -2
         ]
        },
        {
         "hoverinfo": "skip",
         "line": {
          "color": "black",
          "width": 4
         },
         "mode": "lines",
         "showlegend": false,
         "type": "scatter3d",
         "x": [
          5,
          10
         ],
         "y": [
          3,
          3
         ],
         "z": [
          -2,
          -2
         ]
        },
        {
         "hoverinfo": "skip",
         "line": {
          "color": "black",
          "width": 4
         },
         "mode": "lines",
         "showlegend": false,
         "type": "scatter3d",
         "x": [
          5,
          5
         ],
         "y": [
          3,
          3
         ],
         "z": [
          0,
          2
         ]
        },
        {
         "hoverinfo": "skip",
         "line": {
          "color": "black",
          "width": 4
         },
         "mode": "lines",
         "showlegend": false,
         "type": "scatter3d",
         "x": [
          5,
          5
         ],
         "y": [
          3,
          6
         ],
         "z": [
          0,
          0
         ]
        },
        {
         "hoverinfo": "skip",
         "line": {
          "color": "black",
          "width": 4
         },
         "mode": "lines",
         "showlegend": false,
         "type": "scatter3d",
         "x": [
          5,
          10
         ],
         "y": [
          3,
          3
         ],
         "z": [
          0,
          0
         ]
        },
        {
         "hoverinfo": "skip",
         "line": {
          "color": "black",
          "width": 4
         },
         "mode": "lines",
         "showlegend": false,
         "type": "scatter3d",
         "x": [
          5,
          5
         ],
         "y": [
          3,
          3
         ],
         "z": [
          2,
          4
         ]
        },
        {
         "hoverinfo": "skip",
         "line": {
          "color": "black",
          "width": 4
         },
         "mode": "lines",
         "showlegend": false,
         "type": "scatter3d",
         "x": [
          5,
          5
         ],
         "y": [
          3,
          6
         ],
         "z": [
          2,
          2
         ]
        },
        {
         "hoverinfo": "skip",
         "line": {
          "color": "black",
          "width": 4
         },
         "mode": "lines",
         "showlegend": false,
         "type": "scatter3d",
         "x": [
          5,
          10
         ],
         "y": [
          3,
          3
         ],
         "z": [
          2,
          2
         ]
        },
        {
         "hoverinfo": "skip",
         "line": {
          "color": "black",
          "width": 4
         },
         "mode": "lines",
         "showlegend": false,
         "type": "scatter3d",
         "x": [
          5,
          5
         ],
         "y": [
          3,
          6
         ],
         "z": [
          4,
          4
         ]
        },
        {
         "hoverinfo": "skip",
         "line": {
          "color": "black",
          "width": 4
         },
         "mode": "lines",
         "showlegend": false,
         "type": "scatter3d",
         "x": [
          5,
          10
         ],
         "y": [
          3,
          3
         ],
         "z": [
          4,
          4
         ]
        },
        {
         "hoverinfo": "skip",
         "line": {
          "color": "black",
          "width": 4
         },
         "mode": "lines",
         "showlegend": false,
         "type": "scatter3d",
         "x": [
          5,
          5
         ],
         "y": [
          6,
          6
         ],
         "z": [
          -4,
          -2
         ]
        },
        {
         "hoverinfo": "skip",
         "line": {
          "color": "black",
          "width": 4
         },
         "mode": "lines",
         "showlegend": false,
         "type": "scatter3d",
         "x": [
          5,
          10
         ],
         "y": [
          6,
          6
         ],
         "z": [
          -4,
          -4
         ]
        },
        {
         "hoverinfo": "skip",
         "line": {
          "color": "black",
          "width": 4
         },
         "mode": "lines",
         "showlegend": false,
         "type": "scatter3d",
         "x": [
          5,
          5
         ],
         "y": [
          6,
          6
         ],
         "z": [
          -2,
          0
         ]
        },
        {
         "hoverinfo": "skip",
         "line": {
          "color": "black",
          "width": 4
         },
         "mode": "lines",
         "showlegend": false,
         "type": "scatter3d",
         "x": [
          5,
          10
         ],
         "y": [
          6,
          6
         ],
         "z": [
          -2,
          -2
         ]
        },
        {
         "hoverinfo": "skip",
         "line": {
          "color": "black",
          "width": 4
         },
         "mode": "lines",
         "showlegend": false,
         "type": "scatter3d",
         "x": [
          5,
          5
         ],
         "y": [
          6,
          6
         ],
         "z": [
          0,
          2
         ]
        },
        {
         "hoverinfo": "skip",
         "line": {
          "color": "black",
          "width": 4
         },
         "mode": "lines",
         "showlegend": false,
         "type": "scatter3d",
         "x": [
          5,
          10
         ],
         "y": [
          6,
          6
         ],
         "z": [
          0,
          0
         ]
        },
        {
         "hoverinfo": "skip",
         "line": {
          "color": "black",
          "width": 4
         },
         "mode": "lines",
         "showlegend": false,
         "type": "scatter3d",
         "x": [
          5,
          5
         ],
         "y": [
          6,
          6
         ],
         "z": [
          2,
          4
         ]
        },
        {
         "hoverinfo": "skip",
         "line": {
          "color": "black",
          "width": 4
         },
         "mode": "lines",
         "showlegend": false,
         "type": "scatter3d",
         "x": [
          5,
          10
         ],
         "y": [
          6,
          6
         ],
         "z": [
          2,
          2
         ]
        },
        {
         "hoverinfo": "skip",
         "line": {
          "color": "black",
          "width": 4
         },
         "mode": "lines",
         "showlegend": false,
         "type": "scatter3d",
         "x": [
          5,
          10
         ],
         "y": [
          6,
          6
         ],
         "z": [
          4,
          4
         ]
        },
        {
         "hoverinfo": "skip",
         "line": {
          "color": "black",
          "width": 4
         },
         "mode": "lines",
         "showlegend": false,
         "type": "scatter3d",
         "x": [
          10,
          10
         ],
         "y": [
          -6,
          -6
         ],
         "z": [
          -4,
          -2
         ]
        },
        {
         "hoverinfo": "skip",
         "line": {
          "color": "black",
          "width": 4
         },
         "mode": "lines",
         "showlegend": false,
         "type": "scatter3d",
         "x": [
          10,
          10
         ],
         "y": [
          -6,
          -3
         ],
         "z": [
          -4,
          -4
         ]
        },
        {
         "hoverinfo": "skip",
         "line": {
          "color": "black",
          "width": 4
         },
         "mode": "lines",
         "showlegend": false,
         "type": "scatter3d",
         "x": [
          10,
          15
         ],
         "y": [
          -6,
          -6
         ],
         "z": [
          -4,
          -4
         ]
        },
        {
         "hoverinfo": "skip",
         "line": {
          "color": "black",
          "width": 4
         },
         "mode": "lines",
         "showlegend": false,
         "type": "scatter3d",
         "x": [
          10,
          10
         ],
         "y": [
          -6,
          -6
         ],
         "z": [
          -2,
          0
         ]
        },
        {
         "hoverinfo": "skip",
         "line": {
          "color": "black",
          "width": 4
         },
         "mode": "lines",
         "showlegend": false,
         "type": "scatter3d",
         "x": [
          10,
          10
         ],
         "y": [
          -6,
          -3
         ],
         "z": [
          -2,
          -2
         ]
        },
        {
         "hoverinfo": "skip",
         "line": {
          "color": "black",
          "width": 4
         },
         "mode": "lines",
         "showlegend": false,
         "type": "scatter3d",
         "x": [
          10,
          15
         ],
         "y": [
          -6,
          -6
         ],
         "z": [
          -2,
          -2
         ]
        },
        {
         "hoverinfo": "skip",
         "line": {
          "color": "black",
          "width": 4
         },
         "mode": "lines",
         "showlegend": false,
         "type": "scatter3d",
         "x": [
          10,
          10
         ],
         "y": [
          -6,
          -6
         ],
         "z": [
          0,
          2
         ]
        },
        {
         "hoverinfo": "skip",
         "line": {
          "color": "black",
          "width": 4
         },
         "mode": "lines",
         "showlegend": false,
         "type": "scatter3d",
         "x": [
          10,
          10
         ],
         "y": [
          -6,
          -3
         ],
         "z": [
          0,
          0
         ]
        },
        {
         "hoverinfo": "skip",
         "line": {
          "color": "black",
          "width": 4
         },
         "mode": "lines",
         "showlegend": false,
         "type": "scatter3d",
         "x": [
          10,
          15
         ],
         "y": [
          -6,
          -6
         ],
         "z": [
          0,
          0
         ]
        },
        {
         "hoverinfo": "skip",
         "line": {
          "color": "black",
          "width": 4
         },
         "mode": "lines",
         "showlegend": false,
         "type": "scatter3d",
         "x": [
          10,
          10
         ],
         "y": [
          -6,
          -6
         ],
         "z": [
          2,
          4
         ]
        },
        {
         "hoverinfo": "skip",
         "line": {
          "color": "black",
          "width": 4
         },
         "mode": "lines",
         "showlegend": false,
         "type": "scatter3d",
         "x": [
          10,
          10
         ],
         "y": [
          -6,
          -3
         ],
         "z": [
          2,
          2
         ]
        },
        {
         "hoverinfo": "skip",
         "line": {
          "color": "black",
          "width": 4
         },
         "mode": "lines",
         "showlegend": false,
         "type": "scatter3d",
         "x": [
          10,
          15
         ],
         "y": [
          -6,
          -6
         ],
         "z": [
          2,
          2
         ]
        },
        {
         "hoverinfo": "skip",
         "line": {
          "color": "black",
          "width": 4
         },
         "mode": "lines",
         "showlegend": false,
         "type": "scatter3d",
         "x": [
          10,
          10
         ],
         "y": [
          -6,
          -3
         ],
         "z": [
          4,
          4
         ]
        },
        {
         "hoverinfo": "skip",
         "line": {
          "color": "black",
          "width": 4
         },
         "mode": "lines",
         "showlegend": false,
         "type": "scatter3d",
         "x": [
          10,
          15
         ],
         "y": [
          -6,
          -6
         ],
         "z": [
          4,
          4
         ]
        },
        {
         "hoverinfo": "skip",
         "line": {
          "color": "black",
          "width": 4
         },
         "mode": "lines",
         "showlegend": false,
         "type": "scatter3d",
         "x": [
          10,
          10
         ],
         "y": [
          -3,
          -3
         ],
         "z": [
          -4,
          -2
         ]
        },
        {
         "hoverinfo": "skip",
         "line": {
          "color": "black",
          "width": 4
         },
         "mode": "lines",
         "showlegend": false,
         "type": "scatter3d",
         "x": [
          10,
          10
         ],
         "y": [
          -3,
          0
         ],
         "z": [
          -4,
          -4
         ]
        },
        {
         "hoverinfo": "skip",
         "line": {
          "color": "black",
          "width": 4
         },
         "mode": "lines",
         "showlegend": false,
         "type": "scatter3d",
         "x": [
          10,
          15
         ],
         "y": [
          -3,
          -3
         ],
         "z": [
          -4,
          -4
         ]
        },
        {
         "hoverinfo": "skip",
         "line": {
          "color": "black",
          "width": 4
         },
         "mode": "lines",
         "showlegend": false,
         "type": "scatter3d",
         "x": [
          10,
          10
         ],
         "y": [
          -3,
          -3
         ],
         "z": [
          -2,
          0
         ]
        },
        {
         "hoverinfo": "skip",
         "line": {
          "color": "black",
          "width": 4
         },
         "mode": "lines",
         "showlegend": false,
         "type": "scatter3d",
         "x": [
          10,
          10
         ],
         "y": [
          -3,
          0
         ],
         "z": [
          -2,
          -2
         ]
        },
        {
         "hoverinfo": "skip",
         "line": {
          "color": "black",
          "width": 4
         },
         "mode": "lines",
         "showlegend": false,
         "type": "scatter3d",
         "x": [
          10,
          15
         ],
         "y": [
          -3,
          -3
         ],
         "z": [
          -2,
          -2
         ]
        },
        {
         "hoverinfo": "skip",
         "line": {
          "color": "black",
          "width": 4
         },
         "mode": "lines",
         "showlegend": false,
         "type": "scatter3d",
         "x": [
          10,
          10
         ],
         "y": [
          -3,
          -3
         ],
         "z": [
          0,
          2
         ]
        },
        {
         "hoverinfo": "skip",
         "line": {
          "color": "black",
          "width": 4
         },
         "mode": "lines",
         "showlegend": false,
         "type": "scatter3d",
         "x": [
          10,
          10
         ],
         "y": [
          -3,
          0
         ],
         "z": [
          0,
          0
         ]
        },
        {
         "hoverinfo": "skip",
         "line": {
          "color": "black",
          "width": 4
         },
         "mode": "lines",
         "showlegend": false,
         "type": "scatter3d",
         "x": [
          10,
          15
         ],
         "y": [
          -3,
          -3
         ],
         "z": [
          0,
          0
         ]
        },
        {
         "hoverinfo": "skip",
         "line": {
          "color": "black",
          "width": 4
         },
         "mode": "lines",
         "showlegend": false,
         "type": "scatter3d",
         "x": [
          10,
          10
         ],
         "y": [
          -3,
          -3
         ],
         "z": [
          2,
          4
         ]
        },
        {
         "hoverinfo": "skip",
         "line": {
          "color": "black",
          "width": 4
         },
         "mode": "lines",
         "showlegend": false,
         "type": "scatter3d",
         "x": [
          10,
          10
         ],
         "y": [
          -3,
          0
         ],
         "z": [
          2,
          2
         ]
        },
        {
         "hoverinfo": "skip",
         "line": {
          "color": "black",
          "width": 4
         },
         "mode": "lines",
         "showlegend": false,
         "type": "scatter3d",
         "x": [
          10,
          15
         ],
         "y": [
          -3,
          -3
         ],
         "z": [
          2,
          2
         ]
        },
        {
         "hoverinfo": "skip",
         "line": {
          "color": "black",
          "width": 4
         },
         "mode": "lines",
         "showlegend": false,
         "type": "scatter3d",
         "x": [
          10,
          10
         ],
         "y": [
          -3,
          0
         ],
         "z": [
          4,
          4
         ]
        },
        {
         "hoverinfo": "skip",
         "line": {
          "color": "black",
          "width": 4
         },
         "mode": "lines",
         "showlegend": false,
         "type": "scatter3d",
         "x": [
          10,
          15
         ],
         "y": [
          -3,
          -3
         ],
         "z": [
          4,
          4
         ]
        },
        {
         "hoverinfo": "skip",
         "line": {
          "color": "black",
          "width": 4
         },
         "mode": "lines",
         "showlegend": false,
         "type": "scatter3d",
         "x": [
          10,
          10
         ],
         "y": [
          0,
          0
         ],
         "z": [
          -4,
          -2
         ]
        },
        {
         "hoverinfo": "skip",
         "line": {
          "color": "black",
          "width": 4
         },
         "mode": "lines",
         "showlegend": false,
         "type": "scatter3d",
         "x": [
          10,
          10
         ],
         "y": [
          0,
          3
         ],
         "z": [
          -4,
          -4
         ]
        },
        {
         "hoverinfo": "skip",
         "line": {
          "color": "black",
          "width": 4
         },
         "mode": "lines",
         "showlegend": false,
         "type": "scatter3d",
         "x": [
          10,
          15
         ],
         "y": [
          0,
          0
         ],
         "z": [
          -4,
          -4
         ]
        },
        {
         "hoverinfo": "skip",
         "line": {
          "color": "black",
          "width": 4
         },
         "mode": "lines",
         "showlegend": false,
         "type": "scatter3d",
         "x": [
          10,
          10
         ],
         "y": [
          0,
          0
         ],
         "z": [
          -2,
          0
         ]
        },
        {
         "hoverinfo": "skip",
         "line": {
          "color": "black",
          "width": 4
         },
         "mode": "lines",
         "showlegend": false,
         "type": "scatter3d",
         "x": [
          10,
          10
         ],
         "y": [
          0,
          3
         ],
         "z": [
          -2,
          -2
         ]
        },
        {
         "hoverinfo": "skip",
         "line": {
          "color": "black",
          "width": 4
         },
         "mode": "lines",
         "showlegend": false,
         "type": "scatter3d",
         "x": [
          10,
          15
         ],
         "y": [
          0,
          0
         ],
         "z": [
          -2,
          -2
         ]
        },
        {
         "hoverinfo": "skip",
         "line": {
          "color": "black",
          "width": 4
         },
         "mode": "lines",
         "showlegend": false,
         "type": "scatter3d",
         "x": [
          10,
          10
         ],
         "y": [
          0,
          0
         ],
         "z": [
          0,
          2
         ]
        },
        {
         "hoverinfo": "skip",
         "line": {
          "color": "black",
          "width": 4
         },
         "mode": "lines",
         "showlegend": false,
         "type": "scatter3d",
         "x": [
          10,
          10
         ],
         "y": [
          0,
          3
         ],
         "z": [
          0,
          0
         ]
        },
        {
         "hoverinfo": "skip",
         "line": {
          "color": "black",
          "width": 4
         },
         "mode": "lines",
         "showlegend": false,
         "type": "scatter3d",
         "x": [
          10,
          15
         ],
         "y": [
          0,
          0
         ],
         "z": [
          0,
          0
         ]
        },
        {
         "hoverinfo": "skip",
         "line": {
          "color": "black",
          "width": 4
         },
         "mode": "lines",
         "showlegend": false,
         "type": "scatter3d",
         "x": [
          10,
          10
         ],
         "y": [
          0,
          0
         ],
         "z": [
          2,
          4
         ]
        },
        {
         "hoverinfo": "skip",
         "line": {
          "color": "black",
          "width": 4
         },
         "mode": "lines",
         "showlegend": false,
         "type": "scatter3d",
         "x": [
          10,
          10
         ],
         "y": [
          0,
          3
         ],
         "z": [
          2,
          2
         ]
        },
        {
         "hoverinfo": "skip",
         "line": {
          "color": "black",
          "width": 4
         },
         "mode": "lines",
         "showlegend": false,
         "type": "scatter3d",
         "x": [
          10,
          15
         ],
         "y": [
          0,
          0
         ],
         "z": [
          2,
          2
         ]
        },
        {
         "hoverinfo": "skip",
         "line": {
          "color": "black",
          "width": 4
         },
         "mode": "lines",
         "showlegend": false,
         "type": "scatter3d",
         "x": [
          10,
          10
         ],
         "y": [
          0,
          3
         ],
         "z": [
          4,
          4
         ]
        },
        {
         "hoverinfo": "skip",
         "line": {
          "color": "black",
          "width": 4
         },
         "mode": "lines",
         "showlegend": false,
         "type": "scatter3d",
         "x": [
          10,
          15
         ],
         "y": [
          0,
          0
         ],
         "z": [
          4,
          4
         ]
        },
        {
         "hoverinfo": "skip",
         "line": {
          "color": "black",
          "width": 4
         },
         "mode": "lines",
         "showlegend": false,
         "type": "scatter3d",
         "x": [
          10,
          10
         ],
         "y": [
          3,
          3
         ],
         "z": [
          -4,
          -2
         ]
        },
        {
         "hoverinfo": "skip",
         "line": {
          "color": "black",
          "width": 4
         },
         "mode": "lines",
         "showlegend": false,
         "type": "scatter3d",
         "x": [
          10,
          10
         ],
         "y": [
          3,
          6
         ],
         "z": [
          -4,
          -4
         ]
        },
        {
         "hoverinfo": "skip",
         "line": {
          "color": "black",
          "width": 4
         },
         "mode": "lines",
         "showlegend": false,
         "type": "scatter3d",
         "x": [
          10,
          15
         ],
         "y": [
          3,
          3
         ],
         "z": [
          -4,
          -4
         ]
        },
        {
         "hoverinfo": "skip",
         "line": {
          "color": "black",
          "width": 4
         },
         "mode": "lines",
         "showlegend": false,
         "type": "scatter3d",
         "x": [
          10,
          10
         ],
         "y": [
          3,
          3
         ],
         "z": [
          -2,
          0
         ]
        },
        {
         "hoverinfo": "skip",
         "line": {
          "color": "black",
          "width": 4
         },
         "mode": "lines",
         "showlegend": false,
         "type": "scatter3d",
         "x": [
          10,
          10
         ],
         "y": [
          3,
          6
         ],
         "z": [
          -2,
          -2
         ]
        },
        {
         "hoverinfo": "skip",
         "line": {
          "color": "black",
          "width": 4
         },
         "mode": "lines",
         "showlegend": false,
         "type": "scatter3d",
         "x": [
          10,
          15
         ],
         "y": [
          3,
          3
         ],
         "z": [
          -2,
          -2
         ]
        },
        {
         "hoverinfo": "skip",
         "line": {
          "color": "black",
          "width": 4
         },
         "mode": "lines",
         "showlegend": false,
         "type": "scatter3d",
         "x": [
          10,
          10
         ],
         "y": [
          3,
          3
         ],
         "z": [
          0,
          2
         ]
        },
        {
         "hoverinfo": "skip",
         "line": {
          "color": "black",
          "width": 4
         },
         "mode": "lines",
         "showlegend": false,
         "type": "scatter3d",
         "x": [
          10,
          10
         ],
         "y": [
          3,
          6
         ],
         "z": [
          0,
          0
         ]
        },
        {
         "hoverinfo": "skip",
         "line": {
          "color": "black",
          "width": 4
         },
         "mode": "lines",
         "showlegend": false,
         "type": "scatter3d",
         "x": [
          10,
          15
         ],
         "y": [
          3,
          3
         ],
         "z": [
          0,
          0
         ]
        },
        {
         "hoverinfo": "skip",
         "line": {
          "color": "black",
          "width": 4
         },
         "mode": "lines",
         "showlegend": false,
         "type": "scatter3d",
         "x": [
          10,
          10
         ],
         "y": [
          3,
          3
         ],
         "z": [
          2,
          4
         ]
        },
        {
         "hoverinfo": "skip",
         "line": {
          "color": "black",
          "width": 4
         },
         "mode": "lines",
         "showlegend": false,
         "type": "scatter3d",
         "x": [
          10,
          10
         ],
         "y": [
          3,
          6
         ],
         "z": [
          2,
          2
         ]
        },
        {
         "hoverinfo": "skip",
         "line": {
          "color": "black",
          "width": 4
         },
         "mode": "lines",
         "showlegend": false,
         "type": "scatter3d",
         "x": [
          10,
          15
         ],
         "y": [
          3,
          3
         ],
         "z": [
          2,
          2
         ]
        },
        {
         "hoverinfo": "skip",
         "line": {
          "color": "black",
          "width": 4
         },
         "mode": "lines",
         "showlegend": false,
         "type": "scatter3d",
         "x": [
          10,
          10
         ],
         "y": [
          3,
          6
         ],
         "z": [
          4,
          4
         ]
        },
        {
         "hoverinfo": "skip",
         "line": {
          "color": "black",
          "width": 4
         },
         "mode": "lines",
         "showlegend": false,
         "type": "scatter3d",
         "x": [
          10,
          15
         ],
         "y": [
          3,
          3
         ],
         "z": [
          4,
          4
         ]
        },
        {
         "hoverinfo": "skip",
         "line": {
          "color": "black",
          "width": 4
         },
         "mode": "lines",
         "showlegend": false,
         "type": "scatter3d",
         "x": [
          10,
          10
         ],
         "y": [
          6,
          6
         ],
         "z": [
          -4,
          -2
         ]
        },
        {
         "hoverinfo": "skip",
         "line": {
          "color": "black",
          "width": 4
         },
         "mode": "lines",
         "showlegend": false,
         "type": "scatter3d",
         "x": [
          10,
          15
         ],
         "y": [
          6,
          6
         ],
         "z": [
          -4,
          -4
         ]
        },
        {
         "hoverinfo": "skip",
         "line": {
          "color": "black",
          "width": 4
         },
         "mode": "lines",
         "showlegend": false,
         "type": "scatter3d",
         "x": [
          10,
          10
         ],
         "y": [
          6,
          6
         ],
         "z": [
          -2,
          0
         ]
        },
        {
         "hoverinfo": "skip",
         "line": {
          "color": "black",
          "width": 4
         },
         "mode": "lines",
         "showlegend": false,
         "type": "scatter3d",
         "x": [
          10,
          15
         ],
         "y": [
          6,
          6
         ],
         "z": [
          -2,
          -2
         ]
        },
        {
         "hoverinfo": "skip",
         "line": {
          "color": "black",
          "width": 4
         },
         "mode": "lines",
         "showlegend": false,
         "type": "scatter3d",
         "x": [
          10,
          10
         ],
         "y": [
          6,
          6
         ],
         "z": [
          0,
          2
         ]
        },
        {
         "hoverinfo": "skip",
         "line": {
          "color": "black",
          "width": 4
         },
         "mode": "lines",
         "showlegend": false,
         "type": "scatter3d",
         "x": [
          10,
          15
         ],
         "y": [
          6,
          6
         ],
         "z": [
          0,
          0
         ]
        },
        {
         "hoverinfo": "skip",
         "line": {
          "color": "black",
          "width": 4
         },
         "mode": "lines",
         "showlegend": false,
         "type": "scatter3d",
         "x": [
          10,
          10
         ],
         "y": [
          6,
          6
         ],
         "z": [
          2,
          4
         ]
        },
        {
         "hoverinfo": "skip",
         "line": {
          "color": "black",
          "width": 4
         },
         "mode": "lines",
         "showlegend": false,
         "type": "scatter3d",
         "x": [
          10,
          15
         ],
         "y": [
          6,
          6
         ],
         "z": [
          2,
          2
         ]
        },
        {
         "hoverinfo": "skip",
         "line": {
          "color": "black",
          "width": 4
         },
         "mode": "lines",
         "showlegend": false,
         "type": "scatter3d",
         "x": [
          10,
          15
         ],
         "y": [
          6,
          6
         ],
         "z": [
          4,
          4
         ]
        },
        {
         "hoverinfo": "skip",
         "line": {
          "color": "black",
          "width": 4
         },
         "mode": "lines",
         "showlegend": false,
         "type": "scatter3d",
         "x": [
          15,
          15
         ],
         "y": [
          -6,
          -6
         ],
         "z": [
          -4,
          -2
         ]
        },
        {
         "hoverinfo": "skip",
         "line": {
          "color": "black",
          "width": 4
         },
         "mode": "lines",
         "showlegend": false,
         "type": "scatter3d",
         "x": [
          15,
          15
         ],
         "y": [
          -6,
          -3
         ],
         "z": [
          -4,
          -4
         ]
        },
        {
         "hoverinfo": "skip",
         "line": {
          "color": "black",
          "width": 4
         },
         "mode": "lines",
         "showlegend": false,
         "type": "scatter3d",
         "x": [
          15,
          20
         ],
         "y": [
          -6,
          -6
         ],
         "z": [
          -4,
          -4
         ]
        },
        {
         "hoverinfo": "skip",
         "line": {
          "color": "black",
          "width": 4
         },
         "mode": "lines",
         "showlegend": false,
         "type": "scatter3d",
         "x": [
          15,
          15
         ],
         "y": [
          -6,
          -6
         ],
         "z": [
          -2,
          0
         ]
        },
        {
         "hoverinfo": "skip",
         "line": {
          "color": "black",
          "width": 4
         },
         "mode": "lines",
         "showlegend": false,
         "type": "scatter3d",
         "x": [
          15,
          15
         ],
         "y": [
          -6,
          -3
         ],
         "z": [
          -2,
          -2
         ]
        },
        {
         "hoverinfo": "skip",
         "line": {
          "color": "black",
          "width": 4
         },
         "mode": "lines",
         "showlegend": false,
         "type": "scatter3d",
         "x": [
          15,
          20
         ],
         "y": [
          -6,
          -6
         ],
         "z": [
          -2,
          -2
         ]
        },
        {
         "hoverinfo": "skip",
         "line": {
          "color": "black",
          "width": 4
         },
         "mode": "lines",
         "showlegend": false,
         "type": "scatter3d",
         "x": [
          15,
          15
         ],
         "y": [
          -6,
          -6
         ],
         "z": [
          0,
          2
         ]
        },
        {
         "hoverinfo": "skip",
         "line": {
          "color": "black",
          "width": 4
         },
         "mode": "lines",
         "showlegend": false,
         "type": "scatter3d",
         "x": [
          15,
          15
         ],
         "y": [
          -6,
          -3
         ],
         "z": [
          0,
          0
         ]
        },
        {
         "hoverinfo": "skip",
         "line": {
          "color": "black",
          "width": 4
         },
         "mode": "lines",
         "showlegend": false,
         "type": "scatter3d",
         "x": [
          15,
          20
         ],
         "y": [
          -6,
          -6
         ],
         "z": [
          0,
          0
         ]
        },
        {
         "hoverinfo": "skip",
         "line": {
          "color": "black",
          "width": 4
         },
         "mode": "lines",
         "showlegend": false,
         "type": "scatter3d",
         "x": [
          15,
          15
         ],
         "y": [
          -6,
          -6
         ],
         "z": [
          2,
          4
         ]
        },
        {
         "hoverinfo": "skip",
         "line": {
          "color": "black",
          "width": 4
         },
         "mode": "lines",
         "showlegend": false,
         "type": "scatter3d",
         "x": [
          15,
          15
         ],
         "y": [
          -6,
          -3
         ],
         "z": [
          2,
          2
         ]
        },
        {
         "hoverinfo": "skip",
         "line": {
          "color": "black",
          "width": 4
         },
         "mode": "lines",
         "showlegend": false,
         "type": "scatter3d",
         "x": [
          15,
          20
         ],
         "y": [
          -6,
          -6
         ],
         "z": [
          2,
          2
         ]
        },
        {
         "hoverinfo": "skip",
         "line": {
          "color": "black",
          "width": 4
         },
         "mode": "lines",
         "showlegend": false,
         "type": "scatter3d",
         "x": [
          15,
          15
         ],
         "y": [
          -6,
          -3
         ],
         "z": [
          4,
          4
         ]
        },
        {
         "hoverinfo": "skip",
         "line": {
          "color": "black",
          "width": 4
         },
         "mode": "lines",
         "showlegend": false,
         "type": "scatter3d",
         "x": [
          15,
          20
         ],
         "y": [
          -6,
          -6
         ],
         "z": [
          4,
          4
         ]
        },
        {
         "hoverinfo": "skip",
         "line": {
          "color": "black",
          "width": 4
         },
         "mode": "lines",
         "showlegend": false,
         "type": "scatter3d",
         "x": [
          15,
          15
         ],
         "y": [
          -3,
          -3
         ],
         "z": [
          -4,
          -2
         ]
        },
        {
         "hoverinfo": "skip",
         "line": {
          "color": "black",
          "width": 4
         },
         "mode": "lines",
         "showlegend": false,
         "type": "scatter3d",
         "x": [
          15,
          15
         ],
         "y": [
          -3,
          0
         ],
         "z": [
          -4,
          -4
         ]
        },
        {
         "hoverinfo": "skip",
         "line": {
          "color": "black",
          "width": 4
         },
         "mode": "lines",
         "showlegend": false,
         "type": "scatter3d",
         "x": [
          15,
          20
         ],
         "y": [
          -3,
          -3
         ],
         "z": [
          -4,
          -4
         ]
        },
        {
         "hoverinfo": "skip",
         "line": {
          "color": "black",
          "width": 4
         },
         "mode": "lines",
         "showlegend": false,
         "type": "scatter3d",
         "x": [
          15,
          15
         ],
         "y": [
          -3,
          -3
         ],
         "z": [
          -2,
          0
         ]
        },
        {
         "hoverinfo": "skip",
         "line": {
          "color": "black",
          "width": 4
         },
         "mode": "lines",
         "showlegend": false,
         "type": "scatter3d",
         "x": [
          15,
          15
         ],
         "y": [
          -3,
          0
         ],
         "z": [
          -2,
          -2
         ]
        },
        {
         "hoverinfo": "skip",
         "line": {
          "color": "black",
          "width": 4
         },
         "mode": "lines",
         "showlegend": false,
         "type": "scatter3d",
         "x": [
          15,
          20
         ],
         "y": [
          -3,
          -3
         ],
         "z": [
          -2,
          -2
         ]
        },
        {
         "hoverinfo": "skip",
         "line": {
          "color": "black",
          "width": 4
         },
         "mode": "lines",
         "showlegend": false,
         "type": "scatter3d",
         "x": [
          15,
          15
         ],
         "y": [
          -3,
          -3
         ],
         "z": [
          0,
          2
         ]
        },
        {
         "hoverinfo": "skip",
         "line": {
          "color": "black",
          "width": 4
         },
         "mode": "lines",
         "showlegend": false,
         "type": "scatter3d",
         "x": [
          15,
          15
         ],
         "y": [
          -3,
          0
         ],
         "z": [
          0,
          0
         ]
        },
        {
         "hoverinfo": "skip",
         "line": {
          "color": "black",
          "width": 4
         },
         "mode": "lines",
         "showlegend": false,
         "type": "scatter3d",
         "x": [
          15,
          20
         ],
         "y": [
          -3,
          -3
         ],
         "z": [
          0,
          0
         ]
        },
        {
         "hoverinfo": "skip",
         "line": {
          "color": "black",
          "width": 4
         },
         "mode": "lines",
         "showlegend": false,
         "type": "scatter3d",
         "x": [
          15,
          15
         ],
         "y": [
          -3,
          -3
         ],
         "z": [
          2,
          4
         ]
        },
        {
         "hoverinfo": "skip",
         "line": {
          "color": "black",
          "width": 4
         },
         "mode": "lines",
         "showlegend": false,
         "type": "scatter3d",
         "x": [
          15,
          15
         ],
         "y": [
          -3,
          0
         ],
         "z": [
          2,
          2
         ]
        },
        {
         "hoverinfo": "skip",
         "line": {
          "color": "black",
          "width": 4
         },
         "mode": "lines",
         "showlegend": false,
         "type": "scatter3d",
         "x": [
          15,
          20
         ],
         "y": [
          -3,
          -3
         ],
         "z": [
          2,
          2
         ]
        },
        {
         "hoverinfo": "skip",
         "line": {
          "color": "black",
          "width": 4
         },
         "mode": "lines",
         "showlegend": false,
         "type": "scatter3d",
         "x": [
          15,
          15
         ],
         "y": [
          -3,
          0
         ],
         "z": [
          4,
          4
         ]
        },
        {
         "hoverinfo": "skip",
         "line": {
          "color": "black",
          "width": 4
         },
         "mode": "lines",
         "showlegend": false,
         "type": "scatter3d",
         "x": [
          15,
          20
         ],
         "y": [
          -3,
          -3
         ],
         "z": [
          4,
          4
         ]
        },
        {
         "hoverinfo": "skip",
         "line": {
          "color": "black",
          "width": 4
         },
         "mode": "lines",
         "showlegend": false,
         "type": "scatter3d",
         "x": [
          15,
          15
         ],
         "y": [
          0,
          0
         ],
         "z": [
          -4,
          -2
         ]
        },
        {
         "hoverinfo": "skip",
         "line": {
          "color": "black",
          "width": 4
         },
         "mode": "lines",
         "showlegend": false,
         "type": "scatter3d",
         "x": [
          15,
          15
         ],
         "y": [
          0,
          3
         ],
         "z": [
          -4,
          -4
         ]
        },
        {
         "hoverinfo": "skip",
         "line": {
          "color": "black",
          "width": 4
         },
         "mode": "lines",
         "showlegend": false,
         "type": "scatter3d",
         "x": [
          15,
          20
         ],
         "y": [
          0,
          0
         ],
         "z": [
          -4,
          -4
         ]
        },
        {
         "hoverinfo": "skip",
         "line": {
          "color": "black",
          "width": 4
         },
         "mode": "lines",
         "showlegend": false,
         "type": "scatter3d",
         "x": [
          15,
          15
         ],
         "y": [
          0,
          0
         ],
         "z": [
          -2,
          0
         ]
        },
        {
         "hoverinfo": "skip",
         "line": {
          "color": "black",
          "width": 4
         },
         "mode": "lines",
         "showlegend": false,
         "type": "scatter3d",
         "x": [
          15,
          15
         ],
         "y": [
          0,
          3
         ],
         "z": [
          -2,
          -2
         ]
        },
        {
         "hoverinfo": "skip",
         "line": {
          "color": "black",
          "width": 4
         },
         "mode": "lines",
         "showlegend": false,
         "type": "scatter3d",
         "x": [
          15,
          20
         ],
         "y": [
          0,
          0
         ],
         "z": [
          -2,
          -2
         ]
        },
        {
         "hoverinfo": "skip",
         "line": {
          "color": "black",
          "width": 4
         },
         "mode": "lines",
         "showlegend": false,
         "type": "scatter3d",
         "x": [
          15,
          15
         ],
         "y": [
          0,
          0
         ],
         "z": [
          0,
          2
         ]
        },
        {
         "hoverinfo": "skip",
         "line": {
          "color": "black",
          "width": 4
         },
         "mode": "lines",
         "showlegend": false,
         "type": "scatter3d",
         "x": [
          15,
          15
         ],
         "y": [
          0,
          3
         ],
         "z": [
          0,
          0
         ]
        },
        {
         "hoverinfo": "skip",
         "line": {
          "color": "black",
          "width": 4
         },
         "mode": "lines",
         "showlegend": false,
         "type": "scatter3d",
         "x": [
          15,
          20
         ],
         "y": [
          0,
          0
         ],
         "z": [
          0,
          0
         ]
        },
        {
         "hoverinfo": "skip",
         "line": {
          "color": "black",
          "width": 4
         },
         "mode": "lines",
         "showlegend": false,
         "type": "scatter3d",
         "x": [
          15,
          15
         ],
         "y": [
          0,
          0
         ],
         "z": [
          2,
          4
         ]
        },
        {
         "hoverinfo": "skip",
         "line": {
          "color": "black",
          "width": 4
         },
         "mode": "lines",
         "showlegend": false,
         "type": "scatter3d",
         "x": [
          15,
          15
         ],
         "y": [
          0,
          3
         ],
         "z": [
          2,
          2
         ]
        },
        {
         "hoverinfo": "skip",
         "line": {
          "color": "black",
          "width": 4
         },
         "mode": "lines",
         "showlegend": false,
         "type": "scatter3d",
         "x": [
          15,
          20
         ],
         "y": [
          0,
          0
         ],
         "z": [
          2,
          2
         ]
        },
        {
         "hoverinfo": "skip",
         "line": {
          "color": "black",
          "width": 4
         },
         "mode": "lines",
         "showlegend": false,
         "type": "scatter3d",
         "x": [
          15,
          15
         ],
         "y": [
          0,
          3
         ],
         "z": [
          4,
          4
         ]
        },
        {
         "hoverinfo": "skip",
         "line": {
          "color": "black",
          "width": 4
         },
         "mode": "lines",
         "showlegend": false,
         "type": "scatter3d",
         "x": [
          15,
          20
         ],
         "y": [
          0,
          0
         ],
         "z": [
          4,
          4
         ]
        },
        {
         "hoverinfo": "skip",
         "line": {
          "color": "black",
          "width": 4
         },
         "mode": "lines",
         "showlegend": false,
         "type": "scatter3d",
         "x": [
          15,
          15
         ],
         "y": [
          3,
          3
         ],
         "z": [
          -4,
          -2
         ]
        },
        {
         "hoverinfo": "skip",
         "line": {
          "color": "black",
          "width": 4
         },
         "mode": "lines",
         "showlegend": false,
         "type": "scatter3d",
         "x": [
          15,
          15
         ],
         "y": [
          3,
          6
         ],
         "z": [
          -4,
          -4
         ]
        },
        {
         "hoverinfo": "skip",
         "line": {
          "color": "black",
          "width": 4
         },
         "mode": "lines",
         "showlegend": false,
         "type": "scatter3d",
         "x": [
          15,
          20
         ],
         "y": [
          3,
          3
         ],
         "z": [
          -4,
          -4
         ]
        },
        {
         "hoverinfo": "skip",
         "line": {
          "color": "black",
          "width": 4
         },
         "mode": "lines",
         "showlegend": false,
         "type": "scatter3d",
         "x": [
          15,
          15
         ],
         "y": [
          3,
          3
         ],
         "z": [
          -2,
          0
         ]
        },
        {
         "hoverinfo": "skip",
         "line": {
          "color": "black",
          "width": 4
         },
         "mode": "lines",
         "showlegend": false,
         "type": "scatter3d",
         "x": [
          15,
          15
         ],
         "y": [
          3,
          6
         ],
         "z": [
          -2,
          -2
         ]
        },
        {
         "hoverinfo": "skip",
         "line": {
          "color": "black",
          "width": 4
         },
         "mode": "lines",
         "showlegend": false,
         "type": "scatter3d",
         "x": [
          15,
          20
         ],
         "y": [
          3,
          3
         ],
         "z": [
          -2,
          -2
         ]
        },
        {
         "hoverinfo": "skip",
         "line": {
          "color": "black",
          "width": 4
         },
         "mode": "lines",
         "showlegend": false,
         "type": "scatter3d",
         "x": [
          15,
          15
         ],
         "y": [
          3,
          3
         ],
         "z": [
          0,
          2
         ]
        },
        {
         "hoverinfo": "skip",
         "line": {
          "color": "black",
          "width": 4
         },
         "mode": "lines",
         "showlegend": false,
         "type": "scatter3d",
         "x": [
          15,
          15
         ],
         "y": [
          3,
          6
         ],
         "z": [
          0,
          0
         ]
        },
        {
         "hoverinfo": "skip",
         "line": {
          "color": "black",
          "width": 4
         },
         "mode": "lines",
         "showlegend": false,
         "type": "scatter3d",
         "x": [
          15,
          20
         ],
         "y": [
          3,
          3
         ],
         "z": [
          0,
          0
         ]
        },
        {
         "hoverinfo": "skip",
         "line": {
          "color": "black",
          "width": 4
         },
         "mode": "lines",
         "showlegend": false,
         "type": "scatter3d",
         "x": [
          15,
          15
         ],
         "y": [
          3,
          3
         ],
         "z": [
          2,
          4
         ]
        },
        {
         "hoverinfo": "skip",
         "line": {
          "color": "black",
          "width": 4
         },
         "mode": "lines",
         "showlegend": false,
         "type": "scatter3d",
         "x": [
          15,
          15
         ],
         "y": [
          3,
          6
         ],
         "z": [
          2,
          2
         ]
        },
        {
         "hoverinfo": "skip",
         "line": {
          "color": "black",
          "width": 4
         },
         "mode": "lines",
         "showlegend": false,
         "type": "scatter3d",
         "x": [
          15,
          20
         ],
         "y": [
          3,
          3
         ],
         "z": [
          2,
          2
         ]
        },
        {
         "hoverinfo": "skip",
         "line": {
          "color": "black",
          "width": 4
         },
         "mode": "lines",
         "showlegend": false,
         "type": "scatter3d",
         "x": [
          15,
          15
         ],
         "y": [
          3,
          6
         ],
         "z": [
          4,
          4
         ]
        },
        {
         "hoverinfo": "skip",
         "line": {
          "color": "black",
          "width": 4
         },
         "mode": "lines",
         "showlegend": false,
         "type": "scatter3d",
         "x": [
          15,
          20
         ],
         "y": [
          3,
          3
         ],
         "z": [
          4,
          4
         ]
        },
        {
         "hoverinfo": "skip",
         "line": {
          "color": "black",
          "width": 4
         },
         "mode": "lines",
         "showlegend": false,
         "type": "scatter3d",
         "x": [
          15,
          15
         ],
         "y": [
          6,
          6
         ],
         "z": [
          -4,
          -2
         ]
        },
        {
         "hoverinfo": "skip",
         "line": {
          "color": "black",
          "width": 4
         },
         "mode": "lines",
         "showlegend": false,
         "type": "scatter3d",
         "x": [
          15,
          20
         ],
         "y": [
          6,
          6
         ],
         "z": [
          -4,
          -4
         ]
        },
        {
         "hoverinfo": "skip",
         "line": {
          "color": "black",
          "width": 4
         },
         "mode": "lines",
         "showlegend": false,
         "type": "scatter3d",
         "x": [
          15,
          15
         ],
         "y": [
          6,
          6
         ],
         "z": [
          -2,
          0
         ]
        },
        {
         "hoverinfo": "skip",
         "line": {
          "color": "black",
          "width": 4
         },
         "mode": "lines",
         "showlegend": false,
         "type": "scatter3d",
         "x": [
          15,
          20
         ],
         "y": [
          6,
          6
         ],
         "z": [
          -2,
          -2
         ]
        },
        {
         "hoverinfo": "skip",
         "line": {
          "color": "black",
          "width": 4
         },
         "mode": "lines",
         "showlegend": false,
         "type": "scatter3d",
         "x": [
          15,
          15
         ],
         "y": [
          6,
          6
         ],
         "z": [
          0,
          2
         ]
        },
        {
         "hoverinfo": "skip",
         "line": {
          "color": "black",
          "width": 4
         },
         "mode": "lines",
         "showlegend": false,
         "type": "scatter3d",
         "x": [
          15,
          20
         ],
         "y": [
          6,
          6
         ],
         "z": [
          0,
          0
         ]
        },
        {
         "hoverinfo": "skip",
         "line": {
          "color": "black",
          "width": 4
         },
         "mode": "lines",
         "showlegend": false,
         "type": "scatter3d",
         "x": [
          15,
          15
         ],
         "y": [
          6,
          6
         ],
         "z": [
          2,
          4
         ]
        },
        {
         "hoverinfo": "skip",
         "line": {
          "color": "black",
          "width": 4
         },
         "mode": "lines",
         "showlegend": false,
         "type": "scatter3d",
         "x": [
          15,
          20
         ],
         "y": [
          6,
          6
         ],
         "z": [
          2,
          2
         ]
        },
        {
         "hoverinfo": "skip",
         "line": {
          "color": "black",
          "width": 4
         },
         "mode": "lines",
         "showlegend": false,
         "type": "scatter3d",
         "x": [
          15,
          20
         ],
         "y": [
          6,
          6
         ],
         "z": [
          4,
          4
         ]
        },
        {
         "hoverinfo": "skip",
         "line": {
          "color": "black",
          "width": 4
         },
         "mode": "lines",
         "showlegend": false,
         "type": "scatter3d",
         "x": [
          20,
          20
         ],
         "y": [
          -6,
          -6
         ],
         "z": [
          -4,
          -2
         ]
        },
        {
         "hoverinfo": "skip",
         "line": {
          "color": "black",
          "width": 4
         },
         "mode": "lines",
         "showlegend": false,
         "type": "scatter3d",
         "x": [
          20,
          20
         ],
         "y": [
          -6,
          -3
         ],
         "z": [
          -4,
          -4
         ]
        },
        {
         "hoverinfo": "skip",
         "line": {
          "color": "black",
          "width": 4
         },
         "mode": "lines",
         "showlegend": false,
         "type": "scatter3d",
         "x": [
          20,
          25
         ],
         "y": [
          -6,
          -6
         ],
         "z": [
          -4,
          -4
         ]
        },
        {
         "hoverinfo": "skip",
         "line": {
          "color": "black",
          "width": 4
         },
         "mode": "lines",
         "showlegend": false,
         "type": "scatter3d",
         "x": [
          20,
          20
         ],
         "y": [
          -6,
          -6
         ],
         "z": [
          -2,
          0
         ]
        },
        {
         "hoverinfo": "skip",
         "line": {
          "color": "black",
          "width": 4
         },
         "mode": "lines",
         "showlegend": false,
         "type": "scatter3d",
         "x": [
          20,
          20
         ],
         "y": [
          -6,
          -3
         ],
         "z": [
          -2,
          -2
         ]
        },
        {
         "hoverinfo": "skip",
         "line": {
          "color": "black",
          "width": 4
         },
         "mode": "lines",
         "showlegend": false,
         "type": "scatter3d",
         "x": [
          20,
          25
         ],
         "y": [
          -6,
          -6
         ],
         "z": [
          -2,
          -2
         ]
        },
        {
         "hoverinfo": "skip",
         "line": {
          "color": "black",
          "width": 4
         },
         "mode": "lines",
         "showlegend": false,
         "type": "scatter3d",
         "x": [
          20,
          20
         ],
         "y": [
          -6,
          -6
         ],
         "z": [
          0,
          2
         ]
        },
        {
         "hoverinfo": "skip",
         "line": {
          "color": "black",
          "width": 4
         },
         "mode": "lines",
         "showlegend": false,
         "type": "scatter3d",
         "x": [
          20,
          20
         ],
         "y": [
          -6,
          -3
         ],
         "z": [
          0,
          0
         ]
        },
        {
         "hoverinfo": "skip",
         "line": {
          "color": "black",
          "width": 4
         },
         "mode": "lines",
         "showlegend": false,
         "type": "scatter3d",
         "x": [
          20,
          25
         ],
         "y": [
          -6,
          -6
         ],
         "z": [
          0,
          0
         ]
        },
        {
         "hoverinfo": "skip",
         "line": {
          "color": "black",
          "width": 4
         },
         "mode": "lines",
         "showlegend": false,
         "type": "scatter3d",
         "x": [
          20,
          20
         ],
         "y": [
          -6,
          -6
         ],
         "z": [
          2,
          4
         ]
        },
        {
         "hoverinfo": "skip",
         "line": {
          "color": "black",
          "width": 4
         },
         "mode": "lines",
         "showlegend": false,
         "type": "scatter3d",
         "x": [
          20,
          20
         ],
         "y": [
          -6,
          -3
         ],
         "z": [
          2,
          2
         ]
        },
        {
         "hoverinfo": "skip",
         "line": {
          "color": "black",
          "width": 4
         },
         "mode": "lines",
         "showlegend": false,
         "type": "scatter3d",
         "x": [
          20,
          25
         ],
         "y": [
          -6,
          -6
         ],
         "z": [
          2,
          2
         ]
        },
        {
         "hoverinfo": "skip",
         "line": {
          "color": "black",
          "width": 4
         },
         "mode": "lines",
         "showlegend": false,
         "type": "scatter3d",
         "x": [
          20,
          20
         ],
         "y": [
          -6,
          -3
         ],
         "z": [
          4,
          4
         ]
        },
        {
         "hoverinfo": "skip",
         "line": {
          "color": "black",
          "width": 4
         },
         "mode": "lines",
         "showlegend": false,
         "type": "scatter3d",
         "x": [
          20,
          25
         ],
         "y": [
          -6,
          -6
         ],
         "z": [
          4,
          4
         ]
        },
        {
         "hoverinfo": "skip",
         "line": {
          "color": "black",
          "width": 4
         },
         "mode": "lines",
         "showlegend": false,
         "type": "scatter3d",
         "x": [
          20,
          20
         ],
         "y": [
          -3,
          -3
         ],
         "z": [
          -4,
          -2
         ]
        },
        {
         "hoverinfo": "skip",
         "line": {
          "color": "black",
          "width": 4
         },
         "mode": "lines",
         "showlegend": false,
         "type": "scatter3d",
         "x": [
          20,
          20
         ],
         "y": [
          -3,
          0
         ],
         "z": [
          -4,
          -4
         ]
        },
        {
         "hoverinfo": "skip",
         "line": {
          "color": "black",
          "width": 4
         },
         "mode": "lines",
         "showlegend": false,
         "type": "scatter3d",
         "x": [
          20,
          25
         ],
         "y": [
          -3,
          -3
         ],
         "z": [
          -4,
          -4
         ]
        },
        {
         "hoverinfo": "skip",
         "line": {
          "color": "black",
          "width": 4
         },
         "mode": "lines",
         "showlegend": false,
         "type": "scatter3d",
         "x": [
          20,
          20
         ],
         "y": [
          -3,
          -3
         ],
         "z": [
          -2,
          0
         ]
        },
        {
         "hoverinfo": "skip",
         "line": {
          "color": "black",
          "width": 4
         },
         "mode": "lines",
         "showlegend": false,
         "type": "scatter3d",
         "x": [
          20,
          20
         ],
         "y": [
          -3,
          0
         ],
         "z": [
          -2,
          -2
         ]
        },
        {
         "hoverinfo": "skip",
         "line": {
          "color": "black",
          "width": 4
         },
         "mode": "lines",
         "showlegend": false,
         "type": "scatter3d",
         "x": [
          20,
          25
         ],
         "y": [
          -3,
          -3
         ],
         "z": [
          -2,
          -2
         ]
        },
        {
         "hoverinfo": "skip",
         "line": {
          "color": "black",
          "width": 4
         },
         "mode": "lines",
         "showlegend": false,
         "type": "scatter3d",
         "x": [
          20,
          20
         ],
         "y": [
          -3,
          -3
         ],
         "z": [
          0,
          2
         ]
        },
        {
         "hoverinfo": "skip",
         "line": {
          "color": "black",
          "width": 4
         },
         "mode": "lines",
         "showlegend": false,
         "type": "scatter3d",
         "x": [
          20,
          20
         ],
         "y": [
          -3,
          0
         ],
         "z": [
          0,
          0
         ]
        },
        {
         "hoverinfo": "skip",
         "line": {
          "color": "black",
          "width": 4
         },
         "mode": "lines",
         "showlegend": false,
         "type": "scatter3d",
         "x": [
          20,
          25
         ],
         "y": [
          -3,
          -3
         ],
         "z": [
          0,
          0
         ]
        },
        {
         "hoverinfo": "skip",
         "line": {
          "color": "black",
          "width": 4
         },
         "mode": "lines",
         "showlegend": false,
         "type": "scatter3d",
         "x": [
          20,
          20
         ],
         "y": [
          -3,
          -3
         ],
         "z": [
          2,
          4
         ]
        },
        {
         "hoverinfo": "skip",
         "line": {
          "color": "black",
          "width": 4
         },
         "mode": "lines",
         "showlegend": false,
         "type": "scatter3d",
         "x": [
          20,
          20
         ],
         "y": [
          -3,
          0
         ],
         "z": [
          2,
          2
         ]
        },
        {
         "hoverinfo": "skip",
         "line": {
          "color": "black",
          "width": 4
         },
         "mode": "lines",
         "showlegend": false,
         "type": "scatter3d",
         "x": [
          20,
          25
         ],
         "y": [
          -3,
          -3
         ],
         "z": [
          2,
          2
         ]
        },
        {
         "hoverinfo": "skip",
         "line": {
          "color": "black",
          "width": 4
         },
         "mode": "lines",
         "showlegend": false,
         "type": "scatter3d",
         "x": [
          20,
          20
         ],
         "y": [
          -3,
          0
         ],
         "z": [
          4,
          4
         ]
        },
        {
         "hoverinfo": "skip",
         "line": {
          "color": "black",
          "width": 4
         },
         "mode": "lines",
         "showlegend": false,
         "type": "scatter3d",
         "x": [
          20,
          25
         ],
         "y": [
          -3,
          -3
         ],
         "z": [
          4,
          4
         ]
        },
        {
         "hoverinfo": "skip",
         "line": {
          "color": "black",
          "width": 4
         },
         "mode": "lines",
         "showlegend": false,
         "type": "scatter3d",
         "x": [
          20,
          20
         ],
         "y": [
          0,
          0
         ],
         "z": [
          -4,
          -2
         ]
        },
        {
         "hoverinfo": "skip",
         "line": {
          "color": "black",
          "width": 4
         },
         "mode": "lines",
         "showlegend": false,
         "type": "scatter3d",
         "x": [
          20,
          20
         ],
         "y": [
          0,
          3
         ],
         "z": [
          -4,
          -4
         ]
        },
        {
         "hoverinfo": "skip",
         "line": {
          "color": "black",
          "width": 4
         },
         "mode": "lines",
         "showlegend": false,
         "type": "scatter3d",
         "x": [
          20,
          25
         ],
         "y": [
          0,
          0
         ],
         "z": [
          -4,
          -4
         ]
        },
        {
         "hoverinfo": "skip",
         "line": {
          "color": "black",
          "width": 4
         },
         "mode": "lines",
         "showlegend": false,
         "type": "scatter3d",
         "x": [
          20,
          20
         ],
         "y": [
          0,
          0
         ],
         "z": [
          -2,
          0
         ]
        },
        {
         "hoverinfo": "skip",
         "line": {
          "color": "black",
          "width": 4
         },
         "mode": "lines",
         "showlegend": false,
         "type": "scatter3d",
         "x": [
          20,
          20
         ],
         "y": [
          0,
          3
         ],
         "z": [
          -2,
          -2
         ]
        },
        {
         "hoverinfo": "skip",
         "line": {
          "color": "black",
          "width": 4
         },
         "mode": "lines",
         "showlegend": false,
         "type": "scatter3d",
         "x": [
          20,
          25
         ],
         "y": [
          0,
          0
         ],
         "z": [
          -2,
          -2
         ]
        },
        {
         "hoverinfo": "skip",
         "line": {
          "color": "black",
          "width": 4
         },
         "mode": "lines",
         "showlegend": false,
         "type": "scatter3d",
         "x": [
          20,
          20
         ],
         "y": [
          0,
          0
         ],
         "z": [
          0,
          2
         ]
        },
        {
         "hoverinfo": "skip",
         "line": {
          "color": "black",
          "width": 4
         },
         "mode": "lines",
         "showlegend": false,
         "type": "scatter3d",
         "x": [
          20,
          20
         ],
         "y": [
          0,
          3
         ],
         "z": [
          0,
          0
         ]
        },
        {
         "hoverinfo": "skip",
         "line": {
          "color": "black",
          "width": 4
         },
         "mode": "lines",
         "showlegend": false,
         "type": "scatter3d",
         "x": [
          20,
          25
         ],
         "y": [
          0,
          0
         ],
         "z": [
          0,
          0
         ]
        },
        {
         "hoverinfo": "skip",
         "line": {
          "color": "black",
          "width": 4
         },
         "mode": "lines",
         "showlegend": false,
         "type": "scatter3d",
         "x": [
          20,
          20
         ],
         "y": [
          0,
          0
         ],
         "z": [
          2,
          4
         ]
        },
        {
         "hoverinfo": "skip",
         "line": {
          "color": "black",
          "width": 4
         },
         "mode": "lines",
         "showlegend": false,
         "type": "scatter3d",
         "x": [
          20,
          20
         ],
         "y": [
          0,
          3
         ],
         "z": [
          2,
          2
         ]
        },
        {
         "hoverinfo": "skip",
         "line": {
          "color": "black",
          "width": 4
         },
         "mode": "lines",
         "showlegend": false,
         "type": "scatter3d",
         "x": [
          20,
          25
         ],
         "y": [
          0,
          0
         ],
         "z": [
          2,
          2
         ]
        },
        {
         "hoverinfo": "skip",
         "line": {
          "color": "black",
          "width": 4
         },
         "mode": "lines",
         "showlegend": false,
         "type": "scatter3d",
         "x": [
          20,
          20
         ],
         "y": [
          0,
          3
         ],
         "z": [
          4,
          4
         ]
        },
        {
         "hoverinfo": "skip",
         "line": {
          "color": "black",
          "width": 4
         },
         "mode": "lines",
         "showlegend": false,
         "type": "scatter3d",
         "x": [
          20,
          25
         ],
         "y": [
          0,
          0
         ],
         "z": [
          4,
          4
         ]
        },
        {
         "hoverinfo": "skip",
         "line": {
          "color": "black",
          "width": 4
         },
         "mode": "lines",
         "showlegend": false,
         "type": "scatter3d",
         "x": [
          20,
          20
         ],
         "y": [
          3,
          3
         ],
         "z": [
          -4,
          -2
         ]
        },
        {
         "hoverinfo": "skip",
         "line": {
          "color": "black",
          "width": 4
         },
         "mode": "lines",
         "showlegend": false,
         "type": "scatter3d",
         "x": [
          20,
          20
         ],
         "y": [
          3,
          6
         ],
         "z": [
          -4,
          -4
         ]
        },
        {
         "hoverinfo": "skip",
         "line": {
          "color": "black",
          "width": 4
         },
         "mode": "lines",
         "showlegend": false,
         "type": "scatter3d",
         "x": [
          20,
          25
         ],
         "y": [
          3,
          3
         ],
         "z": [
          -4,
          -4
         ]
        },
        {
         "hoverinfo": "skip",
         "line": {
          "color": "black",
          "width": 4
         },
         "mode": "lines",
         "showlegend": false,
         "type": "scatter3d",
         "x": [
          20,
          20
         ],
         "y": [
          3,
          3
         ],
         "z": [
          -2,
          0
         ]
        },
        {
         "hoverinfo": "skip",
         "line": {
          "color": "black",
          "width": 4
         },
         "mode": "lines",
         "showlegend": false,
         "type": "scatter3d",
         "x": [
          20,
          20
         ],
         "y": [
          3,
          6
         ],
         "z": [
          -2,
          -2
         ]
        },
        {
         "hoverinfo": "skip",
         "line": {
          "color": "black",
          "width": 4
         },
         "mode": "lines",
         "showlegend": false,
         "type": "scatter3d",
         "x": [
          20,
          25
         ],
         "y": [
          3,
          3
         ],
         "z": [
          -2,
          -2
         ]
        },
        {
         "hoverinfo": "skip",
         "line": {
          "color": "black",
          "width": 4
         },
         "mode": "lines",
         "showlegend": false,
         "type": "scatter3d",
         "x": [
          20,
          20
         ],
         "y": [
          3,
          3
         ],
         "z": [
          0,
          2
         ]
        },
        {
         "hoverinfo": "skip",
         "line": {
          "color": "black",
          "width": 4
         },
         "mode": "lines",
         "showlegend": false,
         "type": "scatter3d",
         "x": [
          20,
          20
         ],
         "y": [
          3,
          6
         ],
         "z": [
          0,
          0
         ]
        },
        {
         "hoverinfo": "skip",
         "line": {
          "color": "black",
          "width": 4
         },
         "mode": "lines",
         "showlegend": false,
         "type": "scatter3d",
         "x": [
          20,
          25
         ],
         "y": [
          3,
          3
         ],
         "z": [
          0,
          0
         ]
        },
        {
         "hoverinfo": "skip",
         "line": {
          "color": "black",
          "width": 4
         },
         "mode": "lines",
         "showlegend": false,
         "type": "scatter3d",
         "x": [
          20,
          20
         ],
         "y": [
          3,
          3
         ],
         "z": [
          2,
          4
         ]
        },
        {
         "hoverinfo": "skip",
         "line": {
          "color": "black",
          "width": 4
         },
         "mode": "lines",
         "showlegend": false,
         "type": "scatter3d",
         "x": [
          20,
          20
         ],
         "y": [
          3,
          6
         ],
         "z": [
          2,
          2
         ]
        },
        {
         "hoverinfo": "skip",
         "line": {
          "color": "black",
          "width": 4
         },
         "mode": "lines",
         "showlegend": false,
         "type": "scatter3d",
         "x": [
          20,
          25
         ],
         "y": [
          3,
          3
         ],
         "z": [
          2,
          2
         ]
        },
        {
         "hoverinfo": "skip",
         "line": {
          "color": "black",
          "width": 4
         },
         "mode": "lines",
         "showlegend": false,
         "type": "scatter3d",
         "x": [
          20,
          20
         ],
         "y": [
          3,
          6
         ],
         "z": [
          4,
          4
         ]
        },
        {
         "hoverinfo": "skip",
         "line": {
          "color": "black",
          "width": 4
         },
         "mode": "lines",
         "showlegend": false,
         "type": "scatter3d",
         "x": [
          20,
          25
         ],
         "y": [
          3,
          3
         ],
         "z": [
          4,
          4
         ]
        },
        {
         "hoverinfo": "skip",
         "line": {
          "color": "black",
          "width": 4
         },
         "mode": "lines",
         "showlegend": false,
         "type": "scatter3d",
         "x": [
          20,
          20
         ],
         "y": [
          6,
          6
         ],
         "z": [
          -4,
          -2
         ]
        },
        {
         "hoverinfo": "skip",
         "line": {
          "color": "black",
          "width": 4
         },
         "mode": "lines",
         "showlegend": false,
         "type": "scatter3d",
         "x": [
          20,
          25
         ],
         "y": [
          6,
          6
         ],
         "z": [
          -4,
          -4
         ]
        },
        {
         "hoverinfo": "skip",
         "line": {
          "color": "black",
          "width": 4
         },
         "mode": "lines",
         "showlegend": false,
         "type": "scatter3d",
         "x": [
          20,
          20
         ],
         "y": [
          6,
          6
         ],
         "z": [
          -2,
          0
         ]
        },
        {
         "hoverinfo": "skip",
         "line": {
          "color": "black",
          "width": 4
         },
         "mode": "lines",
         "showlegend": false,
         "type": "scatter3d",
         "x": [
          20,
          25
         ],
         "y": [
          6,
          6
         ],
         "z": [
          -2,
          -2
         ]
        },
        {
         "hoverinfo": "skip",
         "line": {
          "color": "black",
          "width": 4
         },
         "mode": "lines",
         "showlegend": false,
         "type": "scatter3d",
         "x": [
          20,
          20
         ],
         "y": [
          6,
          6
         ],
         "z": [
          0,
          2
         ]
        },
        {
         "hoverinfo": "skip",
         "line": {
          "color": "black",
          "width": 4
         },
         "mode": "lines",
         "showlegend": false,
         "type": "scatter3d",
         "x": [
          20,
          25
         ],
         "y": [
          6,
          6
         ],
         "z": [
          0,
          0
         ]
        },
        {
         "hoverinfo": "skip",
         "line": {
          "color": "black",
          "width": 4
         },
         "mode": "lines",
         "showlegend": false,
         "type": "scatter3d",
         "x": [
          20,
          20
         ],
         "y": [
          6,
          6
         ],
         "z": [
          2,
          4
         ]
        },
        {
         "hoverinfo": "skip",
         "line": {
          "color": "black",
          "width": 4
         },
         "mode": "lines",
         "showlegend": false,
         "type": "scatter3d",
         "x": [
          20,
          25
         ],
         "y": [
          6,
          6
         ],
         "z": [
          2,
          2
         ]
        },
        {
         "hoverinfo": "skip",
         "line": {
          "color": "black",
          "width": 4
         },
         "mode": "lines",
         "showlegend": false,
         "type": "scatter3d",
         "x": [
          20,
          25
         ],
         "y": [
          6,
          6
         ],
         "z": [
          4,
          4
         ]
        },
        {
         "hoverinfo": "skip",
         "line": {
          "color": "black",
          "width": 4
         },
         "mode": "lines",
         "showlegend": false,
         "type": "scatter3d",
         "x": [
          25,
          25
         ],
         "y": [
          -6,
          -6
         ],
         "z": [
          -4,
          -2
         ]
        },
        {
         "hoverinfo": "skip",
         "line": {
          "color": "black",
          "width": 4
         },
         "mode": "lines",
         "showlegend": false,
         "type": "scatter3d",
         "x": [
          25,
          25
         ],
         "y": [
          -6,
          -3
         ],
         "z": [
          -4,
          -4
         ]
        },
        {
         "hoverinfo": "skip",
         "line": {
          "color": "black",
          "width": 4
         },
         "mode": "lines",
         "showlegend": false,
         "type": "scatter3d",
         "x": [
          25,
          30
         ],
         "y": [
          -6,
          -6
         ],
         "z": [
          -4,
          -4
         ]
        },
        {
         "hoverinfo": "skip",
         "line": {
          "color": "black",
          "width": 4
         },
         "mode": "lines",
         "showlegend": false,
         "type": "scatter3d",
         "x": [
          25,
          25
         ],
         "y": [
          -6,
          -6
         ],
         "z": [
          -2,
          0
         ]
        },
        {
         "hoverinfo": "skip",
         "line": {
          "color": "black",
          "width": 4
         },
         "mode": "lines",
         "showlegend": false,
         "type": "scatter3d",
         "x": [
          25,
          25
         ],
         "y": [
          -6,
          -3
         ],
         "z": [
          -2,
          -2
         ]
        },
        {
         "hoverinfo": "skip",
         "line": {
          "color": "black",
          "width": 4
         },
         "mode": "lines",
         "showlegend": false,
         "type": "scatter3d",
         "x": [
          25,
          30
         ],
         "y": [
          -6,
          -6
         ],
         "z": [
          -2,
          -2
         ]
        },
        {
         "hoverinfo": "skip",
         "line": {
          "color": "black",
          "width": 4
         },
         "mode": "lines",
         "showlegend": false,
         "type": "scatter3d",
         "x": [
          25,
          25
         ],
         "y": [
          -6,
          -6
         ],
         "z": [
          0,
          2
         ]
        },
        {
         "hoverinfo": "skip",
         "line": {
          "color": "black",
          "width": 4
         },
         "mode": "lines",
         "showlegend": false,
         "type": "scatter3d",
         "x": [
          25,
          25
         ],
         "y": [
          -6,
          -3
         ],
         "z": [
          0,
          0
         ]
        },
        {
         "hoverinfo": "skip",
         "line": {
          "color": "black",
          "width": 4
         },
         "mode": "lines",
         "showlegend": false,
         "type": "scatter3d",
         "x": [
          25,
          30
         ],
         "y": [
          -6,
          -6
         ],
         "z": [
          0,
          0
         ]
        },
        {
         "hoverinfo": "skip",
         "line": {
          "color": "black",
          "width": 4
         },
         "mode": "lines",
         "showlegend": false,
         "type": "scatter3d",
         "x": [
          25,
          25
         ],
         "y": [
          -6,
          -6
         ],
         "z": [
          2,
          4
         ]
        },
        {
         "hoverinfo": "skip",
         "line": {
          "color": "black",
          "width": 4
         },
         "mode": "lines",
         "showlegend": false,
         "type": "scatter3d",
         "x": [
          25,
          25
         ],
         "y": [
          -6,
          -3
         ],
         "z": [
          2,
          2
         ]
        },
        {
         "hoverinfo": "skip",
         "line": {
          "color": "black",
          "width": 4
         },
         "mode": "lines",
         "showlegend": false,
         "type": "scatter3d",
         "x": [
          25,
          30
         ],
         "y": [
          -6,
          -6
         ],
         "z": [
          2,
          2
         ]
        },
        {
         "hoverinfo": "skip",
         "line": {
          "color": "black",
          "width": 4
         },
         "mode": "lines",
         "showlegend": false,
         "type": "scatter3d",
         "x": [
          25,
          25
         ],
         "y": [
          -6,
          -3
         ],
         "z": [
          4,
          4
         ]
        },
        {
         "hoverinfo": "skip",
         "line": {
          "color": "black",
          "width": 4
         },
         "mode": "lines",
         "showlegend": false,
         "type": "scatter3d",
         "x": [
          25,
          30
         ],
         "y": [
          -6,
          -6
         ],
         "z": [
          4,
          4
         ]
        },
        {
         "hoverinfo": "skip",
         "line": {
          "color": "black",
          "width": 4
         },
         "mode": "lines",
         "showlegend": false,
         "type": "scatter3d",
         "x": [
          25,
          25
         ],
         "y": [
          -3,
          -3
         ],
         "z": [
          -4,
          -2
         ]
        },
        {
         "hoverinfo": "skip",
         "line": {
          "color": "black",
          "width": 4
         },
         "mode": "lines",
         "showlegend": false,
         "type": "scatter3d",
         "x": [
          25,
          25
         ],
         "y": [
          -3,
          0
         ],
         "z": [
          -4,
          -4
         ]
        },
        {
         "hoverinfo": "skip",
         "line": {
          "color": "black",
          "width": 4
         },
         "mode": "lines",
         "showlegend": false,
         "type": "scatter3d",
         "x": [
          25,
          30
         ],
         "y": [
          -3,
          -3
         ],
         "z": [
          -4,
          -4
         ]
        },
        {
         "hoverinfo": "skip",
         "line": {
          "color": "black",
          "width": 4
         },
         "mode": "lines",
         "showlegend": false,
         "type": "scatter3d",
         "x": [
          25,
          25
         ],
         "y": [
          -3,
          -3
         ],
         "z": [
          -2,
          0
         ]
        },
        {
         "hoverinfo": "skip",
         "line": {
          "color": "black",
          "width": 4
         },
         "mode": "lines",
         "showlegend": false,
         "type": "scatter3d",
         "x": [
          25,
          25
         ],
         "y": [
          -3,
          0
         ],
         "z": [
          -2,
          -2
         ]
        },
        {
         "hoverinfo": "skip",
         "line": {
          "color": "black",
          "width": 4
         },
         "mode": "lines",
         "showlegend": false,
         "type": "scatter3d",
         "x": [
          25,
          30
         ],
         "y": [
          -3,
          -3
         ],
         "z": [
          -2,
          -2
         ]
        },
        {
         "hoverinfo": "skip",
         "line": {
          "color": "black",
          "width": 4
         },
         "mode": "lines",
         "showlegend": false,
         "type": "scatter3d",
         "x": [
          25,
          25
         ],
         "y": [
          -3,
          -3
         ],
         "z": [
          0,
          2
         ]
        },
        {
         "hoverinfo": "skip",
         "line": {
          "color": "black",
          "width": 4
         },
         "mode": "lines",
         "showlegend": false,
         "type": "scatter3d",
         "x": [
          25,
          25
         ],
         "y": [
          -3,
          0
         ],
         "z": [
          0,
          0
         ]
        },
        {
         "hoverinfo": "skip",
         "line": {
          "color": "black",
          "width": 4
         },
         "mode": "lines",
         "showlegend": false,
         "type": "scatter3d",
         "x": [
          25,
          30
         ],
         "y": [
          -3,
          -3
         ],
         "z": [
          0,
          0
         ]
        },
        {
         "hoverinfo": "skip",
         "line": {
          "color": "black",
          "width": 4
         },
         "mode": "lines",
         "showlegend": false,
         "type": "scatter3d",
         "x": [
          25,
          25
         ],
         "y": [
          -3,
          -3
         ],
         "z": [
          2,
          4
         ]
        },
        {
         "hoverinfo": "skip",
         "line": {
          "color": "black",
          "width": 4
         },
         "mode": "lines",
         "showlegend": false,
         "type": "scatter3d",
         "x": [
          25,
          25
         ],
         "y": [
          -3,
          0
         ],
         "z": [
          2,
          2
         ]
        },
        {
         "hoverinfo": "skip",
         "line": {
          "color": "black",
          "width": 4
         },
         "mode": "lines",
         "showlegend": false,
         "type": "scatter3d",
         "x": [
          25,
          30
         ],
         "y": [
          -3,
          -3
         ],
         "z": [
          2,
          2
         ]
        },
        {
         "hoverinfo": "skip",
         "line": {
          "color": "black",
          "width": 4
         },
         "mode": "lines",
         "showlegend": false,
         "type": "scatter3d",
         "x": [
          25,
          25
         ],
         "y": [
          -3,
          0
         ],
         "z": [
          4,
          4
         ]
        },
        {
         "hoverinfo": "skip",
         "line": {
          "color": "black",
          "width": 4
         },
         "mode": "lines",
         "showlegend": false,
         "type": "scatter3d",
         "x": [
          25,
          30
         ],
         "y": [
          -3,
          -3
         ],
         "z": [
          4,
          4
         ]
        },
        {
         "hoverinfo": "skip",
         "line": {
          "color": "black",
          "width": 4
         },
         "mode": "lines",
         "showlegend": false,
         "type": "scatter3d",
         "x": [
          25,
          25
         ],
         "y": [
          0,
          0
         ],
         "z": [
          -4,
          -2
         ]
        },
        {
         "hoverinfo": "skip",
         "line": {
          "color": "black",
          "width": 4
         },
         "mode": "lines",
         "showlegend": false,
         "type": "scatter3d",
         "x": [
          25,
          25
         ],
         "y": [
          0,
          3
         ],
         "z": [
          -4,
          -4
         ]
        },
        {
         "hoverinfo": "skip",
         "line": {
          "color": "black",
          "width": 4
         },
         "mode": "lines",
         "showlegend": false,
         "type": "scatter3d",
         "x": [
          25,
          30
         ],
         "y": [
          0,
          0
         ],
         "z": [
          -4,
          -4
         ]
        },
        {
         "hoverinfo": "skip",
         "line": {
          "color": "black",
          "width": 4
         },
         "mode": "lines",
         "showlegend": false,
         "type": "scatter3d",
         "x": [
          25,
          25
         ],
         "y": [
          0,
          0
         ],
         "z": [
          -2,
          0
         ]
        },
        {
         "hoverinfo": "skip",
         "line": {
          "color": "black",
          "width": 4
         },
         "mode": "lines",
         "showlegend": false,
         "type": "scatter3d",
         "x": [
          25,
          25
         ],
         "y": [
          0,
          3
         ],
         "z": [
          -2,
          -2
         ]
        },
        {
         "hoverinfo": "skip",
         "line": {
          "color": "black",
          "width": 4
         },
         "mode": "lines",
         "showlegend": false,
         "type": "scatter3d",
         "x": [
          25,
          30
         ],
         "y": [
          0,
          0
         ],
         "z": [
          -2,
          -2
         ]
        },
        {
         "hoverinfo": "skip",
         "line": {
          "color": "black",
          "width": 4
         },
         "mode": "lines",
         "showlegend": false,
         "type": "scatter3d",
         "x": [
          25,
          25
         ],
         "y": [
          0,
          0
         ],
         "z": [
          0,
          2
         ]
        },
        {
         "hoverinfo": "skip",
         "line": {
          "color": "black",
          "width": 4
         },
         "mode": "lines",
         "showlegend": false,
         "type": "scatter3d",
         "x": [
          25,
          25
         ],
         "y": [
          0,
          3
         ],
         "z": [
          0,
          0
         ]
        },
        {
         "hoverinfo": "skip",
         "line": {
          "color": "black",
          "width": 4
         },
         "mode": "lines",
         "showlegend": false,
         "type": "scatter3d",
         "x": [
          25,
          30
         ],
         "y": [
          0,
          0
         ],
         "z": [
          0,
          0
         ]
        },
        {
         "hoverinfo": "skip",
         "line": {
          "color": "black",
          "width": 4
         },
         "mode": "lines",
         "showlegend": false,
         "type": "scatter3d",
         "x": [
          25,
          25
         ],
         "y": [
          0,
          0
         ],
         "z": [
          2,
          4
         ]
        },
        {
         "hoverinfo": "skip",
         "line": {
          "color": "black",
          "width": 4
         },
         "mode": "lines",
         "showlegend": false,
         "type": "scatter3d",
         "x": [
          25,
          25
         ],
         "y": [
          0,
          3
         ],
         "z": [
          2,
          2
         ]
        },
        {
         "hoverinfo": "skip",
         "line": {
          "color": "black",
          "width": 4
         },
         "mode": "lines",
         "showlegend": false,
         "type": "scatter3d",
         "x": [
          25,
          30
         ],
         "y": [
          0,
          0
         ],
         "z": [
          2,
          2
         ]
        },
        {
         "hoverinfo": "skip",
         "line": {
          "color": "black",
          "width": 4
         },
         "mode": "lines",
         "showlegend": false,
         "type": "scatter3d",
         "x": [
          25,
          25
         ],
         "y": [
          0,
          3
         ],
         "z": [
          4,
          4
         ]
        },
        {
         "hoverinfo": "skip",
         "line": {
          "color": "black",
          "width": 4
         },
         "mode": "lines",
         "showlegend": false,
         "type": "scatter3d",
         "x": [
          25,
          30
         ],
         "y": [
          0,
          0
         ],
         "z": [
          4,
          4
         ]
        },
        {
         "hoverinfo": "skip",
         "line": {
          "color": "black",
          "width": 4
         },
         "mode": "lines",
         "showlegend": false,
         "type": "scatter3d",
         "x": [
          25,
          25
         ],
         "y": [
          3,
          3
         ],
         "z": [
          -4,
          -2
         ]
        },
        {
         "hoverinfo": "skip",
         "line": {
          "color": "black",
          "width": 4
         },
         "mode": "lines",
         "showlegend": false,
         "type": "scatter3d",
         "x": [
          25,
          25
         ],
         "y": [
          3,
          6
         ],
         "z": [
          -4,
          -4
         ]
        },
        {
         "hoverinfo": "skip",
         "line": {
          "color": "black",
          "width": 4
         },
         "mode": "lines",
         "showlegend": false,
         "type": "scatter3d",
         "x": [
          25,
          30
         ],
         "y": [
          3,
          3
         ],
         "z": [
          -4,
          -4
         ]
        },
        {
         "hoverinfo": "skip",
         "line": {
          "color": "black",
          "width": 4
         },
         "mode": "lines",
         "showlegend": false,
         "type": "scatter3d",
         "x": [
          25,
          25
         ],
         "y": [
          3,
          3
         ],
         "z": [
          -2,
          0
         ]
        },
        {
         "hoverinfo": "skip",
         "line": {
          "color": "black",
          "width": 4
         },
         "mode": "lines",
         "showlegend": false,
         "type": "scatter3d",
         "x": [
          25,
          25
         ],
         "y": [
          3,
          6
         ],
         "z": [
          -2,
          -2
         ]
        },
        {
         "hoverinfo": "skip",
         "line": {
          "color": "black",
          "width": 4
         },
         "mode": "lines",
         "showlegend": false,
         "type": "scatter3d",
         "x": [
          25,
          30
         ],
         "y": [
          3,
          3
         ],
         "z": [
          -2,
          -2
         ]
        },
        {
         "hoverinfo": "skip",
         "line": {
          "color": "black",
          "width": 4
         },
         "mode": "lines",
         "showlegend": false,
         "type": "scatter3d",
         "x": [
          25,
          25
         ],
         "y": [
          3,
          3
         ],
         "z": [
          0,
          2
         ]
        },
        {
         "hoverinfo": "skip",
         "line": {
          "color": "black",
          "width": 4
         },
         "mode": "lines",
         "showlegend": false,
         "type": "scatter3d",
         "x": [
          25,
          25
         ],
         "y": [
          3,
          6
         ],
         "z": [
          0,
          0
         ]
        },
        {
         "hoverinfo": "skip",
         "line": {
          "color": "black",
          "width": 4
         },
         "mode": "lines",
         "showlegend": false,
         "type": "scatter3d",
         "x": [
          25,
          30
         ],
         "y": [
          3,
          3
         ],
         "z": [
          0,
          0
         ]
        },
        {
         "hoverinfo": "skip",
         "line": {
          "color": "black",
          "width": 4
         },
         "mode": "lines",
         "showlegend": false,
         "type": "scatter3d",
         "x": [
          25,
          25
         ],
         "y": [
          3,
          3
         ],
         "z": [
          2,
          4
         ]
        },
        {
         "hoverinfo": "skip",
         "line": {
          "color": "black",
          "width": 4
         },
         "mode": "lines",
         "showlegend": false,
         "type": "scatter3d",
         "x": [
          25,
          25
         ],
         "y": [
          3,
          6
         ],
         "z": [
          2,
          2
         ]
        },
        {
         "hoverinfo": "skip",
         "line": {
          "color": "black",
          "width": 4
         },
         "mode": "lines",
         "showlegend": false,
         "type": "scatter3d",
         "x": [
          25,
          30
         ],
         "y": [
          3,
          3
         ],
         "z": [
          2,
          2
         ]
        },
        {
         "hoverinfo": "skip",
         "line": {
          "color": "black",
          "width": 4
         },
         "mode": "lines",
         "showlegend": false,
         "type": "scatter3d",
         "x": [
          25,
          25
         ],
         "y": [
          3,
          6
         ],
         "z": [
          4,
          4
         ]
        },
        {
         "hoverinfo": "skip",
         "line": {
          "color": "black",
          "width": 4
         },
         "mode": "lines",
         "showlegend": false,
         "type": "scatter3d",
         "x": [
          25,
          30
         ],
         "y": [
          3,
          3
         ],
         "z": [
          4,
          4
         ]
        },
        {
         "hoverinfo": "skip",
         "line": {
          "color": "black",
          "width": 4
         },
         "mode": "lines",
         "showlegend": false,
         "type": "scatter3d",
         "x": [
          25,
          25
         ],
         "y": [
          6,
          6
         ],
         "z": [
          -4,
          -2
         ]
        },
        {
         "hoverinfo": "skip",
         "line": {
          "color": "black",
          "width": 4
         },
         "mode": "lines",
         "showlegend": false,
         "type": "scatter3d",
         "x": [
          25,
          30
         ],
         "y": [
          6,
          6
         ],
         "z": [
          -4,
          -4
         ]
        },
        {
         "hoverinfo": "skip",
         "line": {
          "color": "black",
          "width": 4
         },
         "mode": "lines",
         "showlegend": false,
         "type": "scatter3d",
         "x": [
          25,
          25
         ],
         "y": [
          6,
          6
         ],
         "z": [
          -2,
          0
         ]
        },
        {
         "hoverinfo": "skip",
         "line": {
          "color": "black",
          "width": 4
         },
         "mode": "lines",
         "showlegend": false,
         "type": "scatter3d",
         "x": [
          25,
          30
         ],
         "y": [
          6,
          6
         ],
         "z": [
          -2,
          -2
         ]
        },
        {
         "hoverinfo": "skip",
         "line": {
          "color": "black",
          "width": 4
         },
         "mode": "lines",
         "showlegend": false,
         "type": "scatter3d",
         "x": [
          25,
          25
         ],
         "y": [
          6,
          6
         ],
         "z": [
          0,
          2
         ]
        },
        {
         "hoverinfo": "skip",
         "line": {
          "color": "black",
          "width": 4
         },
         "mode": "lines",
         "showlegend": false,
         "type": "scatter3d",
         "x": [
          25,
          30
         ],
         "y": [
          6,
          6
         ],
         "z": [
          0,
          0
         ]
        },
        {
         "hoverinfo": "skip",
         "line": {
          "color": "black",
          "width": 4
         },
         "mode": "lines",
         "showlegend": false,
         "type": "scatter3d",
         "x": [
          25,
          25
         ],
         "y": [
          6,
          6
         ],
         "z": [
          2,
          4
         ]
        },
        {
         "hoverinfo": "skip",
         "line": {
          "color": "black",
          "width": 4
         },
         "mode": "lines",
         "showlegend": false,
         "type": "scatter3d",
         "x": [
          25,
          30
         ],
         "y": [
          6,
          6
         ],
         "z": [
          2,
          2
         ]
        },
        {
         "hoverinfo": "skip",
         "line": {
          "color": "black",
          "width": 4
         },
         "mode": "lines",
         "showlegend": false,
         "type": "scatter3d",
         "x": [
          25,
          30
         ],
         "y": [
          6,
          6
         ],
         "z": [
          4,
          4
         ]
        },
        {
         "hoverinfo": "skip",
         "line": {
          "color": "black",
          "width": 4
         },
         "mode": "lines",
         "showlegend": false,
         "type": "scatter3d",
         "x": [
          30,
          30
         ],
         "y": [
          -6,
          -6
         ],
         "z": [
          -4,
          -2
         ]
        },
        {
         "hoverinfo": "skip",
         "line": {
          "color": "black",
          "width": 4
         },
         "mode": "lines",
         "showlegend": false,
         "type": "scatter3d",
         "x": [
          30,
          30
         ],
         "y": [
          -6,
          -3
         ],
         "z": [
          -4,
          -4
         ]
        },
        {
         "hoverinfo": "skip",
         "line": {
          "color": "black",
          "width": 4
         },
         "mode": "lines",
         "showlegend": false,
         "type": "scatter3d",
         "x": [
          30,
          35
         ],
         "y": [
          -6,
          -6
         ],
         "z": [
          -4,
          -4
         ]
        },
        {
         "hoverinfo": "skip",
         "line": {
          "color": "black",
          "width": 4
         },
         "mode": "lines",
         "showlegend": false,
         "type": "scatter3d",
         "x": [
          30,
          30
         ],
         "y": [
          -6,
          -6
         ],
         "z": [
          -2,
          0
         ]
        },
        {
         "hoverinfo": "skip",
         "line": {
          "color": "black",
          "width": 4
         },
         "mode": "lines",
         "showlegend": false,
         "type": "scatter3d",
         "x": [
          30,
          30
         ],
         "y": [
          -6,
          -3
         ],
         "z": [
          -2,
          -2
         ]
        },
        {
         "hoverinfo": "skip",
         "line": {
          "color": "black",
          "width": 4
         },
         "mode": "lines",
         "showlegend": false,
         "type": "scatter3d",
         "x": [
          30,
          35
         ],
         "y": [
          -6,
          -6
         ],
         "z": [
          -2,
          -2
         ]
        },
        {
         "hoverinfo": "skip",
         "line": {
          "color": "black",
          "width": 4
         },
         "mode": "lines",
         "showlegend": false,
         "type": "scatter3d",
         "x": [
          30,
          30
         ],
         "y": [
          -6,
          -6
         ],
         "z": [
          0,
          2
         ]
        },
        {
         "hoverinfo": "skip",
         "line": {
          "color": "black",
          "width": 4
         },
         "mode": "lines",
         "showlegend": false,
         "type": "scatter3d",
         "x": [
          30,
          30
         ],
         "y": [
          -6,
          -3
         ],
         "z": [
          0,
          0
         ]
        },
        {
         "hoverinfo": "skip",
         "line": {
          "color": "black",
          "width": 4
         },
         "mode": "lines",
         "showlegend": false,
         "type": "scatter3d",
         "x": [
          30,
          35
         ],
         "y": [
          -6,
          -6
         ],
         "z": [
          0,
          0
         ]
        },
        {
         "hoverinfo": "skip",
         "line": {
          "color": "black",
          "width": 4
         },
         "mode": "lines",
         "showlegend": false,
         "type": "scatter3d",
         "x": [
          30,
          30
         ],
         "y": [
          -6,
          -6
         ],
         "z": [
          2,
          4
         ]
        },
        {
         "hoverinfo": "skip",
         "line": {
          "color": "black",
          "width": 4
         },
         "mode": "lines",
         "showlegend": false,
         "type": "scatter3d",
         "x": [
          30,
          30
         ],
         "y": [
          -6,
          -3
         ],
         "z": [
          2,
          2
         ]
        },
        {
         "hoverinfo": "skip",
         "line": {
          "color": "black",
          "width": 4
         },
         "mode": "lines",
         "showlegend": false,
         "type": "scatter3d",
         "x": [
          30,
          35
         ],
         "y": [
          -6,
          -6
         ],
         "z": [
          2,
          2
         ]
        },
        {
         "hoverinfo": "skip",
         "line": {
          "color": "black",
          "width": 4
         },
         "mode": "lines",
         "showlegend": false,
         "type": "scatter3d",
         "x": [
          30,
          30
         ],
         "y": [
          -6,
          -3
         ],
         "z": [
          4,
          4
         ]
        },
        {
         "hoverinfo": "skip",
         "line": {
          "color": "black",
          "width": 4
         },
         "mode": "lines",
         "showlegend": false,
         "type": "scatter3d",
         "x": [
          30,
          35
         ],
         "y": [
          -6,
          -6
         ],
         "z": [
          4,
          4
         ]
        },
        {
         "hoverinfo": "skip",
         "line": {
          "color": "black",
          "width": 4
         },
         "mode": "lines",
         "showlegend": false,
         "type": "scatter3d",
         "x": [
          30,
          30
         ],
         "y": [
          -3,
          -3
         ],
         "z": [
          -4,
          -2
         ]
        },
        {
         "hoverinfo": "skip",
         "line": {
          "color": "black",
          "width": 4
         },
         "mode": "lines",
         "showlegend": false,
         "type": "scatter3d",
         "x": [
          30,
          30
         ],
         "y": [
          -3,
          0
         ],
         "z": [
          -4,
          -4
         ]
        },
        {
         "hoverinfo": "skip",
         "line": {
          "color": "black",
          "width": 4
         },
         "mode": "lines",
         "showlegend": false,
         "type": "scatter3d",
         "x": [
          30,
          35
         ],
         "y": [
          -3,
          -3
         ],
         "z": [
          -4,
          -4
         ]
        },
        {
         "hoverinfo": "skip",
         "line": {
          "color": "black",
          "width": 4
         },
         "mode": "lines",
         "showlegend": false,
         "type": "scatter3d",
         "x": [
          30,
          30
         ],
         "y": [
          -3,
          -3
         ],
         "z": [
          -2,
          0
         ]
        },
        {
         "hoverinfo": "skip",
         "line": {
          "color": "black",
          "width": 4
         },
         "mode": "lines",
         "showlegend": false,
         "type": "scatter3d",
         "x": [
          30,
          30
         ],
         "y": [
          -3,
          0
         ],
         "z": [
          -2,
          -2
         ]
        },
        {
         "hoverinfo": "skip",
         "line": {
          "color": "black",
          "width": 4
         },
         "mode": "lines",
         "showlegend": false,
         "type": "scatter3d",
         "x": [
          30,
          35
         ],
         "y": [
          -3,
          -3
         ],
         "z": [
          -2,
          -2
         ]
        },
        {
         "hoverinfo": "skip",
         "line": {
          "color": "black",
          "width": 4
         },
         "mode": "lines",
         "showlegend": false,
         "type": "scatter3d",
         "x": [
          30,
          30
         ],
         "y": [
          -3,
          -3
         ],
         "z": [
          0,
          2
         ]
        },
        {
         "hoverinfo": "skip",
         "line": {
          "color": "black",
          "width": 4
         },
         "mode": "lines",
         "showlegend": false,
         "type": "scatter3d",
         "x": [
          30,
          30
         ],
         "y": [
          -3,
          0
         ],
         "z": [
          0,
          0
         ]
        },
        {
         "hoverinfo": "skip",
         "line": {
          "color": "black",
          "width": 4
         },
         "mode": "lines",
         "showlegend": false,
         "type": "scatter3d",
         "x": [
          30,
          35
         ],
         "y": [
          -3,
          -3
         ],
         "z": [
          0,
          0
         ]
        },
        {
         "hoverinfo": "skip",
         "line": {
          "color": "black",
          "width": 4
         },
         "mode": "lines",
         "showlegend": false,
         "type": "scatter3d",
         "x": [
          30,
          30
         ],
         "y": [
          -3,
          -3
         ],
         "z": [
          2,
          4
         ]
        },
        {
         "hoverinfo": "skip",
         "line": {
          "color": "black",
          "width": 4
         },
         "mode": "lines",
         "showlegend": false,
         "type": "scatter3d",
         "x": [
          30,
          30
         ],
         "y": [
          -3,
          0
         ],
         "z": [
          2,
          2
         ]
        },
        {
         "hoverinfo": "skip",
         "line": {
          "color": "black",
          "width": 4
         },
         "mode": "lines",
         "showlegend": false,
         "type": "scatter3d",
         "x": [
          30,
          35
         ],
         "y": [
          -3,
          -3
         ],
         "z": [
          2,
          2
         ]
        },
        {
         "hoverinfo": "skip",
         "line": {
          "color": "black",
          "width": 4
         },
         "mode": "lines",
         "showlegend": false,
         "type": "scatter3d",
         "x": [
          30,
          30
         ],
         "y": [
          -3,
          0
         ],
         "z": [
          4,
          4
         ]
        },
        {
         "hoverinfo": "skip",
         "line": {
          "color": "black",
          "width": 4
         },
         "mode": "lines",
         "showlegend": false,
         "type": "scatter3d",
         "x": [
          30,
          35
         ],
         "y": [
          -3,
          -3
         ],
         "z": [
          4,
          4
         ]
        },
        {
         "hoverinfo": "skip",
         "line": {
          "color": "black",
          "width": 4
         },
         "mode": "lines",
         "showlegend": false,
         "type": "scatter3d",
         "x": [
          30,
          30
         ],
         "y": [
          0,
          0
         ],
         "z": [
          -4,
          -2
         ]
        },
        {
         "hoverinfo": "skip",
         "line": {
          "color": "black",
          "width": 4
         },
         "mode": "lines",
         "showlegend": false,
         "type": "scatter3d",
         "x": [
          30,
          30
         ],
         "y": [
          0,
          3
         ],
         "z": [
          -4,
          -4
         ]
        },
        {
         "hoverinfo": "skip",
         "line": {
          "color": "black",
          "width": 4
         },
         "mode": "lines",
         "showlegend": false,
         "type": "scatter3d",
         "x": [
          30,
          35
         ],
         "y": [
          0,
          0
         ],
         "z": [
          -4,
          -4
         ]
        },
        {
         "hoverinfo": "skip",
         "line": {
          "color": "black",
          "width": 4
         },
         "mode": "lines",
         "showlegend": false,
         "type": "scatter3d",
         "x": [
          30,
          30
         ],
         "y": [
          0,
          0
         ],
         "z": [
          -2,
          0
         ]
        },
        {
         "hoverinfo": "skip",
         "line": {
          "color": "black",
          "width": 4
         },
         "mode": "lines",
         "showlegend": false,
         "type": "scatter3d",
         "x": [
          30,
          30
         ],
         "y": [
          0,
          3
         ],
         "z": [
          -2,
          -2
         ]
        },
        {
         "hoverinfo": "skip",
         "line": {
          "color": "black",
          "width": 4
         },
         "mode": "lines",
         "showlegend": false,
         "type": "scatter3d",
         "x": [
          30,
          35
         ],
         "y": [
          0,
          0
         ],
         "z": [
          -2,
          -2
         ]
        },
        {
         "hoverinfo": "skip",
         "line": {
          "color": "black",
          "width": 4
         },
         "mode": "lines",
         "showlegend": false,
         "type": "scatter3d",
         "x": [
          30,
          30
         ],
         "y": [
          0,
          0
         ],
         "z": [
          0,
          2
         ]
        },
        {
         "hoverinfo": "skip",
         "line": {
          "color": "black",
          "width": 4
         },
         "mode": "lines",
         "showlegend": false,
         "type": "scatter3d",
         "x": [
          30,
          30
         ],
         "y": [
          0,
          3
         ],
         "z": [
          0,
          0
         ]
        },
        {
         "hoverinfo": "skip",
         "line": {
          "color": "black",
          "width": 4
         },
         "mode": "lines",
         "showlegend": false,
         "type": "scatter3d",
         "x": [
          30,
          35
         ],
         "y": [
          0,
          0
         ],
         "z": [
          0,
          0
         ]
        },
        {
         "hoverinfo": "skip",
         "line": {
          "color": "black",
          "width": 4
         },
         "mode": "lines",
         "showlegend": false,
         "type": "scatter3d",
         "x": [
          30,
          30
         ],
         "y": [
          0,
          0
         ],
         "z": [
          2,
          4
         ]
        },
        {
         "hoverinfo": "skip",
         "line": {
          "color": "black",
          "width": 4
         },
         "mode": "lines",
         "showlegend": false,
         "type": "scatter3d",
         "x": [
          30,
          30
         ],
         "y": [
          0,
          3
         ],
         "z": [
          2,
          2
         ]
        },
        {
         "hoverinfo": "skip",
         "line": {
          "color": "black",
          "width": 4
         },
         "mode": "lines",
         "showlegend": false,
         "type": "scatter3d",
         "x": [
          30,
          35
         ],
         "y": [
          0,
          0
         ],
         "z": [
          2,
          2
         ]
        },
        {
         "hoverinfo": "skip",
         "line": {
          "color": "black",
          "width": 4
         },
         "mode": "lines",
         "showlegend": false,
         "type": "scatter3d",
         "x": [
          30,
          30
         ],
         "y": [
          0,
          3
         ],
         "z": [
          4,
          4
         ]
        },
        {
         "hoverinfo": "skip",
         "line": {
          "color": "black",
          "width": 4
         },
         "mode": "lines",
         "showlegend": false,
         "type": "scatter3d",
         "x": [
          30,
          35
         ],
         "y": [
          0,
          0
         ],
         "z": [
          4,
          4
         ]
        },
        {
         "hoverinfo": "skip",
         "line": {
          "color": "black",
          "width": 4
         },
         "mode": "lines",
         "showlegend": false,
         "type": "scatter3d",
         "x": [
          30,
          30
         ],
         "y": [
          3,
          3
         ],
         "z": [
          -4,
          -2
         ]
        },
        {
         "hoverinfo": "skip",
         "line": {
          "color": "black",
          "width": 4
         },
         "mode": "lines",
         "showlegend": false,
         "type": "scatter3d",
         "x": [
          30,
          30
         ],
         "y": [
          3,
          6
         ],
         "z": [
          -4,
          -4
         ]
        },
        {
         "hoverinfo": "skip",
         "line": {
          "color": "black",
          "width": 4
         },
         "mode": "lines",
         "showlegend": false,
         "type": "scatter3d",
         "x": [
          30,
          35
         ],
         "y": [
          3,
          3
         ],
         "z": [
          -4,
          -4
         ]
        },
        {
         "hoverinfo": "skip",
         "line": {
          "color": "black",
          "width": 4
         },
         "mode": "lines",
         "showlegend": false,
         "type": "scatter3d",
         "x": [
          30,
          30
         ],
         "y": [
          3,
          3
         ],
         "z": [
          -2,
          0
         ]
        },
        {
         "hoverinfo": "skip",
         "line": {
          "color": "black",
          "width": 4
         },
         "mode": "lines",
         "showlegend": false,
         "type": "scatter3d",
         "x": [
          30,
          30
         ],
         "y": [
          3,
          6
         ],
         "z": [
          -2,
          -2
         ]
        },
        {
         "hoverinfo": "skip",
         "line": {
          "color": "black",
          "width": 4
         },
         "mode": "lines",
         "showlegend": false,
         "type": "scatter3d",
         "x": [
          30,
          35
         ],
         "y": [
          3,
          3
         ],
         "z": [
          -2,
          -2
         ]
        },
        {
         "hoverinfo": "skip",
         "line": {
          "color": "black",
          "width": 4
         },
         "mode": "lines",
         "showlegend": false,
         "type": "scatter3d",
         "x": [
          30,
          30
         ],
         "y": [
          3,
          3
         ],
         "z": [
          0,
          2
         ]
        },
        {
         "hoverinfo": "skip",
         "line": {
          "color": "black",
          "width": 4
         },
         "mode": "lines",
         "showlegend": false,
         "type": "scatter3d",
         "x": [
          30,
          30
         ],
         "y": [
          3,
          6
         ],
         "z": [
          0,
          0
         ]
        },
        {
         "hoverinfo": "skip",
         "line": {
          "color": "black",
          "width": 4
         },
         "mode": "lines",
         "showlegend": false,
         "type": "scatter3d",
         "x": [
          30,
          35
         ],
         "y": [
          3,
          3
         ],
         "z": [
          0,
          0
         ]
        },
        {
         "hoverinfo": "skip",
         "line": {
          "color": "black",
          "width": 4
         },
         "mode": "lines",
         "showlegend": false,
         "type": "scatter3d",
         "x": [
          30,
          30
         ],
         "y": [
          3,
          3
         ],
         "z": [
          2,
          4
         ]
        },
        {
         "hoverinfo": "skip",
         "line": {
          "color": "black",
          "width": 4
         },
         "mode": "lines",
         "showlegend": false,
         "type": "scatter3d",
         "x": [
          30,
          30
         ],
         "y": [
          3,
          6
         ],
         "z": [
          2,
          2
         ]
        },
        {
         "hoverinfo": "skip",
         "line": {
          "color": "black",
          "width": 4
         },
         "mode": "lines",
         "showlegend": false,
         "type": "scatter3d",
         "x": [
          30,
          35
         ],
         "y": [
          3,
          3
         ],
         "z": [
          2,
          2
         ]
        },
        {
         "hoverinfo": "skip",
         "line": {
          "color": "black",
          "width": 4
         },
         "mode": "lines",
         "showlegend": false,
         "type": "scatter3d",
         "x": [
          30,
          30
         ],
         "y": [
          3,
          6
         ],
         "z": [
          4,
          4
         ]
        },
        {
         "hoverinfo": "skip",
         "line": {
          "color": "black",
          "width": 4
         },
         "mode": "lines",
         "showlegend": false,
         "type": "scatter3d",
         "x": [
          30,
          35
         ],
         "y": [
          3,
          3
         ],
         "z": [
          4,
          4
         ]
        },
        {
         "hoverinfo": "skip",
         "line": {
          "color": "black",
          "width": 4
         },
         "mode": "lines",
         "showlegend": false,
         "type": "scatter3d",
         "x": [
          30,
          30
         ],
         "y": [
          6,
          6
         ],
         "z": [
          -4,
          -2
         ]
        },
        {
         "hoverinfo": "skip",
         "line": {
          "color": "black",
          "width": 4
         },
         "mode": "lines",
         "showlegend": false,
         "type": "scatter3d",
         "x": [
          30,
          35
         ],
         "y": [
          6,
          6
         ],
         "z": [
          -4,
          -4
         ]
        },
        {
         "hoverinfo": "skip",
         "line": {
          "color": "black",
          "width": 4
         },
         "mode": "lines",
         "showlegend": false,
         "type": "scatter3d",
         "x": [
          30,
          30
         ],
         "y": [
          6,
          6
         ],
         "z": [
          -2,
          0
         ]
        },
        {
         "hoverinfo": "skip",
         "line": {
          "color": "black",
          "width": 4
         },
         "mode": "lines",
         "showlegend": false,
         "type": "scatter3d",
         "x": [
          30,
          35
         ],
         "y": [
          6,
          6
         ],
         "z": [
          -2,
          -2
         ]
        },
        {
         "hoverinfo": "skip",
         "line": {
          "color": "black",
          "width": 4
         },
         "mode": "lines",
         "showlegend": false,
         "type": "scatter3d",
         "x": [
          30,
          30
         ],
         "y": [
          6,
          6
         ],
         "z": [
          0,
          2
         ]
        },
        {
         "hoverinfo": "skip",
         "line": {
          "color": "black",
          "width": 4
         },
         "mode": "lines",
         "showlegend": false,
         "type": "scatter3d",
         "x": [
          30,
          35
         ],
         "y": [
          6,
          6
         ],
         "z": [
          0,
          0
         ]
        },
        {
         "hoverinfo": "skip",
         "line": {
          "color": "black",
          "width": 4
         },
         "mode": "lines",
         "showlegend": false,
         "type": "scatter3d",
         "x": [
          30,
          30
         ],
         "y": [
          6,
          6
         ],
         "z": [
          2,
          4
         ]
        },
        {
         "hoverinfo": "skip",
         "line": {
          "color": "black",
          "width": 4
         },
         "mode": "lines",
         "showlegend": false,
         "type": "scatter3d",
         "x": [
          30,
          35
         ],
         "y": [
          6,
          6
         ],
         "z": [
          2,
          2
         ]
        },
        {
         "hoverinfo": "skip",
         "line": {
          "color": "black",
          "width": 4
         },
         "mode": "lines",
         "showlegend": false,
         "type": "scatter3d",
         "x": [
          30,
          35
         ],
         "y": [
          6,
          6
         ],
         "z": [
          4,
          4
         ]
        },
        {
         "hoverinfo": "skip",
         "line": {
          "color": "black",
          "width": 4
         },
         "mode": "lines",
         "showlegend": false,
         "type": "scatter3d",
         "x": [
          35,
          35
         ],
         "y": [
          -6,
          -6
         ],
         "z": [
          -4,
          -2
         ]
        },
        {
         "hoverinfo": "skip",
         "line": {
          "color": "black",
          "width": 4
         },
         "mode": "lines",
         "showlegend": false,
         "type": "scatter3d",
         "x": [
          35,
          35
         ],
         "y": [
          -6,
          -3
         ],
         "z": [
          -4,
          -4
         ]
        },
        {
         "hoverinfo": "skip",
         "line": {
          "color": "black",
          "width": 4
         },
         "mode": "lines",
         "showlegend": false,
         "type": "scatter3d",
         "x": [
          35,
          40
         ],
         "y": [
          -6,
          -6
         ],
         "z": [
          -4,
          -4
         ]
        },
        {
         "hoverinfo": "skip",
         "line": {
          "color": "black",
          "width": 4
         },
         "mode": "lines",
         "showlegend": false,
         "type": "scatter3d",
         "x": [
          35,
          35
         ],
         "y": [
          -6,
          -6
         ],
         "z": [
          -2,
          0
         ]
        },
        {
         "hoverinfo": "skip",
         "line": {
          "color": "black",
          "width": 4
         },
         "mode": "lines",
         "showlegend": false,
         "type": "scatter3d",
         "x": [
          35,
          35
         ],
         "y": [
          -6,
          -3
         ],
         "z": [
          -2,
          -2
         ]
        },
        {
         "hoverinfo": "skip",
         "line": {
          "color": "black",
          "width": 4
         },
         "mode": "lines",
         "showlegend": false,
         "type": "scatter3d",
         "x": [
          35,
          40
         ],
         "y": [
          -6,
          -6
         ],
         "z": [
          -2,
          -2
         ]
        },
        {
         "hoverinfo": "skip",
         "line": {
          "color": "black",
          "width": 4
         },
         "mode": "lines",
         "showlegend": false,
         "type": "scatter3d",
         "x": [
          35,
          35
         ],
         "y": [
          -6,
          -6
         ],
         "z": [
          0,
          2
         ]
        },
        {
         "hoverinfo": "skip",
         "line": {
          "color": "black",
          "width": 4
         },
         "mode": "lines",
         "showlegend": false,
         "type": "scatter3d",
         "x": [
          35,
          35
         ],
         "y": [
          -6,
          -3
         ],
         "z": [
          0,
          0
         ]
        },
        {
         "hoverinfo": "skip",
         "line": {
          "color": "black",
          "width": 4
         },
         "mode": "lines",
         "showlegend": false,
         "type": "scatter3d",
         "x": [
          35,
          40
         ],
         "y": [
          -6,
          -6
         ],
         "z": [
          0,
          0
         ]
        },
        {
         "hoverinfo": "skip",
         "line": {
          "color": "black",
          "width": 4
         },
         "mode": "lines",
         "showlegend": false,
         "type": "scatter3d",
         "x": [
          35,
          35
         ],
         "y": [
          -6,
          -6
         ],
         "z": [
          2,
          4
         ]
        },
        {
         "hoverinfo": "skip",
         "line": {
          "color": "black",
          "width": 4
         },
         "mode": "lines",
         "showlegend": false,
         "type": "scatter3d",
         "x": [
          35,
          35
         ],
         "y": [
          -6,
          -3
         ],
         "z": [
          2,
          2
         ]
        },
        {
         "hoverinfo": "skip",
         "line": {
          "color": "black",
          "width": 4
         },
         "mode": "lines",
         "showlegend": false,
         "type": "scatter3d",
         "x": [
          35,
          40
         ],
         "y": [
          -6,
          -6
         ],
         "z": [
          2,
          2
         ]
        },
        {
         "hoverinfo": "skip",
         "line": {
          "color": "black",
          "width": 4
         },
         "mode": "lines",
         "showlegend": false,
         "type": "scatter3d",
         "x": [
          35,
          35
         ],
         "y": [
          -6,
          -3
         ],
         "z": [
          4,
          4
         ]
        },
        {
         "hoverinfo": "skip",
         "line": {
          "color": "black",
          "width": 4
         },
         "mode": "lines",
         "showlegend": false,
         "type": "scatter3d",
         "x": [
          35,
          40
         ],
         "y": [
          -6,
          -6
         ],
         "z": [
          4,
          4
         ]
        },
        {
         "hoverinfo": "skip",
         "line": {
          "color": "black",
          "width": 4
         },
         "mode": "lines",
         "showlegend": false,
         "type": "scatter3d",
         "x": [
          35,
          35
         ],
         "y": [
          -3,
          -3
         ],
         "z": [
          -4,
          -2
         ]
        },
        {
         "hoverinfo": "skip",
         "line": {
          "color": "black",
          "width": 4
         },
         "mode": "lines",
         "showlegend": false,
         "type": "scatter3d",
         "x": [
          35,
          35
         ],
         "y": [
          -3,
          0
         ],
         "z": [
          -4,
          -4
         ]
        },
        {
         "hoverinfo": "skip",
         "line": {
          "color": "black",
          "width": 4
         },
         "mode": "lines",
         "showlegend": false,
         "type": "scatter3d",
         "x": [
          35,
          40
         ],
         "y": [
          -3,
          -3
         ],
         "z": [
          -4,
          -4
         ]
        },
        {
         "hoverinfo": "skip",
         "line": {
          "color": "black",
          "width": 4
         },
         "mode": "lines",
         "showlegend": false,
         "type": "scatter3d",
         "x": [
          35,
          35
         ],
         "y": [
          -3,
          -3
         ],
         "z": [
          -2,
          0
         ]
        },
        {
         "hoverinfo": "skip",
         "line": {
          "color": "black",
          "width": 4
         },
         "mode": "lines",
         "showlegend": false,
         "type": "scatter3d",
         "x": [
          35,
          35
         ],
         "y": [
          -3,
          0
         ],
         "z": [
          -2,
          -2
         ]
        },
        {
         "hoverinfo": "skip",
         "line": {
          "color": "black",
          "width": 4
         },
         "mode": "lines",
         "showlegend": false,
         "type": "scatter3d",
         "x": [
          35,
          40
         ],
         "y": [
          -3,
          -3
         ],
         "z": [
          -2,
          -2
         ]
        },
        {
         "hoverinfo": "skip",
         "line": {
          "color": "black",
          "width": 4
         },
         "mode": "lines",
         "showlegend": false,
         "type": "scatter3d",
         "x": [
          35,
          35
         ],
         "y": [
          -3,
          -3
         ],
         "z": [
          0,
          2
         ]
        },
        {
         "hoverinfo": "skip",
         "line": {
          "color": "black",
          "width": 4
         },
         "mode": "lines",
         "showlegend": false,
         "type": "scatter3d",
         "x": [
          35,
          35
         ],
         "y": [
          -3,
          0
         ],
         "z": [
          0,
          0
         ]
        },
        {
         "hoverinfo": "skip",
         "line": {
          "color": "black",
          "width": 4
         },
         "mode": "lines",
         "showlegend": false,
         "type": "scatter3d",
         "x": [
          35,
          40
         ],
         "y": [
          -3,
          -3
         ],
         "z": [
          0,
          0
         ]
        },
        {
         "hoverinfo": "skip",
         "line": {
          "color": "black",
          "width": 4
         },
         "mode": "lines",
         "showlegend": false,
         "type": "scatter3d",
         "x": [
          35,
          35
         ],
         "y": [
          -3,
          -3
         ],
         "z": [
          2,
          4
         ]
        },
        {
         "hoverinfo": "skip",
         "line": {
          "color": "black",
          "width": 4
         },
         "mode": "lines",
         "showlegend": false,
         "type": "scatter3d",
         "x": [
          35,
          35
         ],
         "y": [
          -3,
          0
         ],
         "z": [
          2,
          2
         ]
        },
        {
         "hoverinfo": "skip",
         "line": {
          "color": "black",
          "width": 4
         },
         "mode": "lines",
         "showlegend": false,
         "type": "scatter3d",
         "x": [
          35,
          40
         ],
         "y": [
          -3,
          -3
         ],
         "z": [
          2,
          2
         ]
        },
        {
         "hoverinfo": "skip",
         "line": {
          "color": "black",
          "width": 4
         },
         "mode": "lines",
         "showlegend": false,
         "type": "scatter3d",
         "x": [
          35,
          35
         ],
         "y": [
          -3,
          0
         ],
         "z": [
          4,
          4
         ]
        },
        {
         "hoverinfo": "skip",
         "line": {
          "color": "black",
          "width": 4
         },
         "mode": "lines",
         "showlegend": false,
         "type": "scatter3d",
         "x": [
          35,
          40
         ],
         "y": [
          -3,
          -3
         ],
         "z": [
          4,
          4
         ]
        },
        {
         "hoverinfo": "skip",
         "line": {
          "color": "black",
          "width": 4
         },
         "mode": "lines",
         "showlegend": false,
         "type": "scatter3d",
         "x": [
          35,
          35
         ],
         "y": [
          0,
          0
         ],
         "z": [
          -4,
          -2
         ]
        },
        {
         "hoverinfo": "skip",
         "line": {
          "color": "black",
          "width": 4
         },
         "mode": "lines",
         "showlegend": false,
         "type": "scatter3d",
         "x": [
          35,
          35
         ],
         "y": [
          0,
          3
         ],
         "z": [
          -4,
          -4
         ]
        },
        {
         "hoverinfo": "skip",
         "line": {
          "color": "black",
          "width": 4
         },
         "mode": "lines",
         "showlegend": false,
         "type": "scatter3d",
         "x": [
          35,
          40
         ],
         "y": [
          0,
          0
         ],
         "z": [
          -4,
          -4
         ]
        },
        {
         "hoverinfo": "skip",
         "line": {
          "color": "black",
          "width": 4
         },
         "mode": "lines",
         "showlegend": false,
         "type": "scatter3d",
         "x": [
          35,
          35
         ],
         "y": [
          0,
          0
         ],
         "z": [
          -2,
          0
         ]
        },
        {
         "hoverinfo": "skip",
         "line": {
          "color": "black",
          "width": 4
         },
         "mode": "lines",
         "showlegend": false,
         "type": "scatter3d",
         "x": [
          35,
          35
         ],
         "y": [
          0,
          3
         ],
         "z": [
          -2,
          -2
         ]
        },
        {
         "hoverinfo": "skip",
         "line": {
          "color": "black",
          "width": 4
         },
         "mode": "lines",
         "showlegend": false,
         "type": "scatter3d",
         "x": [
          35,
          40
         ],
         "y": [
          0,
          0
         ],
         "z": [
          -2,
          -2
         ]
        },
        {
         "hoverinfo": "skip",
         "line": {
          "color": "black",
          "width": 4
         },
         "mode": "lines",
         "showlegend": false,
         "type": "scatter3d",
         "x": [
          35,
          35
         ],
         "y": [
          0,
          0
         ],
         "z": [
          0,
          2
         ]
        },
        {
         "hoverinfo": "skip",
         "line": {
          "color": "black",
          "width": 4
         },
         "mode": "lines",
         "showlegend": false,
         "type": "scatter3d",
         "x": [
          35,
          35
         ],
         "y": [
          0,
          3
         ],
         "z": [
          0,
          0
         ]
        },
        {
         "hoverinfo": "skip",
         "line": {
          "color": "black",
          "width": 4
         },
         "mode": "lines",
         "showlegend": false,
         "type": "scatter3d",
         "x": [
          35,
          40
         ],
         "y": [
          0,
          0
         ],
         "z": [
          0,
          0
         ]
        },
        {
         "hoverinfo": "skip",
         "line": {
          "color": "black",
          "width": 4
         },
         "mode": "lines",
         "showlegend": false,
         "type": "scatter3d",
         "x": [
          35,
          35
         ],
         "y": [
          0,
          0
         ],
         "z": [
          2,
          4
         ]
        },
        {
         "hoverinfo": "skip",
         "line": {
          "color": "black",
          "width": 4
         },
         "mode": "lines",
         "showlegend": false,
         "type": "scatter3d",
         "x": [
          35,
          35
         ],
         "y": [
          0,
          3
         ],
         "z": [
          2,
          2
         ]
        },
        {
         "hoverinfo": "skip",
         "line": {
          "color": "black",
          "width": 4
         },
         "mode": "lines",
         "showlegend": false,
         "type": "scatter3d",
         "x": [
          35,
          40
         ],
         "y": [
          0,
          0
         ],
         "z": [
          2,
          2
         ]
        },
        {
         "hoverinfo": "skip",
         "line": {
          "color": "black",
          "width": 4
         },
         "mode": "lines",
         "showlegend": false,
         "type": "scatter3d",
         "x": [
          35,
          35
         ],
         "y": [
          0,
          3
         ],
         "z": [
          4,
          4
         ]
        },
        {
         "hoverinfo": "skip",
         "line": {
          "color": "black",
          "width": 4
         },
         "mode": "lines",
         "showlegend": false,
         "type": "scatter3d",
         "x": [
          35,
          40
         ],
         "y": [
          0,
          0
         ],
         "z": [
          4,
          4
         ]
        },
        {
         "hoverinfo": "skip",
         "line": {
          "color": "black",
          "width": 4
         },
         "mode": "lines",
         "showlegend": false,
         "type": "scatter3d",
         "x": [
          35,
          35
         ],
         "y": [
          3,
          3
         ],
         "z": [
          -4,
          -2
         ]
        },
        {
         "hoverinfo": "skip",
         "line": {
          "color": "black",
          "width": 4
         },
         "mode": "lines",
         "showlegend": false,
         "type": "scatter3d",
         "x": [
          35,
          35
         ],
         "y": [
          3,
          6
         ],
         "z": [
          -4,
          -4
         ]
        },
        {
         "hoverinfo": "skip",
         "line": {
          "color": "black",
          "width": 4
         },
         "mode": "lines",
         "showlegend": false,
         "type": "scatter3d",
         "x": [
          35,
          40
         ],
         "y": [
          3,
          3
         ],
         "z": [
          -4,
          -4
         ]
        },
        {
         "hoverinfo": "skip",
         "line": {
          "color": "black",
          "width": 4
         },
         "mode": "lines",
         "showlegend": false,
         "type": "scatter3d",
         "x": [
          35,
          35
         ],
         "y": [
          3,
          3
         ],
         "z": [
          -2,
          0
         ]
        },
        {
         "hoverinfo": "skip",
         "line": {
          "color": "black",
          "width": 4
         },
         "mode": "lines",
         "showlegend": false,
         "type": "scatter3d",
         "x": [
          35,
          35
         ],
         "y": [
          3,
          6
         ],
         "z": [
          -2,
          -2
         ]
        },
        {
         "hoverinfo": "skip",
         "line": {
          "color": "black",
          "width": 4
         },
         "mode": "lines",
         "showlegend": false,
         "type": "scatter3d",
         "x": [
          35,
          40
         ],
         "y": [
          3,
          3
         ],
         "z": [
          -2,
          -2
         ]
        },
        {
         "hoverinfo": "skip",
         "line": {
          "color": "black",
          "width": 4
         },
         "mode": "lines",
         "showlegend": false,
         "type": "scatter3d",
         "x": [
          35,
          35
         ],
         "y": [
          3,
          3
         ],
         "z": [
          0,
          2
         ]
        },
        {
         "hoverinfo": "skip",
         "line": {
          "color": "black",
          "width": 4
         },
         "mode": "lines",
         "showlegend": false,
         "type": "scatter3d",
         "x": [
          35,
          35
         ],
         "y": [
          3,
          6
         ],
         "z": [
          0,
          0
         ]
        },
        {
         "hoverinfo": "skip",
         "line": {
          "color": "black",
          "width": 4
         },
         "mode": "lines",
         "showlegend": false,
         "type": "scatter3d",
         "x": [
          35,
          40
         ],
         "y": [
          3,
          3
         ],
         "z": [
          0,
          0
         ]
        },
        {
         "hoverinfo": "skip",
         "line": {
          "color": "black",
          "width": 4
         },
         "mode": "lines",
         "showlegend": false,
         "type": "scatter3d",
         "x": [
          35,
          35
         ],
         "y": [
          3,
          3
         ],
         "z": [
          2,
          4
         ]
        },
        {
         "hoverinfo": "skip",
         "line": {
          "color": "black",
          "width": 4
         },
         "mode": "lines",
         "showlegend": false,
         "type": "scatter3d",
         "x": [
          35,
          35
         ],
         "y": [
          3,
          6
         ],
         "z": [
          2,
          2
         ]
        },
        {
         "hoverinfo": "skip",
         "line": {
          "color": "black",
          "width": 4
         },
         "mode": "lines",
         "showlegend": false,
         "type": "scatter3d",
         "x": [
          35,
          40
         ],
         "y": [
          3,
          3
         ],
         "z": [
          2,
          2
         ]
        },
        {
         "hoverinfo": "skip",
         "line": {
          "color": "black",
          "width": 4
         },
         "mode": "lines",
         "showlegend": false,
         "type": "scatter3d",
         "x": [
          35,
          35
         ],
         "y": [
          3,
          3.025000000372529
         ],
         "z": [
          4,
          4
         ]
        },
        {
         "hoverinfo": "skip",
         "line": {
          "color": "black",
          "width": 4
         },
         "mode": "lines",
         "showlegend": false,
         "type": "scatter3d",
         "x": [
          35,
          35
         ],
         "y": [
          3.025000000372529,
          3.050000000745058
         ],
         "z": [
          4,
          4
         ]
        },
        {
         "hoverinfo": "skip",
         "line": {
          "color": "black",
          "width": 4
         },
         "mode": "lines",
         "showlegend": false,
         "type": "scatter3d",
         "x": [
          35,
          35
         ],
         "y": [
          3.050000000745058,
          3.5333333338300386
         ],
         "z": [
          4,
          4
         ]
        },
        {
         "hoverinfo": "skip",
         "line": {
          "color": "black",
          "width": 4
         },
         "mode": "lines",
         "showlegend": false,
         "type": "scatter3d",
         "x": [
          35,
          35
         ],
         "y": [
          3.5333333338300386,
          4.016666666915019
         ],
         "z": [
          4,
          4
         ]
        },
        {
         "hoverinfo": "skip",
         "line": {
          "color": "black",
          "width": 4
         },
         "mode": "lines",
         "showlegend": false,
         "type": "scatter3d",
         "x": [
          35,
          35
         ],
         "y": [
          4.016666666915019,
          4.5
         ],
         "z": [
          4,
          4
         ]
        },
        {
         "hoverinfo": "skip",
         "line": {
          "color": "black",
          "width": 4
         },
         "mode": "lines",
         "showlegend": false,
         "type": "scatter3d",
         "x": [
          35,
          35
         ],
         "y": [
          4.5,
          4.98333333308498
         ],
         "z": [
          4,
          4
         ]
        },
        {
         "hoverinfo": "skip",
         "line": {
          "color": "black",
          "width": 4
         },
         "mode": "lines",
         "showlegend": false,
         "type": "scatter3d",
         "x": [
          35,
          35
         ],
         "y": [
          4.98333333308498,
          5.466666666169961
         ],
         "z": [
          4,
          4
         ]
        },
        {
         "hoverinfo": "skip",
         "line": {
          "color": "black",
          "width": 4
         },
         "mode": "lines",
         "showlegend": false,
         "type": "scatter3d",
         "x": [
          35,
          35
         ],
         "y": [
          5.466666666169961,
          5.949999999254942
         ],
         "z": [
          4,
          4
         ]
        },
        {
         "hoverinfo": "skip",
         "line": {
          "color": "black",
          "width": 4
         },
         "mode": "lines",
         "showlegend": false,
         "type": "scatter3d",
         "x": [
          35,
          35
         ],
         "y": [
          5.949999999254942,
          5.974999999627471
         ],
         "z": [
          4,
          4
         ]
        },
        {
         "hoverinfo": "skip",
         "line": {
          "color": "black",
          "width": 4
         },
         "mode": "lines",
         "showlegend": false,
         "type": "scatter3d",
         "x": [
          35,
          35
         ],
         "y": [
          5.974999999627471,
          6
         ],
         "z": [
          4,
          4
         ]
        },
        {
         "hoverinfo": "skip",
         "line": {
          "color": "black",
          "width": 4
         },
         "mode": "lines",
         "showlegend": false,
         "type": "scatter3d",
         "x": [
          35,
          35.02165063541723
         ],
         "y": [
          3,
          3
         ],
         "z": [
          4,
          4
         ]
        },
        {
         "hoverinfo": "skip",
         "line": {
          "color": "black",
          "width": 4
         },
         "mode": "lines",
         "showlegend": false,
         "type": "scatter3d",
         "x": [
          35.02165063541723,
          35.04330127083446
         ],
         "y": [
          3,
          3
         ],
         "z": [
          4,
          4
         ]
        },
        {
         "hoverinfo": "skip",
         "line": {
          "color": "black",
          "width": 4
         },
         "mode": "lines",
         "showlegend": false,
         "type": "scatter3d",
         "x": [
          35.04330127083446,
          35.53464101666757
         ],
         "y": [
          3,
          3
         ],
         "z": [
          4,
          4
         ]
        },
        {
         "hoverinfo": "skip",
         "line": {
          "color": "black",
          "width": 4
         },
         "mode": "lines",
         "showlegend": false,
         "type": "scatter3d",
         "x": [
          35.53464101666757,
          36.02598076250068
         ],
         "y": [
          3,
          3
         ],
         "z": [
          4,
          4
         ]
        },
        {
         "hoverinfo": "skip",
         "line": {
          "color": "black",
          "width": 4
         },
         "mode": "lines",
         "showlegend": false,
         "type": "scatter3d",
         "x": [
          36.02598076250068,
          36.51732050833378
         ],
         "y": [
          3,
          3
         ],
         "z": [
          4,
          4
         ]
        },
        {
         "hoverinfo": "skip",
         "line": {
          "color": "black",
          "width": 4
         },
         "mode": "lines",
         "showlegend": false,
         "type": "scatter3d",
         "x": [
          36.51732050833378,
          37.00866025416689
         ],
         "y": [
          3,
          3
         ],
         "z": [
          4,
          4
         ]
        },
        {
         "hoverinfo": "skip",
         "line": {
          "color": "black",
          "width": 4
         },
         "mode": "lines",
         "showlegend": false,
         "type": "scatter3d",
         "x": [
          37.00866025416689,
          37.5
         ],
         "y": [
          3,
          3
         ],
         "z": [
          4,
          4
         ]
        },
        {
         "hoverinfo": "skip",
         "line": {
          "color": "black",
          "width": 4
         },
         "mode": "lines",
         "showlegend": false,
         "type": "scatter3d",
         "x": [
          37.5,
          37.99133974583311
         ],
         "y": [
          3,
          3
         ],
         "z": [
          4,
          4
         ]
        },
        {
         "hoverinfo": "skip",
         "line": {
          "color": "black",
          "width": 4
         },
         "mode": "lines",
         "showlegend": false,
         "type": "scatter3d",
         "x": [
          37.99133974583311,
          38.48267949166622
         ],
         "y": [
          3,
          3
         ],
         "z": [
          4,
          4
         ]
        },
        {
         "hoverinfo": "skip",
         "line": {
          "color": "black",
          "width": 4
         },
         "mode": "lines",
         "showlegend": false,
         "type": "scatter3d",
         "x": [
          38.48267949166622,
          38.97401923749932
         ],
         "y": [
          3,
          3
         ],
         "z": [
          4,
          4
         ]
        },
        {
         "hoverinfo": "skip",
         "line": {
          "color": "black",
          "width": 4
         },
         "mode": "lines",
         "showlegend": false,
         "type": "scatter3d",
         "x": [
          38.97401923749932,
          39.46535898333243
         ],
         "y": [
          3,
          3
         ],
         "z": [
          4,
          4
         ]
        },
        {
         "hoverinfo": "skip",
         "line": {
          "color": "black",
          "width": 4
         },
         "mode": "lines",
         "showlegend": false,
         "type": "scatter3d",
         "x": [
          39.46535898333243,
          39.95669872916554
         ],
         "y": [
          3,
          3
         ],
         "z": [
          4,
          4
         ]
        },
        {
         "hoverinfo": "skip",
         "line": {
          "color": "black",
          "width": 4
         },
         "mode": "lines",
         "showlegend": false,
         "type": "scatter3d",
         "x": [
          39.95669872916554,
          39.97834936458277
         ],
         "y": [
          3,
          3
         ],
         "z": [
          4,
          4
         ]
        },
        {
         "hoverinfo": "skip",
         "line": {
          "color": "black",
          "width": 4
         },
         "mode": "lines",
         "showlegend": false,
         "type": "scatter3d",
         "x": [
          39.97834936458277,
          40
         ],
         "y": [
          3,
          3
         ],
         "z": [
          4,
          4
         ]
        },
        {
         "hoverinfo": "skip",
         "line": {
          "color": "black",
          "width": 4
         },
         "mode": "lines",
         "showlegend": false,
         "type": "scatter3d",
         "x": [
          35,
          35
         ],
         "y": [
          6,
          6
         ],
         "z": [
          -4,
          -2
         ]
        },
        {
         "hoverinfo": "skip",
         "line": {
          "color": "black",
          "width": 4
         },
         "mode": "lines",
         "showlegend": false,
         "type": "scatter3d",
         "x": [
          35,
          40
         ],
         "y": [
          6,
          6
         ],
         "z": [
          -4,
          -4
         ]
        },
        {
         "hoverinfo": "skip",
         "line": {
          "color": "black",
          "width": 4
         },
         "mode": "lines",
         "showlegend": false,
         "type": "scatter3d",
         "x": [
          35,
          35
         ],
         "y": [
          6,
          6
         ],
         "z": [
          -2,
          0
         ]
        },
        {
         "hoverinfo": "skip",
         "line": {
          "color": "black",
          "width": 4
         },
         "mode": "lines",
         "showlegend": false,
         "type": "scatter3d",
         "x": [
          35,
          40
         ],
         "y": [
          6,
          6
         ],
         "z": [
          -2,
          -2
         ]
        },
        {
         "hoverinfo": "skip",
         "line": {
          "color": "black",
          "width": 4
         },
         "mode": "lines",
         "showlegend": false,
         "type": "scatter3d",
         "x": [
          35,
          35
         ],
         "y": [
          6,
          6
         ],
         "z": [
          0,
          2
         ]
        },
        {
         "hoverinfo": "skip",
         "line": {
          "color": "black",
          "width": 4
         },
         "mode": "lines",
         "showlegend": false,
         "type": "scatter3d",
         "x": [
          35,
          40
         ],
         "y": [
          6,
          6
         ],
         "z": [
          0,
          0
         ]
        },
        {
         "hoverinfo": "skip",
         "line": {
          "color": "black",
          "width": 4
         },
         "mode": "lines",
         "showlegend": false,
         "type": "scatter3d",
         "x": [
          35,
          35
         ],
         "y": [
          6,
          6
         ],
         "z": [
          2,
          4
         ]
        },
        {
         "hoverinfo": "skip",
         "line": {
          "color": "black",
          "width": 4
         },
         "mode": "lines",
         "showlegend": false,
         "type": "scatter3d",
         "x": [
          35,
          40
         ],
         "y": [
          6,
          6
         ],
         "z": [
          2,
          2
         ]
        },
        {
         "hoverinfo": "skip",
         "line": {
          "color": "black",
          "width": 4
         },
         "mode": "lines",
         "showlegend": false,
         "type": "scatter3d",
         "x": [
          35,
          35.02165063541723
         ],
         "y": [
          6,
          6
         ],
         "z": [
          4,
          4
         ]
        },
        {
         "hoverinfo": "skip",
         "line": {
          "color": "black",
          "width": 4
         },
         "mode": "lines",
         "showlegend": false,
         "type": "scatter3d",
         "x": [
          35.02165063541723,
          35.04330127083446
         ],
         "y": [
          6,
          6
         ],
         "z": [
          4,
          4
         ]
        },
        {
         "hoverinfo": "skip",
         "line": {
          "color": "black",
          "width": 4
         },
         "mode": "lines",
         "showlegend": false,
         "type": "scatter3d",
         "x": [
          35.04330127083446,
          35.53464101666757
         ],
         "y": [
          6,
          6
         ],
         "z": [
          4,
          4
         ]
        },
        {
         "hoverinfo": "skip",
         "line": {
          "color": "black",
          "width": 4
         },
         "mode": "lines",
         "showlegend": false,
         "type": "scatter3d",
         "x": [
          35.53464101666757,
          36.02598076250068
         ],
         "y": [
          6,
          6
         ],
         "z": [
          4,
          4
         ]
        },
        {
         "hoverinfo": "skip",
         "line": {
          "color": "black",
          "width": 4
         },
         "mode": "lines",
         "showlegend": false,
         "type": "scatter3d",
         "x": [
          36.02598076250068,
          36.51732050833378
         ],
         "y": [
          6,
          6
         ],
         "z": [
          4,
          4
         ]
        },
        {
         "hoverinfo": "skip",
         "line": {
          "color": "black",
          "width": 4
         },
         "mode": "lines",
         "showlegend": false,
         "type": "scatter3d",
         "x": [
          36.51732050833378,
          37.00866025416689
         ],
         "y": [
          6,
          6
         ],
         "z": [
          4,
          4
         ]
        },
        {
         "hoverinfo": "skip",
         "line": {
          "color": "black",
          "width": 4
         },
         "mode": "lines",
         "showlegend": false,
         "type": "scatter3d",
         "x": [
          37.00866025416689,
          37.5
         ],
         "y": [
          6,
          6
         ],
         "z": [
          4,
          4
         ]
        },
        {
         "hoverinfo": "skip",
         "line": {
          "color": "black",
          "width": 4
         },
         "mode": "lines",
         "showlegend": false,
         "type": "scatter3d",
         "x": [
          37.5,
          37.99133974583311
         ],
         "y": [
          6,
          6
         ],
         "z": [
          4,
          4
         ]
        },
        {
         "hoverinfo": "skip",
         "line": {
          "color": "black",
          "width": 4
         },
         "mode": "lines",
         "showlegend": false,
         "type": "scatter3d",
         "x": [
          37.99133974583311,
          38.48267949166622
         ],
         "y": [
          6,
          6
         ],
         "z": [
          4,
          4
         ]
        },
        {
         "hoverinfo": "skip",
         "line": {
          "color": "black",
          "width": 4
         },
         "mode": "lines",
         "showlegend": false,
         "type": "scatter3d",
         "x": [
          38.48267949166622,
          38.97401923749932
         ],
         "y": [
          6,
          6
         ],
         "z": [
          4,
          4
         ]
        },
        {
         "hoverinfo": "skip",
         "line": {
          "color": "black",
          "width": 4
         },
         "mode": "lines",
         "showlegend": false,
         "type": "scatter3d",
         "x": [
          38.97401923749932,
          39.46535898333243
         ],
         "y": [
          6,
          6
         ],
         "z": [
          4,
          4
         ]
        },
        {
         "hoverinfo": "skip",
         "line": {
          "color": "black",
          "width": 4
         },
         "mode": "lines",
         "showlegend": false,
         "type": "scatter3d",
         "x": [
          39.46535898333243,
          39.95669872916554
         ],
         "y": [
          6,
          6
         ],
         "z": [
          4,
          4
         ]
        },
        {
         "hoverinfo": "skip",
         "line": {
          "color": "black",
          "width": 4
         },
         "mode": "lines",
         "showlegend": false,
         "type": "scatter3d",
         "x": [
          39.95669872916554,
          39.97834936458277
         ],
         "y": [
          6,
          6
         ],
         "z": [
          4,
          4
         ]
        },
        {
         "hoverinfo": "skip",
         "line": {
          "color": "black",
          "width": 4
         },
         "mode": "lines",
         "showlegend": false,
         "type": "scatter3d",
         "x": [
          39.97834936458277,
          40
         ],
         "y": [
          6,
          6
         ],
         "z": [
          4,
          4
         ]
        },
        {
         "hoverinfo": "skip",
         "line": {
          "color": "black",
          "width": 4
         },
         "mode": "lines",
         "showlegend": false,
         "type": "scatter3d",
         "x": [
          40,
          40
         ],
         "y": [
          -6,
          -6
         ],
         "z": [
          -4,
          -2
         ]
        },
        {
         "hoverinfo": "skip",
         "line": {
          "color": "black",
          "width": 4
         },
         "mode": "lines",
         "showlegend": false,
         "type": "scatter3d",
         "x": [
          40,
          40
         ],
         "y": [
          -6,
          -3
         ],
         "z": [
          -4,
          -4
         ]
        },
        {
         "hoverinfo": "skip",
         "line": {
          "color": "black",
          "width": 4
         },
         "mode": "lines",
         "showlegend": false,
         "type": "scatter3d",
         "x": [
          40,
          40
         ],
         "y": [
          -6,
          -6
         ],
         "z": [
          -2,
          0
         ]
        },
        {
         "hoverinfo": "skip",
         "line": {
          "color": "black",
          "width": 4
         },
         "mode": "lines",
         "showlegend": false,
         "type": "scatter3d",
         "x": [
          40,
          40
         ],
         "y": [
          -6,
          -3
         ],
         "z": [
          -2,
          -2
         ]
        },
        {
         "hoverinfo": "skip",
         "line": {
          "color": "black",
          "width": 4
         },
         "mode": "lines",
         "showlegend": false,
         "type": "scatter3d",
         "x": [
          40,
          40
         ],
         "y": [
          -6,
          -6
         ],
         "z": [
          0,
          2
         ]
        },
        {
         "hoverinfo": "skip",
         "line": {
          "color": "black",
          "width": 4
         },
         "mode": "lines",
         "showlegend": false,
         "type": "scatter3d",
         "x": [
          40,
          40
         ],
         "y": [
          -6,
          -3
         ],
         "z": [
          0,
          0
         ]
        },
        {
         "hoverinfo": "skip",
         "line": {
          "color": "black",
          "width": 4
         },
         "mode": "lines",
         "showlegend": false,
         "type": "scatter3d",
         "x": [
          40,
          40
         ],
         "y": [
          -6,
          -6
         ],
         "z": [
          2,
          4
         ]
        },
        {
         "hoverinfo": "skip",
         "line": {
          "color": "black",
          "width": 4
         },
         "mode": "lines",
         "showlegend": false,
         "type": "scatter3d",
         "x": [
          40,
          40
         ],
         "y": [
          -6,
          -3
         ],
         "z": [
          2,
          2
         ]
        },
        {
         "hoverinfo": "skip",
         "line": {
          "color": "black",
          "width": 4
         },
         "mode": "lines",
         "showlegend": false,
         "type": "scatter3d",
         "x": [
          40,
          40
         ],
         "y": [
          -6,
          -3
         ],
         "z": [
          4,
          4
         ]
        },
        {
         "hoverinfo": "skip",
         "line": {
          "color": "black",
          "width": 4
         },
         "mode": "lines",
         "showlegend": false,
         "type": "scatter3d",
         "x": [
          40,
          40
         ],
         "y": [
          -3,
          -3
         ],
         "z": [
          -4,
          -2
         ]
        },
        {
         "hoverinfo": "skip",
         "line": {
          "color": "black",
          "width": 4
         },
         "mode": "lines",
         "showlegend": false,
         "type": "scatter3d",
         "x": [
          40,
          40
         ],
         "y": [
          -3,
          0
         ],
         "z": [
          -4,
          -4
         ]
        },
        {
         "hoverinfo": "skip",
         "line": {
          "color": "black",
          "width": 4
         },
         "mode": "lines",
         "showlegend": false,
         "type": "scatter3d",
         "x": [
          40,
          40
         ],
         "y": [
          -3,
          -3
         ],
         "z": [
          -2,
          0
         ]
        },
        {
         "hoverinfo": "skip",
         "line": {
          "color": "black",
          "width": 4
         },
         "mode": "lines",
         "showlegend": false,
         "type": "scatter3d",
         "x": [
          40,
          40
         ],
         "y": [
          -3,
          0
         ],
         "z": [
          -2,
          -2
         ]
        },
        {
         "hoverinfo": "skip",
         "line": {
          "color": "black",
          "width": 4
         },
         "mode": "lines",
         "showlegend": false,
         "type": "scatter3d",
         "x": [
          40,
          40
         ],
         "y": [
          -3,
          -3
         ],
         "z": [
          0,
          2
         ]
        },
        {
         "hoverinfo": "skip",
         "line": {
          "color": "black",
          "width": 4
         },
         "mode": "lines",
         "showlegend": false,
         "type": "scatter3d",
         "x": [
          40,
          40
         ],
         "y": [
          -3,
          0
         ],
         "z": [
          0,
          0
         ]
        },
        {
         "hoverinfo": "skip",
         "line": {
          "color": "black",
          "width": 4
         },
         "mode": "lines",
         "showlegend": false,
         "type": "scatter3d",
         "x": [
          40,
          40
         ],
         "y": [
          -3,
          -3
         ],
         "z": [
          2,
          4
         ]
        },
        {
         "hoverinfo": "skip",
         "line": {
          "color": "black",
          "width": 4
         },
         "mode": "lines",
         "showlegend": false,
         "type": "scatter3d",
         "x": [
          40,
          40
         ],
         "y": [
          -3,
          0
         ],
         "z": [
          2,
          2
         ]
        },
        {
         "hoverinfo": "skip",
         "line": {
          "color": "black",
          "width": 4
         },
         "mode": "lines",
         "showlegend": false,
         "type": "scatter3d",
         "x": [
          40,
          40
         ],
         "y": [
          -3,
          0
         ],
         "z": [
          4,
          4
         ]
        },
        {
         "hoverinfo": "skip",
         "line": {
          "color": "black",
          "width": 4
         },
         "mode": "lines",
         "showlegend": false,
         "type": "scatter3d",
         "x": [
          40,
          40
         ],
         "y": [
          0,
          0
         ],
         "z": [
          -4,
          -2
         ]
        },
        {
         "hoverinfo": "skip",
         "line": {
          "color": "black",
          "width": 4
         },
         "mode": "lines",
         "showlegend": false,
         "type": "scatter3d",
         "x": [
          40,
          40
         ],
         "y": [
          0,
          3
         ],
         "z": [
          -4,
          -4
         ]
        },
        {
         "hoverinfo": "skip",
         "line": {
          "color": "black",
          "width": 4
         },
         "mode": "lines",
         "showlegend": false,
         "type": "scatter3d",
         "x": [
          40,
          40
         ],
         "y": [
          0,
          0
         ],
         "z": [
          -2,
          0
         ]
        },
        {
         "hoverinfo": "skip",
         "line": {
          "color": "black",
          "width": 4
         },
         "mode": "lines",
         "showlegend": false,
         "type": "scatter3d",
         "x": [
          40,
          40
         ],
         "y": [
          0,
          3
         ],
         "z": [
          -2,
          -2
         ]
        },
        {
         "hoverinfo": "skip",
         "line": {
          "color": "black",
          "width": 4
         },
         "mode": "lines",
         "showlegend": false,
         "type": "scatter3d",
         "x": [
          40,
          40
         ],
         "y": [
          0,
          0
         ],
         "z": [
          0,
          2
         ]
        },
        {
         "hoverinfo": "skip",
         "line": {
          "color": "black",
          "width": 4
         },
         "mode": "lines",
         "showlegend": false,
         "type": "scatter3d",
         "x": [
          40,
          40
         ],
         "y": [
          0,
          3
         ],
         "z": [
          0,
          0
         ]
        },
        {
         "hoverinfo": "skip",
         "line": {
          "color": "black",
          "width": 4
         },
         "mode": "lines",
         "showlegend": false,
         "type": "scatter3d",
         "x": [
          40,
          40
         ],
         "y": [
          0,
          0
         ],
         "z": [
          2,
          4
         ]
        },
        {
         "hoverinfo": "skip",
         "line": {
          "color": "black",
          "width": 4
         },
         "mode": "lines",
         "showlegend": false,
         "type": "scatter3d",
         "x": [
          40,
          40
         ],
         "y": [
          0,
          3
         ],
         "z": [
          2,
          2
         ]
        },
        {
         "hoverinfo": "skip",
         "line": {
          "color": "black",
          "width": 4
         },
         "mode": "lines",
         "showlegend": false,
         "type": "scatter3d",
         "x": [
          40,
          40
         ],
         "y": [
          0,
          3
         ],
         "z": [
          4,
          4
         ]
        },
        {
         "hoverinfo": "skip",
         "line": {
          "color": "black",
          "width": 4
         },
         "mode": "lines",
         "showlegend": false,
         "type": "scatter3d",
         "x": [
          40,
          40
         ],
         "y": [
          3,
          3
         ],
         "z": [
          -4,
          -2
         ]
        },
        {
         "hoverinfo": "skip",
         "line": {
          "color": "black",
          "width": 4
         },
         "mode": "lines",
         "showlegend": false,
         "type": "scatter3d",
         "x": [
          40,
          40
         ],
         "y": [
          3,
          6
         ],
         "z": [
          -4,
          -4
         ]
        },
        {
         "hoverinfo": "skip",
         "line": {
          "color": "black",
          "width": 4
         },
         "mode": "lines",
         "showlegend": false,
         "type": "scatter3d",
         "x": [
          40,
          40
         ],
         "y": [
          3,
          3
         ],
         "z": [
          -2,
          0
         ]
        },
        {
         "hoverinfo": "skip",
         "line": {
          "color": "black",
          "width": 4
         },
         "mode": "lines",
         "showlegend": false,
         "type": "scatter3d",
         "x": [
          40,
          40
         ],
         "y": [
          3,
          6
         ],
         "z": [
          -2,
          -2
         ]
        },
        {
         "hoverinfo": "skip",
         "line": {
          "color": "black",
          "width": 4
         },
         "mode": "lines",
         "showlegend": false,
         "type": "scatter3d",
         "x": [
          40,
          40
         ],
         "y": [
          3,
          3
         ],
         "z": [
          0,
          2
         ]
        },
        {
         "hoverinfo": "skip",
         "line": {
          "color": "black",
          "width": 4
         },
         "mode": "lines",
         "showlegend": false,
         "type": "scatter3d",
         "x": [
          40,
          40
         ],
         "y": [
          3,
          6
         ],
         "z": [
          0,
          0
         ]
        },
        {
         "hoverinfo": "skip",
         "line": {
          "color": "black",
          "width": 4
         },
         "mode": "lines",
         "showlegend": false,
         "type": "scatter3d",
         "x": [
          40,
          40
         ],
         "y": [
          3,
          3
         ],
         "z": [
          2,
          4
         ]
        },
        {
         "hoverinfo": "skip",
         "line": {
          "color": "black",
          "width": 4
         },
         "mode": "lines",
         "showlegend": false,
         "type": "scatter3d",
         "x": [
          40,
          40
         ],
         "y": [
          3,
          6
         ],
         "z": [
          2,
          2
         ]
        },
        {
         "hoverinfo": "skip",
         "line": {
          "color": "black",
          "width": 4
         },
         "mode": "lines",
         "showlegend": false,
         "type": "scatter3d",
         "x": [
          40,
          40
         ],
         "y": [
          3,
          3.025000000372529
         ],
         "z": [
          4,
          4
         ]
        },
        {
         "hoverinfo": "skip",
         "line": {
          "color": "black",
          "width": 4
         },
         "mode": "lines",
         "showlegend": false,
         "type": "scatter3d",
         "x": [
          40,
          40
         ],
         "y": [
          3.025000000372529,
          3.050000000745058
         ],
         "z": [
          4,
          4
         ]
        },
        {
         "hoverinfo": "skip",
         "line": {
          "color": "black",
          "width": 4
         },
         "mode": "lines",
         "showlegend": false,
         "type": "scatter3d",
         "x": [
          40,
          40
         ],
         "y": [
          3.050000000745058,
          3.533333333830039
         ],
         "z": [
          4,
          4
         ]
        },
        {
         "hoverinfo": "skip",
         "line": {
          "color": "black",
          "width": 4
         },
         "mode": "lines",
         "showlegend": false,
         "type": "scatter3d",
         "x": [
          40,
          40
         ],
         "y": [
          3.533333333830039,
          4.01666666691502
         ],
         "z": [
          4,
          4
         ]
        },
        {
         "hoverinfo": "skip",
         "line": {
          "color": "black",
          "width": 4
         },
         "mode": "lines",
         "showlegend": false,
         "type": "scatter3d",
         "x": [
          40,
          40
         ],
         "y": [
          4.01666666691502,
          4.5
         ],
         "z": [
          4,
          4
         ]
        },
        {
         "hoverinfo": "skip",
         "line": {
          "color": "black",
          "width": 4
         },
         "mode": "lines",
         "showlegend": false,
         "type": "scatter3d",
         "x": [
          40,
          40
         ],
         "y": [
          4.5,
          4.983333333084981
         ],
         "z": [
          4,
          4
         ]
        },
        {
         "hoverinfo": "skip",
         "line": {
          "color": "black",
          "width": 4
         },
         "mode": "lines",
         "showlegend": false,
         "type": "scatter3d",
         "x": [
          40,
          40
         ],
         "y": [
          4.983333333084981,
          5.466666666169962
         ],
         "z": [
          4,
          4
         ]
        },
        {
         "hoverinfo": "skip",
         "line": {
          "color": "black",
          "width": 4
         },
         "mode": "lines",
         "showlegend": false,
         "type": "scatter3d",
         "x": [
          40,
          40
         ],
         "y": [
          5.466666666169962,
          5.949999999254942
         ],
         "z": [
          4,
          4
         ]
        },
        {
         "hoverinfo": "skip",
         "line": {
          "color": "black",
          "width": 4
         },
         "mode": "lines",
         "showlegend": false,
         "type": "scatter3d",
         "x": [
          40,
          40
         ],
         "y": [
          5.949999999254942,
          5.974999999627471
         ],
         "z": [
          4,
          4
         ]
        },
        {
         "hoverinfo": "skip",
         "line": {
          "color": "black",
          "width": 4
         },
         "mode": "lines",
         "showlegend": false,
         "type": "scatter3d",
         "x": [
          40,
          40
         ],
         "y": [
          5.974999999627471,
          6
         ],
         "z": [
          4,
          4
         ]
        },
        {
         "hoverinfo": "skip",
         "line": {
          "color": "black",
          "width": 4
         },
         "mode": "lines",
         "showlegend": false,
         "type": "scatter3d",
         "x": [
          40,
          40
         ],
         "y": [
          6,
          6
         ],
         "z": [
          -4,
          -2
         ]
        },
        {
         "hoverinfo": "skip",
         "line": {
          "color": "black",
          "width": 4
         },
         "mode": "lines",
         "showlegend": false,
         "type": "scatter3d",
         "x": [
          40,
          40
         ],
         "y": [
          6,
          6
         ],
         "z": [
          -2,
          0
         ]
        },
        {
         "hoverinfo": "skip",
         "line": {
          "color": "black",
          "width": 4
         },
         "mode": "lines",
         "showlegend": false,
         "type": "scatter3d",
         "x": [
          40,
          40
         ],
         "y": [
          6,
          6
         ],
         "z": [
          0,
          2
         ]
        },
        {
         "hoverinfo": "skip",
         "line": {
          "color": "black",
          "width": 4
         },
         "mode": "lines",
         "showlegend": false,
         "type": "scatter3d",
         "x": [
          40,
          40
         ],
         "y": [
          6,
          6
         ],
         "z": [
          2,
          4
         ]
        }
       ],
       "layout": {
        "autosize": true,
        "legend": {
         "itemsizing": "constant",
         "tracegroupgap": 0
        },
        "margin": {
         "b": 1,
         "l": 1,
         "pad": 0,
         "r": 1,
         "t": 1
        },
        "scene": {
         "aspectmode": "data",
         "domain": {
          "x": [
           0,
           1
          ],
          "y": [
           0,
           1
          ]
         },
         "xaxis": {
          "title": {
           "text": "x"
          }
         },
         "yaxis": {
          "title": {
           "text": "y"
          }
         },
         "zaxis": {
          "title": {
           "text": "z"
          }
         }
        },
        "template": {
         "data": {
          "bar": [
           {
            "error_x": {
             "color": "#2a3f5f"
            },
            "error_y": {
             "color": "#2a3f5f"
            },
            "marker": {
             "line": {
              "color": "#E5ECF6",
              "width": 0.5
             },
             "pattern": {
              "fillmode": "overlay",
              "size": 10,
              "solidity": 0.2
             }
            },
            "type": "bar"
           }
          ],
          "barpolar": [
           {
            "marker": {
             "line": {
              "color": "#E5ECF6",
              "width": 0.5
             },
             "pattern": {
              "fillmode": "overlay",
              "size": 10,
              "solidity": 0.2
             }
            },
            "type": "barpolar"
           }
          ],
          "carpet": [
           {
            "aaxis": {
             "endlinecolor": "#2a3f5f",
             "gridcolor": "white",
             "linecolor": "white",
             "minorgridcolor": "white",
             "startlinecolor": "#2a3f5f"
            },
            "baxis": {
             "endlinecolor": "#2a3f5f",
             "gridcolor": "white",
             "linecolor": "white",
             "minorgridcolor": "white",
             "startlinecolor": "#2a3f5f"
            },
            "type": "carpet"
           }
          ],
          "choropleth": [
           {
            "colorbar": {
             "outlinewidth": 0,
             "ticks": ""
            },
            "type": "choropleth"
           }
          ],
          "contour": [
           {
            "colorbar": {
             "outlinewidth": 0,
             "ticks": ""
            },
            "colorscale": [
             [
              0,
              "#0d0887"
             ],
             [
              0.1111111111111111,
              "#46039f"
             ],
             [
              0.2222222222222222,
              "#7201a8"
             ],
             [
              0.3333333333333333,
              "#9c179e"
             ],
             [
              0.4444444444444444,
              "#bd3786"
             ],
             [
              0.5555555555555556,
              "#d8576b"
             ],
             [
              0.6666666666666666,
              "#ed7953"
             ],
             [
              0.7777777777777778,
              "#fb9f3a"
             ],
             [
              0.8888888888888888,
              "#fdca26"
             ],
             [
              1,
              "#f0f921"
             ]
            ],
            "type": "contour"
           }
          ],
          "contourcarpet": [
           {
            "colorbar": {
             "outlinewidth": 0,
             "ticks": ""
            },
            "type": "contourcarpet"
           }
          ],
          "heatmap": [
           {
            "colorbar": {
             "outlinewidth": 0,
             "ticks": ""
            },
            "colorscale": [
             [
              0,
              "#0d0887"
             ],
             [
              0.1111111111111111,
              "#46039f"
             ],
             [
              0.2222222222222222,
              "#7201a8"
             ],
             [
              0.3333333333333333,
              "#9c179e"
             ],
             [
              0.4444444444444444,
              "#bd3786"
             ],
             [
              0.5555555555555556,
              "#d8576b"
             ],
             [
              0.6666666666666666,
              "#ed7953"
             ],
             [
              0.7777777777777778,
              "#fb9f3a"
             ],
             [
              0.8888888888888888,
              "#fdca26"
             ],
             [
              1,
              "#f0f921"
             ]
            ],
            "type": "heatmap"
           }
          ],
          "heatmapgl": [
           {
            "colorbar": {
             "outlinewidth": 0,
             "ticks": ""
            },
            "colorscale": [
             [
              0,
              "#0d0887"
             ],
             [
              0.1111111111111111,
              "#46039f"
             ],
             [
              0.2222222222222222,
              "#7201a8"
             ],
             [
              0.3333333333333333,
              "#9c179e"
             ],
             [
              0.4444444444444444,
              "#bd3786"
             ],
             [
              0.5555555555555556,
              "#d8576b"
             ],
             [
              0.6666666666666666,
              "#ed7953"
             ],
             [
              0.7777777777777778,
              "#fb9f3a"
             ],
             [
              0.8888888888888888,
              "#fdca26"
             ],
             [
              1,
              "#f0f921"
             ]
            ],
            "type": "heatmapgl"
           }
          ],
          "histogram": [
           {
            "marker": {
             "pattern": {
              "fillmode": "overlay",
              "size": 10,
              "solidity": 0.2
             }
            },
            "type": "histogram"
           }
          ],
          "histogram2d": [
           {
            "colorbar": {
             "outlinewidth": 0,
             "ticks": ""
            },
            "colorscale": [
             [
              0,
              "#0d0887"
             ],
             [
              0.1111111111111111,
              "#46039f"
             ],
             [
              0.2222222222222222,
              "#7201a8"
             ],
             [
              0.3333333333333333,
              "#9c179e"
             ],
             [
              0.4444444444444444,
              "#bd3786"
             ],
             [
              0.5555555555555556,
              "#d8576b"
             ],
             [
              0.6666666666666666,
              "#ed7953"
             ],
             [
              0.7777777777777778,
              "#fb9f3a"
             ],
             [
              0.8888888888888888,
              "#fdca26"
             ],
             [
              1,
              "#f0f921"
             ]
            ],
            "type": "histogram2d"
           }
          ],
          "histogram2dcontour": [
           {
            "colorbar": {
             "outlinewidth": 0,
             "ticks": ""
            },
            "colorscale": [
             [
              0,
              "#0d0887"
             ],
             [
              0.1111111111111111,
              "#46039f"
             ],
             [
              0.2222222222222222,
              "#7201a8"
             ],
             [
              0.3333333333333333,
              "#9c179e"
             ],
             [
              0.4444444444444444,
              "#bd3786"
             ],
             [
              0.5555555555555556,
              "#d8576b"
             ],
             [
              0.6666666666666666,
              "#ed7953"
             ],
             [
              0.7777777777777778,
              "#fb9f3a"
             ],
             [
              0.8888888888888888,
              "#fdca26"
             ],
             [
              1,
              "#f0f921"
             ]
            ],
            "type": "histogram2dcontour"
           }
          ],
          "mesh3d": [
           {
            "colorbar": {
             "outlinewidth": 0,
             "ticks": ""
            },
            "type": "mesh3d"
           }
          ],
          "parcoords": [
           {
            "line": {
             "colorbar": {
              "outlinewidth": 0,
              "ticks": ""
             }
            },
            "type": "parcoords"
           }
          ],
          "pie": [
           {
            "automargin": true,
            "type": "pie"
           }
          ],
          "scatter": [
           {
            "fillpattern": {
             "fillmode": "overlay",
             "size": 10,
             "solidity": 0.2
            },
            "type": "scatter"
           }
          ],
          "scatter3d": [
           {
            "line": {
             "colorbar": {
              "outlinewidth": 0,
              "ticks": ""
             }
            },
            "marker": {
             "colorbar": {
              "outlinewidth": 0,
              "ticks": ""
             }
            },
            "type": "scatter3d"
           }
          ],
          "scattercarpet": [
           {
            "marker": {
             "colorbar": {
              "outlinewidth": 0,
              "ticks": ""
             }
            },
            "type": "scattercarpet"
           }
          ],
          "scattergeo": [
           {
            "marker": {
             "colorbar": {
              "outlinewidth": 0,
              "ticks": ""
             }
            },
            "type": "scattergeo"
           }
          ],
          "scattergl": [
           {
            "marker": {
             "colorbar": {
              "outlinewidth": 0,
              "ticks": ""
             }
            },
            "type": "scattergl"
           }
          ],
          "scattermapbox": [
           {
            "marker": {
             "colorbar": {
              "outlinewidth": 0,
              "ticks": ""
             }
            },
            "type": "scattermapbox"
           }
          ],
          "scatterpolar": [
           {
            "marker": {
             "colorbar": {
              "outlinewidth": 0,
              "ticks": ""
             }
            },
            "type": "scatterpolar"
           }
          ],
          "scatterpolargl": [
           {
            "marker": {
             "colorbar": {
              "outlinewidth": 0,
              "ticks": ""
             }
            },
            "type": "scatterpolargl"
           }
          ],
          "scatterternary": [
           {
            "marker": {
             "colorbar": {
              "outlinewidth": 0,
              "ticks": ""
             }
            },
            "type": "scatterternary"
           }
          ],
          "surface": [
           {
            "colorbar": {
             "outlinewidth": 0,
             "ticks": ""
            },
            "colorscale": [
             [
              0,
              "#0d0887"
             ],
             [
              0.1111111111111111,
              "#46039f"
             ],
             [
              0.2222222222222222,
              "#7201a8"
             ],
             [
              0.3333333333333333,
              "#9c179e"
             ],
             [
              0.4444444444444444,
              "#bd3786"
             ],
             [
              0.5555555555555556,
              "#d8576b"
             ],
             [
              0.6666666666666666,
              "#ed7953"
             ],
             [
              0.7777777777777778,
              "#fb9f3a"
             ],
             [
              0.8888888888888888,
              "#fdca26"
             ],
             [
              1,
              "#f0f921"
             ]
            ],
            "type": "surface"
           }
          ],
          "table": [
           {
            "cells": {
             "fill": {
              "color": "#EBF0F8"
             },
             "line": {
              "color": "white"
             }
            },
            "header": {
             "fill": {
              "color": "#C8D4E3"
             },
             "line": {
              "color": "white"
             }
            },
            "type": "table"
           }
          ]
         },
         "layout": {
          "annotationdefaults": {
           "arrowcolor": "#2a3f5f",
           "arrowhead": 0,
           "arrowwidth": 1
          },
          "autotypenumbers": "strict",
          "coloraxis": {
           "colorbar": {
            "outlinewidth": 0,
            "ticks": ""
           }
          },
          "colorscale": {
           "diverging": [
            [
             0,
             "#8e0152"
            ],
            [
             0.1,
             "#c51b7d"
            ],
            [
             0.2,
             "#de77ae"
            ],
            [
             0.3,
             "#f1b6da"
            ],
            [
             0.4,
             "#fde0ef"
            ],
            [
             0.5,
             "#f7f7f7"
            ],
            [
             0.6,
             "#e6f5d0"
            ],
            [
             0.7,
             "#b8e186"
            ],
            [
             0.8,
             "#7fbc41"
            ],
            [
             0.9,
             "#4d9221"
            ],
            [
             1,
             "#276419"
            ]
           ],
           "sequential": [
            [
             0,
             "#0d0887"
            ],
            [
             0.1111111111111111,
             "#46039f"
            ],
            [
             0.2222222222222222,
             "#7201a8"
            ],
            [
             0.3333333333333333,
             "#9c179e"
            ],
            [
             0.4444444444444444,
             "#bd3786"
            ],
            [
             0.5555555555555556,
             "#d8576b"
            ],
            [
             0.6666666666666666,
             "#ed7953"
            ],
            [
             0.7777777777777778,
             "#fb9f3a"
            ],
            [
             0.8888888888888888,
             "#fdca26"
            ],
            [
             1,
             "#f0f921"
            ]
           ],
           "sequentialminus": [
            [
             0,
             "#0d0887"
            ],
            [
             0.1111111111111111,
             "#46039f"
            ],
            [
             0.2222222222222222,
             "#7201a8"
            ],
            [
             0.3333333333333333,
             "#9c179e"
            ],
            [
             0.4444444444444444,
             "#bd3786"
            ],
            [
             0.5555555555555556,
             "#d8576b"
            ],
            [
             0.6666666666666666,
             "#ed7953"
            ],
            [
             0.7777777777777778,
             "#fb9f3a"
            ],
            [
             0.8888888888888888,
             "#fdca26"
            ],
            [
             1,
             "#f0f921"
            ]
           ]
          },
          "colorway": [
           "#636efa",
           "#EF553B",
           "#00cc96",
           "#ab63fa",
           "#FFA15A",
           "#19d3f3",
           "#FF6692",
           "#B6E880",
           "#FF97FF",
           "#FECB52"
          ],
          "font": {
           "color": "#2a3f5f"
          },
          "geo": {
           "bgcolor": "white",
           "lakecolor": "white",
           "landcolor": "#E5ECF6",
           "showlakes": true,
           "showland": true,
           "subunitcolor": "white"
          },
          "hoverlabel": {
           "align": "left"
          },
          "hovermode": "closest",
          "mapbox": {
           "style": "light"
          },
          "paper_bgcolor": "white",
          "plot_bgcolor": "#E5ECF6",
          "polar": {
           "angularaxis": {
            "gridcolor": "white",
            "linecolor": "white",
            "ticks": ""
           },
           "bgcolor": "#E5ECF6",
           "radialaxis": {
            "gridcolor": "white",
            "linecolor": "white",
            "ticks": ""
           }
          },
          "scene": {
           "xaxis": {
            "backgroundcolor": "#E5ECF6",
            "gridcolor": "white",
            "gridwidth": 2,
            "linecolor": "white",
            "showbackground": true,
            "ticks": "",
            "zerolinecolor": "white"
           },
           "yaxis": {
            "backgroundcolor": "#E5ECF6",
            "gridcolor": "white",
            "gridwidth": 2,
            "linecolor": "white",
            "showbackground": true,
            "ticks": "",
            "zerolinecolor": "white"
           },
           "zaxis": {
            "backgroundcolor": "#E5ECF6",
            "gridcolor": "white",
            "gridwidth": 2,
            "linecolor": "white",
            "showbackground": true,
            "ticks": "",
            "zerolinecolor": "white"
           }
          },
          "shapedefaults": {
           "line": {
            "color": "#2a3f5f"
           }
          },
          "ternary": {
           "aaxis": {
            "gridcolor": "white",
            "linecolor": "white",
            "ticks": ""
           },
           "baxis": {
            "gridcolor": "white",
            "linecolor": "white",
            "ticks": ""
           },
           "bgcolor": "#E5ECF6",
           "caxis": {
            "gridcolor": "white",
            "linecolor": "white",
            "ticks": ""
           }
          },
          "title": {
           "x": 0.05
          },
          "xaxis": {
           "automargin": true,
           "gridcolor": "white",
           "linecolor": "white",
           "ticks": "",
           "title": {
            "standoff": 15
           },
           "zerolinecolor": "white",
           "zerolinewidth": 2
          },
          "yaxis": {
           "automargin": true,
           "gridcolor": "white",
           "linecolor": "white",
           "ticks": "",
           "title": {
            "standoff": 15
           },
           "zerolinecolor": "white",
           "zerolinewidth": 2
          }
         }
        }
       }
      }
     },
     "metadata": {},
     "output_type": "display_data"
    }
   ],
   "source": [
    "from dewloosh.plotly import plot_lines_3d\n",
    "coords = axm.coordinates()\n",
    "topo = axm.Members.topology() - 1\n",
    "plot_lines_3d(coords, topo)\n"
   ]
  },
  {
   "cell_type": "markdown",
   "metadata": {},
   "source": [
    "### Plotly with JupyterDash"
   ]
  },
  {
   "cell_type": "markdown",
   "metadata": {},
   "source": [
    "This requires ``jupyter-dash`` to be installed!"
   ]
  },
  {
   "cell_type": "code",
   "execution_count": null,
   "metadata": {},
   "outputs": [],
   "source": [
    "import plotly.express as px\n",
    "from jupyter_dash import JupyterDash\n",
    "from dash import dcc, html\n",
    "from dash.dependencies import Input, Output\n",
    "\n",
    "# Build App\n",
    "app = JupyterDash(__name__)\n",
    "app.layout = html.Div([\n",
    "    html.H1(\"Plotly | JupyterDash\"),\n",
    "    dcc.Graph(id='graph'),\n",
    "    html.Label([\n",
    "        \"colorscale\",\n",
    "        dcc.Dropdown(\n",
    "            id='colorscale-dropdown', clearable=False,\n",
    "            value='plasma', options=[\n",
    "                {'label': c, 'value': c}\n",
    "                for c in px.colors.named_colorscales()\n",
    "            ])\n",
    "    ]),\n",
    "])\n",
    "\n",
    "# Define callback to update graph\n",
    "@app.callback(\n",
    "    Output('graph', 'figure'),\n",
    "    [Input(\"colorscale-dropdown\", \"value\")]\n",
    ")\n",
    "def update_figure(colorscale):\n",
    "    return plot_lines_3d(coords, topo)\n",
    "\n",
    "\n",
    "# Run app and display result inline in the notebook\n",
    "app.run_server(mode='inline')\n"
   ]
  },
  {
   "cell_type": "markdown",
   "metadata": {},
   "source": [
    "### Plotly with JupyterDash and VTK"
   ]
  },
  {
   "cell_type": "code",
   "execution_count": null,
   "metadata": {},
   "outputs": [],
   "source": [
    "from sigmaepsilon import Structure, LineMesh, PointData, FemMesh\n",
    "from sigmaepsilon.math.linalg import linspace, Vector\n",
    "from sigmaepsilon.mesh.space import StandardFrame, PointCloud, frames_of_lines\n",
    "from sigmaepsilon.fem.cells import B2 as Beam, Q4M\n",
    "from dewloosh.mesh.cells import Q4\n",
    "from dewloosh.math.array import repeat\n",
    "\n",
    "import numpy as np\n",
    "from numpy import pi as PI\n",
    "\n",
    "coords = axm.coords()\n",
    "topo = axm.topology()\n",
    "widths = topo.widths()\n",
    "iL2 = np.where(widths==2)[0]\n",
    "iT6 = np.where(widths==6)[0]\n",
    "iQ8 = np.where(widths==8)[0]\n",
    "\n",
    "GlobalFrame = StandardFrame(dim=3)\n",
    "\n",
    "# pointdata\n",
    "pd = PointData(coords=coords, frame=GlobalFrame)\n",
    "mesh = FemMesh(pd, frame=GlobalFrame)\n",
    "\n",
    "# celldata\n",
    "if len(iL2) > 0:\n",
    "    topoL2 = topo[iL2].to_numpy() - 1\n",
    "    frames = frames_of_lines(coords, topoL2)\n",
    "    mesh['lines'] = LineMesh(Beam(topo=topoL2, frames=frames))\n",
    "if len(iQ8) > 0:\n",
    "    topoQ4 = topo[iQ8].to_numpy()[:, :4] - 1\n",
    "    frames = repeat(GlobalFrame.show(), len(topoQ4))\n",
    "    mesh['surfaces'] = FemMesh(Q4M(topo=topoQ4, frames=frames))\n"
   ]
  },
  {
   "cell_type": "markdown",
   "metadata": {},
   "source": [
    "This requires ``dash-vtk`` to be installed!"
   ]
  },
  {
   "cell_type": "code",
   "execution_count": null,
   "metadata": {},
   "outputs": [],
   "source": [
    "from jupyter_dash import JupyterDash\n",
    "from dash import html\n",
    "\n",
    "import dash_vtk\n",
    "from dash_vtk.utils import to_mesh_state\n",
    "\n",
    "# Use VTK to get some data\n",
    "datasets = mesh.to_vtk(fuse=False)\n",
    "#mesh_state = to_mesh_state(ugrid)\n",
    "vtk_content = dash_vtk.View([\n",
    "    dash_vtk.GeometryRepresentation(\n",
    "        children=[\n",
    "            dash_vtk.Mesh(state=to_mesh_state(datasets[0])),\n",
    "            dash_vtk.Mesh(state=to_mesh_state(datasets[1]))\n",
    "            ],\n",
    "        property={\n",
    "            \"lineWidth \": 10,\n",
    "            \"representation\": 1,\n",
    "            \"edgeColor\": (0, 0, 0),\n",
    "            \"color\" : (1, 1, 1),\n",
    "            \"edgeVisibility \" : True\n",
    "        },\n",
    "    ),\n",
    "],\n",
    "    background=[1, 1, 1])\n",
    "\n",
    "# Build App\n",
    "app = JupyterDash(__name__)\n",
    "app.layout = html.Div(\n",
    "    style={\"width\": \"100%\", \"height\": \"400px\"},\n",
    "    children=[\n",
    "        html.H1(\"Plotly | JupyterDash | VTK\"),\n",
    "        vtk_content\n",
    "    ],\n",
    ")\n",
    "\n",
    "# Run app and display result inline in the notebook\n",
    "app.run_server(mode='inline')\n"
   ]
  }
 ],
 "metadata": {
  "kernelspec": {
   "display_name": "Python 3.8.10 ('.axisvm': venv)",
   "language": "python",
   "name": "python3"
  },
  "language_info": {
   "codemirror_mode": {
    "name": "ipython",
    "version": 3
   },
   "file_extension": ".py",
   "mimetype": "text/x-python",
   "name": "python",
   "nbconvert_exporter": "python",
   "pygments_lexer": "ipython3",
   "version": "3.8.10"
  },
  "orig_nbformat": 4,
  "vscode": {
   "interpreter": {
    "hash": "75f801d42fddfbedd62bf9fb9562c0e8fb7997dfe614b782ff1e1c11b6f734f0"
   }
  }
 },
 "nbformat": 4,
 "nbformat_minor": 2
}
