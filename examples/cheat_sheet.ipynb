{
 "cells": [
  {
   "cell_type": "markdown",
   "metadata": {},
   "source": [
    "# **PyAxisVM Cheat Sheet**"
   ]
  },
  {
   "cell_type": "code",
   "execution_count": 1,
   "metadata": {},
   "outputs": [],
   "source": [
    "from axisvm.com.client import start_AxisVM\n",
    "axvm = start_AxisVM(visible=True, daemon=True)"
   ]
  },
  {
   "cell_type": "code",
   "execution_count": 2,
   "metadata": {},
   "outputs": [],
   "source": [
    "import axisvm.com.tlb as axtlb\n",
    "from axisvm import examples\n",
    "import numpy as np"
   ]
  },
  {
   "cell_type": "markdown",
   "metadata": {},
   "source": [
    "## Model"
   ]
  },
  {
   "cell_type": "code",
   "execution_count": 3,
   "metadata": {},
   "outputs": [],
   "source": [
    "axvm.model = examples.download_sample_001()\n",
    "axm = axvm.Models[1]"
   ]
  },
  {
   "cell_type": "code",
   "execution_count": 4,
   "metadata": {},
   "outputs": [],
   "source": [
    "_ = axm.points().show()\n",
    "_ = axm.coords()\n",
    "_ = axm.topology()\n",
    "_ = axm.parent.app.Catalog"
   ]
  },
  {
   "cell_type": "markdown",
   "metadata": {},
   "source": [
    "## Lines"
   ]
  },
  {
   "cell_type": "code",
   "execution_count": 5,
   "metadata": {},
   "outputs": [],
   "source": [
    "_ = axm.Lines.topology()\n",
    "_ = axm.Lines.topology(1)\n",
    "_ = axm.Lines.topology([1, 2])\n",
    "_ = axm.Lines.topology((1, 2))\n",
    "_ = axm.Lines[1].topology()\n",
    "_ = axm.Lines.get_line_data()\n",
    "_ = axm.Lines.get_line_attributes()\n",
    "_ = axm.Lines.get_line_data(1)\n",
    "_ = axm.Lines.get_line_data(np.array([1, 2])).to_pandas()\n",
    "_ = axm.Lines.get_line_data([1, 2]).to_awkward()\n",
    "_ = axm.Lines.get_line_attributes([1, 2]).to_awkward()\n",
    "_ = axm.Lines.get_line_attributes(1, fields = ['LineType', 'MaterialIndex'])\n",
    "_ = axm.Lines.get_line_data([2]).to_pandas()\n",
    "_ = axm.Lines.get_line_attributes([2, 1]).to_awkward()\n",
    "_ = axm.Lines.line_attributes\n",
    "_ = axm.Lines[1].line_attributes\n",
    "_ = axm.Lines.line_data\n",
    "_ = axm.Lines[1].line_data.to_pandas()\n",
    "_ = axm.Lines.attributes\n",
    "_ = axm.Lines[1].attributes.to_awkward()"
   ]
  },
  {
   "cell_type": "markdown",
   "metadata": {},
   "source": [
    "## Members"
   ]
  },
  {
   "cell_type": "code",
   "execution_count": 6,
   "metadata": {},
   "outputs": [],
   "source": [
    "_ = axm.Members.topology()\n",
    "_ = axm.Members.topology(1)\n",
    "_ = axm.Members.topology([1, 2])\n",
    "_ = axm.Members.topology((1, 2))\n",
    "_ = axm.Members[1].topology()\n",
    "_ = axm.Members.get_member_attributes().to_awkward()\n",
    "_ = axm.Members.get_attributes([2]).to_pandas()\n",
    "_ = axm.Members.member_attributes.to_pandas()\n",
    "_ = axm.Members.attributes\n",
    "_ = axm.Members.get_member_attributes([2, 1])\n",
    "_ = axm.Members.get_attributes([2, 1])\n",
    "_ = axm.Members[1].member_attributes.to_awkward()\n",
    "_ = axm.Members[1].attributes\n",
    "_ = axm.Members.records()"
   ]
  },
  {
   "cell_type": "markdown",
   "metadata": {},
   "source": [
    "## Surfaces"
   ]
  },
  {
   "cell_type": "code",
   "execution_count": 7,
   "metadata": {},
   "outputs": [],
   "source": [
    "assert min([s.PointCount for s in axm.Surfaces]) == \\\n",
    "    min([len(s.ContourLines) for s in axm.Surfaces]) == \\\n",
    "    min([sa.N for sa in axm.Surfaces.records()])\n",
    "_ = axm.Surfaces.normals()\n",
    "_ = axm.Surfaces[1].normal()\n",
    "_ = axm.Surfaces.transformation_matrices()\n",
    "_ = axm.Surfaces.transformation_matrices(1)\n",
    "_ = axm.Surfaces.tr\n",
    "_ = axm.Surfaces[1].tr\n",
    "_ = axm.Surfaces[1].transformation_matrix()\n",
    "_ = axm.Surfaces.records(np.array([1, 2]))\n",
    "_ = axm.Surfaces.records([1, 2])\n",
    "_ = axm.Surfaces.records()\n",
    "_ = axm.Surfaces[1].record()\n",
    "_ = axm.Surfaces.get_attributes(np.array([1, 2]))\n",
    "_ = axm.Surfaces.get_attributes(1).to_pandas()\n",
    "_ = axm.Surfaces.get_attributes().to_awkward()\n",
    "_ = axm.Surfaces.get_attributes(1)\n",
    "_ = axm.Surfaces.get_surface_attributes(1).to_awkward()\n",
    "_ = axm.Surfaces.get_surface_attributes(np.array([1, 2]))\n",
    "_ = axm.Surfaces.get_surface_attributes([1, 2])\n",
    "_ = axm.Surfaces.get_surface_attributes([1]).to_pandas()\n",
    "_ = axm.Surfaces.get_surface_attributes(1)\n",
    "_ = axm.Surfaces.get_attributes((1, 2), fields=['N', 'Thickness'])\n",
    "_ = axm.Surfaces.surface_attributes.to_pandas()\n",
    "_ = axm.Surfaces.attributes\n",
    "_ = axm.Surfaces.get_surface_attributes([2, 1])\n",
    "_ = axm.Surfaces.get_attributes([2, 1])\n",
    "_ = axm.Surfaces[1].surface_attributes.to_awkward()\n",
    "_ = axm.Surfaces[2].attributes    "
   ]
  },
  {
   "cell_type": "markdown",
   "metadata": {},
   "source": [
    "## Domains"
   ]
  },
  {
   "cell_type": "code",
   "execution_count": 8,
   "metadata": {},
   "outputs": [],
   "source": [
    "_ = axm.Domains.topology()\n",
    "ABDS = axm.Domains[1].ABDS(compose=True)\n",
    "A, B, D, S = axm.Domains[1].ABDS(compose=False)\n",
    "_ = axm.Domains[1].GetCustomStiffnessMatrix(to_numpy=False)\n",
    "_ = axm.Domains[2].GetCustomStiffnessMatrix(to_numpy=True)\n",
    "_ = axm.Domains.records(np.array([1, 2]))\n",
    "_ = axm.Domains.records([1, 2])\n",
    "_ = axm.Domains.records()\n",
    "_ = axm.Domains[1].record()\n",
    "_ = axm.Domains.get_attributes(np.array([1, 2]))\n",
    "_ = axm.Domains.get_attributes(1).to_pandas()\n",
    "_ = axm.Domains.get_attributes().to_awkward()\n",
    "_ = axm.Domains.get_attributes([2])\n",
    "_ = axm.Domains.get_domain_attributes(1).to_awkward()\n",
    "_ = axm.Domains.get_domain_attributes(np.array([1, 2]))\n",
    "_ = axm.Domains.get_domain_attributes([1, 2])\n",
    "_ = axm.Domains.get_domain_attributes([1]).to_pandas()\n",
    "_ = axm.Domains.get_domain_attributes(1)\n",
    "_ = axm.Domains.get_attributes((1, 2), fields=['N', 'Thickness'])\n",
    "_ = axm.Domains.domain_attributes.to_pandas()\n",
    "_ = axm.Domains.attributes\n",
    "_ = axm.Domains.get_domain_attributes([2, 1])\n",
    "_ = axm.Domains.get_attributes([2, 1])\n",
    "_ = axm.Domains[1].domain_attributes.to_awkward()\n",
    "_ = axm.Domains[1].attributes"
   ]
  },
  {
   "cell_type": "code",
   "execution_count": null,
   "metadata": {},
   "outputs": [],
   "source": []
  }
 ],
 "metadata": {
  "kernelspec": {
   "display_name": "Python 3.8.10 ('.venv': venv)",
   "language": "python",
   "name": "python3"
  },
  "language_info": {
   "codemirror_mode": {
    "name": "ipython",
    "version": 3
   },
   "file_extension": ".py",
   "mimetype": "text/x-python",
   "name": "python",
   "nbconvert_exporter": "python",
   "pygments_lexer": "ipython3",
   "version": "3.8.10"
  },
  "orig_nbformat": 4,
  "vscode": {
   "interpreter": {
    "hash": "81af22673e51a55db93ad07d3dd2d272490ff9da1a60e01b8f0931d11d215c80"
   }
  }
 },
 "nbformat": 4,
 "nbformat_minor": 2
}
