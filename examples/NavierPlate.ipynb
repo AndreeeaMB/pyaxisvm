{
 "cells": [
  {
   "cell_type": "markdown",
   "metadata": {},
   "source": [
    "# **Navier Plate**"
   ]
  },
  {
   "cell_type": "markdown",
   "metadata": {},
   "source": [
    "In this example we model a so called Navier plate, simply supported on all edges, under the effect varius loads. We run run a linear analysis and do some plotting."
   ]
  },
  {
   "cell_type": "markdown",
   "metadata": {},
   "source": [
    "***"
   ]
  },
  {
   "cell_type": "markdown",
   "metadata": {},
   "source": [
    "### **Create a COM interface to a new instance of AxisVM**"
   ]
  },
  {
   "cell_type": "code",
   "execution_count": 20,
   "metadata": {},
   "outputs": [],
   "source": [
    "from axisvm.com.client import start_AxisVM\n",
    "import axisvm.com.tlb as axtlb\n",
    "axvm = start_AxisVM(visible=True, daemon=True)\n"
   ]
  },
  {
   "cell_type": "markdown",
   "metadata": {},
   "source": [
    "Create a new model and set the working directory. An empty string means the directory where AxisVM.exe is located:"
   ]
  },
  {
   "cell_type": "code",
   "execution_count": 21,
   "metadata": {},
   "outputs": [],
   "source": [
    "modelId = axvm.Models.New()\n",
    "axm = axvm.Models.Item[modelId]\n",
    "wdir = \"\"\n"
   ]
  },
  {
   "cell_type": "markdown",
   "metadata": {},
   "source": [
    "### **Material**"
   ]
  },
  {
   "cell_type": "markdown",
   "metadata": {},
   "source": [
    "Set Eurocode as the standard and \"C16/20\" concrete form the material library."
   ]
  },
  {
   "cell_type": "code",
   "execution_count": 22,
   "metadata": {},
   "outputs": [],
   "source": [
    "axm.Settings.NationalDesignCode = axtlb.ndcEuroCode\n",
    "matId = axm.Materials.AddFromCatalog(axtlb.ndcEuroCode, \"C16/20\")\n"
   ]
  },
  {
   "cell_type": "markdown",
   "metadata": {},
   "source": [
    "### **Geometry**"
   ]
  },
  {
   "cell_type": "markdown",
   "metadata": {},
   "source": [
    "The definition of a geometry of a model follows a hierarchical workflow. This means, that we cannot directly define the domains. Instead, we first define the nodes that make up the lines, with which finally we define the domains."
   ]
  },
  {
   "cell_type": "markdown",
   "metadata": {},
   "source": [
    "We create the beam as two touching domains, which makes up for a total of 6 nodes. We also store the indices of the defined nodes as a reference for creating the lines."
   ]
  },
  {
   "cell_type": "code",
   "execution_count": 23,
   "metadata": {},
   "outputs": [],
   "source": [
    "import numpy as np\n",
    "from axisvm.com.tlb import dofPlateXY\n",
    "\n",
    "Lx, Ly = 8., 6.  # side lengths\n",
    "t = 0.2  # thickness\n",
    "\n",
    "# the plate is in the x-y plane\n",
    "# the origo is located at the left bottom corner\n",
    "coords = np.zeros((4, 3))  # we have four points in 3d space\n",
    "coords[0, :] = 0., 0., 0.\n",
    "coords[1, :] = Lx, 0., 0.\n",
    "coords[2, :] = Lx, Ly, 0.\n",
    "coords[3, :] = 0., Ly, 0.\n",
    "\n",
    "fnc = axm.Nodes.AddWithDOF\n",
    "nodeIDs = list(map(lambda c: fnc(*c, dofPlateXY), coords))\n"
   ]
  },
  {
   "cell_type": "markdown",
   "metadata": {},
   "source": [
    "We define the lines that make up the domains and store their indices in a `list`. "
   ]
  },
  {
   "cell_type": "code",
   "execution_count": 24,
   "metadata": {},
   "outputs": [],
   "source": [
    "nodes_of_lines = [[0, 1], [1, 2], [2, 3], [3, 0]]\n",
    "LineGeomType = axtlb.lgtStraightLine\n",
    "lineIDs = []\n",
    "for line in nodes_of_lines:\n",
    "    lineIDs.append(axm.Lines.Add(nodeIDs[line[0]], nodeIDs[line[1]],\n",
    "                   LineGeomType, axtlb.RLineGeomData())[1])\n"
   ]
  },
  {
   "cell_type": "markdown",
   "metadata": {},
   "source": [
    "Now we are in a position to create the domains by providing lineIDs."
   ]
  },
  {
   "cell_type": "code",
   "execution_count": 25,
   "metadata": {},
   "outputs": [],
   "source": [
    "from axisvm.com.tlb import RSurfaceAttr, lnlTensionAndCompression, \\\n",
    "    RResistancesXYZ, schLinear, stPlate, RElasticFoundationXYZ, \\\n",
    "    RNonLinearityXYZ\n",
    "\n",
    "sattr = RSurfaceAttr(\n",
    "    Thickness=t,\n",
    "    SurfaceType=stPlate,\n",
    "    RefZId=0,\n",
    "    RefXId=0,\n",
    "    MaterialId=matId,\n",
    "    ElasticFoundation=RElasticFoundationXYZ(0, 0, 0),\n",
    "    NonLinearity=RNonLinearityXYZ(lnlTensionAndCompression,\n",
    "                                  lnlTensionAndCompression,\n",
    "                                  lnlTensionAndCompression),\n",
    "    Resistance=RResistancesXYZ(0, 0, 0),\n",
    "    Charactersitics=schLinear)\n",
    "\n",
    "_ = axm.Domains.Add(LineIds=lineIDs, SurfaceAttr=sattr)\n"
   ]
  },
  {
   "cell_type": "markdown",
   "metadata": {},
   "source": [
    "### **Loads**"
   ]
  },
  {
   "cell_type": "markdown",
   "metadata": {},
   "source": [
    "**Load Case 1**\n",
    "Constant distributed vertical load on the whole domain"
   ]
  },
  {
   "cell_type": "code",
   "execution_count": 26,
   "metadata": {},
   "outputs": [],
   "source": [
    "lcid1 = 1\n",
    "axm.LoadCases.Name[1] = 'LC1'"
   ]
  },
  {
   "cell_type": "code",
   "execution_count": 27,
   "metadata": {},
   "outputs": [],
   "source": [
    "qz = -1.0  # load intensity\n",
    "\n",
    "LoadDomainConstant = axtlb.RLoadDomainConstant(\n",
    "    LoadCaseId=lcid1,\n",
    "    DomainId=1,\n",
    "    qx=0,\n",
    "    qy=0,\n",
    "    qz=qz,\n",
    "    DistributionType=axtlb.sddtSurface,\n",
    "    SystemGLR=axtlb.sysGlobal\n",
    ")\n",
    "_ = axm.Loads.AddDomainConstant(LoadDomainConstant)\n"
   ]
  },
  {
   "cell_type": "markdown",
   "metadata": {},
   "source": [
    "**Load Case 2**\n",
    "Constant distributed vertical load over a rectangular patch"
   ]
  },
  {
   "cell_type": "code",
   "execution_count": 28,
   "metadata": {},
   "outputs": [],
   "source": [
    "lcid2 = axm.LoadCases.Add('LC2', axtlb.lctStandard)"
   ]
  },
  {
   "cell_type": "code",
   "execution_count": 29,
   "metadata": {},
   "outputs": [],
   "source": [
    "from axisvm.com.tlb import RLoadDomainPolyArea, dtGlobal, \\\n",
    "    ldtConst\n",
    "\n",
    "xc, yc, w, h = 2*Lx/3, Ly/2, Lx/5, Ly/3\n",
    "qz = -2.0  # load intensity\n",
    "\n",
    "# origo is located at the left bottom corner\n",
    "patchlines = axvm.ObjectCreator.NewLines3d()\n",
    "patchline1 = axtlb.RLine3d(\n",
    "    LineType=axtlb.ltStraightLine3d,\n",
    "    P1=axtlb.RPoint3d(xc-w/2, yc-h/2, 0),\n",
    "    P2=axtlb.RPoint3d(xc+w/2, yc-h/2, 0)\n",
    ")\n",
    "patchline2 = axtlb.RLine3d(\n",
    "    LineType=axtlb.ltStraightLine3d,\n",
    "    P1=axtlb.RPoint3d(xc+w/2, yc-h/2, 0),\n",
    "    P2=axtlb.RPoint3d(xc+w/2, yc+h/2, 0)\n",
    ")\n",
    "patchline3 = axtlb.RLine3d(\n",
    "    LineType=axtlb.ltStraightLine3d,\n",
    "    P1=axtlb.RPoint3d(xc+w/2, yc+h/2, 0),\n",
    "    P2=axtlb.RPoint3d(xc-w/2, yc+h/2, 0)\n",
    ")\n",
    "patchline4 = axtlb.RLine3d(\n",
    "    LineType=axtlb.ltStraightLine3d,\n",
    "    P1=axtlb.RPoint3d(xc-w/2, yc+h/2, 0),\n",
    "    P2=axtlb.RPoint3d(xc-w/2, yc-h/2, 0)\n",
    ")\n",
    "patchlines.Add(patchline1)\n",
    "patchlines.Add(patchline2)\n",
    "patchlines.Add(patchline3)\n",
    "patchlines.Add(patchline4)\n",
    "\n",
    "RectPatch = RLoadDomainPolyArea(\n",
    "    LoadCaseId=lcid2,\n",
    "    DistributionType=dtGlobal,\n",
    "    LoadDistributionType=ldtConst,\n",
    "    Component=2,  # z direction\n",
    "    P1=qz,\n",
    "    WindowLoad=True\n",
    ")\n",
    "\n",
    "_ = axm.Loads.AddDomainPolyArea(patchlines, RectPatch)"
   ]
  },
  {
   "cell_type": "markdown",
   "metadata": {},
   "source": [
    "**Load Case 3**\n",
    "Vertical concentrated load"
   ]
  },
  {
   "cell_type": "code",
   "execution_count": 30,
   "metadata": {},
   "outputs": [],
   "source": [
    "lcid3 = axm.LoadCases.Add('LC3', axtlb.lctStandard)"
   ]
  },
  {
   "cell_type": "code",
   "execution_count": 31,
   "metadata": {},
   "outputs": [],
   "source": [
    "from axisvm.com.tlb import RLoadDomainConcentrated\n",
    "\n",
    "Fz = -10\n",
    "xF, yF = Lx/3, 2*Ly/3\n",
    "\n",
    "concload = RLoadDomainConcentrated(\n",
    "    LoadCaseId=lcid3,\n",
    "    DomainId=1,\n",
    "    Fz=Fz,\n",
    "    x=xF, y=yF,\n",
    "    ReferenceId=0  # global\n",
    ")\n",
    "\n",
    "_ = axm.Loads.AddDomainConcentrated(concload)"
   ]
  },
  {
   "cell_type": "markdown",
   "metadata": {},
   "source": [
    "### **Load Combinations**"
   ]
  },
  {
   "cell_type": "code",
   "execution_count": 32,
   "metadata": {},
   "outputs": [],
   "source": [
    "lcomb1 = axm.LoadCombinations.Add('ULS1', axtlb.ctULS1, \n",
    "                                  [1.5, 0, 0.9], [lcid1, lcid2, lcid3])"
   ]
  },
  {
   "cell_type": "markdown",
   "metadata": {},
   "source": [
    "### **Supports**"
   ]
  },
  {
   "cell_type": "markdown",
   "metadata": {},
   "source": [
    "We add two hinged supports at the ends."
   ]
  },
  {
   "cell_type": "code",
   "execution_count": 33,
   "metadata": {},
   "outputs": [],
   "source": [
    "Stiffnesses = axtlb.RStiffnesses(\n",
    "    x=1e12,\n",
    "    y=1e12,\n",
    "    z=1e12,\n",
    "    xx=0,\n",
    "    yy=0,\n",
    "    zz=0\n",
    ")\n",
    "NonLinearity = axtlb.RNonLinearity(\n",
    "    x=axtlb.lnlTensionAndCompression,\n",
    "    y=axtlb.lnlTensionAndCompression,\n",
    "    z=axtlb.lnlTensionAndCompression,\n",
    "    xx=axtlb.lnlTensionAndCompression,\n",
    "    yy=axtlb.lnlTensionAndCompression,\n",
    "    zz=axtlb.lnlTensionAndCompression\n",
    ")\n",
    "Resistances = axtlb.RResistances(\n",
    "    x=0,\n",
    "    y=0,\n",
    "    z=0,\n",
    "    xx=0,\n",
    "    yy=0,\n",
    "    zz=0\n",
    ")\n",
    "_ = axm.LineSupports.AddEdgeRelative(Stiffnesses, NonLinearity,\n",
    "                                     Resistances, 1, 0, 0, 1, 0)\n",
    "_ = axm.LineSupports.AddEdgeRelative(Stiffnesses, NonLinearity,\n",
    "                                     Resistances, 2, 0, 0, 1, 0)\n",
    "_ = axm.LineSupports.AddEdgeRelative(Stiffnesses, NonLinearity,\n",
    "                                     Resistances, 3, 0, 0, 1, 0)\n",
    "_ = axm.LineSupports.AddEdgeRelative(Stiffnesses, NonLinearity,\n",
    "                                     Resistances, 4, 0, 0, 1, 0)\n"
   ]
  },
  {
   "cell_type": "markdown",
   "metadata": {},
   "source": [
    "### **Meshing**"
   ]
  },
  {
   "cell_type": "markdown",
   "metadata": {},
   "source": [
    "We define a triangle mesh, fitted to both concentrated and distributed areaa loads."
   ]
  },
  {
   "cell_type": "code",
   "execution_count": 34,
   "metadata": {},
   "outputs": [],
   "source": [
    "MeshParams = axtlb.RDomainMeshParameters(\n",
    "    MeshSize=min([Lx/10, Ly/10]),\n",
    "    MeshType=axtlb.mtUniform,\n",
    "    MeshGeometryType=axtlb.mgtTriangle,\n",
    "    IsFitToPointLoad=True,\n",
    "    FitToPointLoad=0.,  # fit to all loads\n",
    "    IsFitToSurfaceLoad=True,\n",
    "    FitToSurfaceLoad=0.,  # fit to all loads\n",
    ")\n",
    "axm.Domains[:].GenerateMesh(MeshParams);"
   ]
  },
  {
   "cell_type": "markdown",
   "metadata": {},
   "source": [
    "Notice the use of the semicolon here. This simplifies carrying out the same operation over a range of domains. (the colon at the end simply suppresses the output)."
   ]
  },
  {
   "cell_type": "markdown",
   "metadata": {},
   "source": [
    "### **Processing**"
   ]
  },
  {
   "cell_type": "markdown",
   "metadata": {},
   "source": [
    "We save the file and run a linear analysis, with all warnings suppressed."
   ]
  },
  {
   "cell_type": "code",
   "execution_count": 35,
   "metadata": {},
   "outputs": [
    {
     "data": {
      "text/plain": [
       "1"
      ]
     },
     "execution_count": 35,
     "metadata": {},
     "output_type": "execute_result"
    }
   ],
   "source": [
    "fpath = wdir + 'Navier.axs'\n",
    "axm.SaveToFile(fpath, False)\n",
    "axm.Calculation.LinearAnalysis(axtlb.cuiNoUserInteractionWithAutoCorrectNoShow)\n"
   ]
  },
  {
   "cell_type": "markdown",
   "metadata": {},
   "source": [
    "### **Plotting with AxisVM**"
   ]
  },
  {
   "cell_type": "markdown",
   "metadata": {},
   "source": [
    "We plot vertical displacements of the previously defined load combination. At the end we save the plot to a file in the working directory."
   ]
  },
  {
   "cell_type": "code",
   "execution_count": 36,
   "metadata": {},
   "outputs": [
    {
     "data": {
      "text/plain": [
       "1"
      ]
     },
     "execution_count": 36,
     "metadata": {},
     "output_type": "execute_result"
    }
   ],
   "source": [
    "# we want the domain to fill up the screen entirely\n",
    "axm.View = axtlb.vTop\n",
    "axm.FitInView()\n",
    "\n",
    "# turn off the grid\n",
    "GridOptions = axtlb.RGridOptions(DisplayGrid=False)\n",
    "axm.Settings.SetGridOptions(GridOptions)\n",
    "\n",
    "WriteValuesTo = axtlb.RWriteValuesTo(\n",
    "    Nodes=False,\n",
    "    Lines=False,\n",
    "    Surfaces=True,\n",
    "    MinMaxOnly=True\n",
    ")\n",
    "\n",
    "BasicDispParams = axtlb.RBasicDisplayParameters_V153(\n",
    "    ResultComponent=axtlb.rc_d_eZ,\n",
    "    Scale=1.0,\n",
    "    DisplayMode=axtlb.dmIsosurfaces2D,\n",
    "    DisplayShape=axtlb.dsDeformed,\n",
    "    WriteValuesTo=WriteValuesTo\n",
    ")\n",
    "\n",
    "ExtDispParams = axtlb.RExtendedDisplayParameters_V153(\n",
    "    BasicDispParams=BasicDispParams,\n",
    "    DisplayAnalysisType=axtlb.datLinear,\n",
    "    ResultType=axtlb.rtLoadCombination\n",
    ")\n",
    "axm.Windows.SetStaticDisplayParameters_V153(1, ExtDispParams, lcomb1, [])\n",
    "\n",
    "axm.Windows.ReDraw()\n",
    "imgpath = wdir + 'Navier_ez.bmp'\n",
    "axm.Windows[1].SaveWindowToBitmap(axtlb.wcmColour, imgpath)\n",
    "axvm.BringToFront()\n"
   ]
  },
  {
   "cell_type": "markdown",
   "metadata": {},
   "source": [
    "### **Close AxisVM**"
   ]
  },
  {
   "cell_type": "markdown",
   "metadata": {},
   "source": [
    "Because we created the interface with `daemon=True`, the application closes without any warning."
   ]
  },
  {
   "cell_type": "code",
   "execution_count": 19,
   "metadata": {},
   "outputs": [],
   "source": [
    "axvm.Quit()"
   ]
  }
 ],
 "metadata": {
  "interpreter": {
   "hash": "7d5c25a0dcd433e9174dbd40cc8162c4c651cca147fa234e40a811528338fdfd"
  },
  "kernelspec": {
   "display_name": "Python 3.8.10 64-bit",
   "name": "python3"
  },
  "language_info": {
   "codemirror_mode": {
    "name": "ipython",
    "version": 3
   },
   "file_extension": ".py",
   "mimetype": "text/x-python",
   "name": "python",
   "nbconvert_exporter": "python",
   "pygments_lexer": "ipython3",
   "version": "3.8.10"
  }
 },
 "nbformat": 4,
 "nbformat_minor": 4
}
