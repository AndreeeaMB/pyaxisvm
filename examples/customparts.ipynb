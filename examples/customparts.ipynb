{
 "cells": [
  {
   "cell_type": "markdown",
   "metadata": {},
   "source": [
    "# Complex Workflow with AxisVM"
   ]
  },
  {
   "cell_type": "code",
   "execution_count": 1,
   "metadata": {},
   "outputs": [
    {
     "data": {
      "text/plain": [
       "PolyData({})"
      ]
     },
     "execution_count": 1,
     "metadata": {},
     "output_type": "execute_result"
    }
   ],
   "source": [
    "from axisvm import examples\n",
    "import pyvista as pv\n",
    "import numpy as np\n",
    "\n",
    "from sigmaepsilon.mesh import PolyData, CartesianFrame, PointData\n",
    "from sigmaepsilon.mesh.cells import TET4 as CellData\n",
    "from sigmaepsilon.mesh.tri.triutils import edges_tri\n",
    "from sigmaepsilon.mesh.topo import unique_topo_data, detach\n",
    "from sigmaepsilon.mesh.topo import rewire, detach\n",
    "\n",
    "vtkpath = examples.download_stand_vtk()\n",
    "pd = PolyData.read(vtkpath)\n",
    "c = pd.coords() / 1000\n",
    "t = pd.topology()[:, :4]\n",
    "c, t = detach(c, t)\n",
    "csys = CartesianFrame(dim=3)\n",
    "\n",
    "# pointdata and celldata\n",
    "pd = PointData(coords=c, frame=csys)\n",
    "cd = CellData(topo=t, frames=csys)\n",
    "\n",
    "mesh = PolyData(pd, cd, frame=csys)\n",
    "surface = mesh.surface()\n",
    "surface.nummrg()\n",
    "\n",
    "coords, topo = surface.coords(), surface.topology()\n",
    "edges, edgeIDs = unique_topo_data(edges_tri(topo))\n",
    "edges += 1\n",
    "edgeIDs += 1"
   ]
  },
  {
   "cell_type": "code",
   "execution_count": 5,
   "metadata": {},
   "outputs": [],
   "source": [
    "from axisvm.com.client import start_AxisVM\n",
    "axvm = start_AxisVM(visible=True, daemon=True)"
   ]
  },
  {
   "cell_type": "code",
   "execution_count": 6,
   "metadata": {},
   "outputs": [
    {
     "data": {
      "text/plain": [
       "0"
      ]
     },
     "execution_count": 6,
     "metadata": {},
     "output_type": "execute_result"
    }
   ],
   "source": [
    "modelId = axvm.Models.New()\n",
    "axm = axvm.Models.Item[modelId]\n",
    "axm.Settings.EditingTolerance = -1\n",
    "wdir = \"\"\n",
    "\n",
    "from axisvm.com.tlb import RPoint3d\n",
    "foo = lambda x : RPoint3d(x=x[0], y=x[1], z=x[2])\n",
    "axm.BeginUpdate()\n",
    "axm.Nodes.BulkAdd(list(map(foo, coords)))\n",
    "axm.EndUpdate()\n",
    "\n",
    "from axisvm.com.tlb import lgtStraightLine, RLineData\n",
    "\n",
    "def gen_line(edge):\n",
    "    return RLineData(\n",
    "        NodeId1 = edge[0],\n",
    "        NodeId2 = edge[1],\n",
    "        GeomType = lgtStraightLine\n",
    "    )\n",
    "    \n",
    "axm.BeginUpdate()\n",
    "axm.Lines.BulkAdd(list(map(gen_line, edges)))\n",
    "axm.EndUpdate()\n",
    "\n",
    "from axisvm.com.tlb import vTop\n",
    "axm.View = vTop\n",
    "axm.FitInView()\n",
    "\n",
    "from axisvm.com.tlb import ndcEuroCode\n",
    "axm.Settings.NationalDesignCode = ndcEuroCode\n",
    "matId = axm.Materials.AddFromCatalog(ndcEuroCode, \"S 235\")\n",
    "\n",
    "from axisvm.com.tlb import RSurfaceAttr, lnlTensionAndCompression, \\\n",
    "    RResistancesXYZ, schLinear, stShell, RElasticFoundationXYZ, \\\n",
    "    RNonLinearityXYZ, RSurface\n",
    "    \n",
    "SurfaceAttr = RSurfaceAttr(\n",
    "    Thickness=1,\n",
    "    SurfaceType=stShell,\n",
    "    RefZId=0,\n",
    "    RefXId=0,\n",
    "    MaterialId=matId,\n",
    "    ElasticFoundation=RElasticFoundationXYZ(0, 0, 0),\n",
    "    NonLinearity=RNonLinearityXYZ(lnlTensionAndCompression,\n",
    "                                  lnlTensionAndCompression,\n",
    "                                  lnlTensionAndCompression),\n",
    "    Resistance=RResistancesXYZ(0, 0, 0),\n",
    "    Charactersitics=schLinear)\n",
    "\n",
    "def gen_surface(edges):\n",
    "    return RSurface(\n",
    "        N=3,\n",
    "        LineIndex1 = edges[0],\n",
    "        LineIndex2 = edges[1],\n",
    "        LineIndex3 = edges[2],\n",
    "        Attr = SurfaceAttr,\n",
    "        DomainIndex = 0\n",
    "    )\n",
    "axm.BeginUpdate()\n",
    "axm.Surfaces.BulkAdd(list(map(gen_surface, edgeIDs)))\n",
    "axm.EndUpdate()\n"
   ]
  },
  {
   "cell_type": "code",
   "execution_count": 7,
   "metadata": {},
   "outputs": [],
   "source": [
    "attachments = axm.Nodes.Attachments\n",
    "gid = surface.pd.gid\n",
    "nN = axm.Nodes.Count\n",
    "for i in range(nN):\n",
    "    attachments.AddData('gid', i+1, [gid[i]])"
   ]
  },
  {
   "cell_type": "markdown",
   "metadata": {},
   "source": [
    "Select points of action"
   ]
  },
  {
   "cell_type": "code",
   "execution_count": 8,
   "metadata": {},
   "outputs": [],
   "source": [
    "from axisvm.com.tlb import RPartItem, pitNode\n",
    "axvm.BringToFront()\n",
    "CustomParts = axm.CustomParts\n",
    "CustomPartsFolder = CustomParts.RootFolder\n",
    "i = CustomPartsFolder.AddSubFolder('SigmaEpsilon')\n",
    "Folder = CustomPartsFolder.SubFolder[i]\n",
    "iebc = Folder.AddPart('EBC', [])[-1]\n",
    "inbc = Folder.AddPart('NBC', [])[-1]"
   ]
  },
  {
   "cell_type": "code",
   "execution_count": 9,
   "metadata": {},
   "outputs": [
    {
     "data": {
      "text/plain": [
       "0"
      ]
     },
     "execution_count": 9,
     "metadata": {},
     "output_type": "execute_result"
    }
   ],
   "source": [
    "\n",
    "nodes_f = axm.Nodes.select_IDs(msg='Select nodes where nodal loads are to be imposed!')\n",
    "parts = list(map(lambda id : RPartItem(ItemType=pitNode, Id=id), nodes_f))\n",
    "Folder.AddPartItemsToPart(inbc, parts)\n",
    "axm.SelectAll(False)\n",
    "axm.Refresh()"
   ]
  },
  {
   "cell_type": "code",
   "execution_count": 10,
   "metadata": {},
   "outputs": [
    {
     "data": {
      "text/plain": [
       "0"
      ]
     },
     "execution_count": 10,
     "metadata": {},
     "output_type": "execute_result"
    }
   ],
   "source": [
    "nodes_u = axm.Nodes.select_IDs(msg='Select nodes where displacement penalties are to be enforced!')\n",
    "parts = list(map(lambda id : RPartItem(ItemType=pitNode, Id=id), nodes_u))\n",
    "Folder.AddPartItemsToPart(iebc, parts)\n",
    "axm.SelectAll(False)\n",
    "axm.Refresh()"
   ]
  },
  {
   "cell_type": "code",
   "execution_count": 11,
   "metadata": {},
   "outputs": [],
   "source": [
    "nbc_items = Folder.GetPart(inbc)[0]\n",
    "nbc_ids = list(map(lambda i : i.Id, filter(lambda i : i.ItemType == 0, nbc_items)))\n",
    "ebc_items = Folder.GetPart(iebc)[0]\n",
    "ebc_ids = list(map(lambda i : i.Id, filter(lambda i : i.ItemType == 0, ebc_items)))"
   ]
  }
 ],
 "metadata": {
  "kernelspec": {
   "display_name": "Python 3.8.10 ('.venv': venv)",
   "language": "python",
   "name": "python3"
  },
  "language_info": {
   "codemirror_mode": {
    "name": "ipython",
    "version": 3
   },
   "file_extension": ".py",
   "mimetype": "text/x-python",
   "name": "python",
   "nbconvert_exporter": "python",
   "pygments_lexer": "ipython3",
   "version": "3.8.10"
  },
  "orig_nbformat": 4,
  "vscode": {
   "interpreter": {
    "hash": "81af22673e51a55db93ad07d3dd2d272490ff9da1a60e01b8f0931d11d215c80"
   }
  }
 },
 "nbformat": 4,
 "nbformat_minor": 2
}
