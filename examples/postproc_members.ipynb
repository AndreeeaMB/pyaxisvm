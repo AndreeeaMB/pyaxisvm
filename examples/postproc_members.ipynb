{
 "cells": [
  {
   "cell_type": "code",
   "execution_count": null,
   "metadata": {},
   "outputs": [],
   "source": [
    "axm.CrossSections[1].StressPointCount\n",
    "axm.CrossSections[1].CrossSectionShapeEx\n",
    "axm.CrossSections[1].InnerPerimeter\n",
    "axm.CrossSections[1].OuterPerimeter\n",
    "axm.CrossSections[1].GetStressPoint(5)[0].z\n",
    "axm.CrossSections[1].ShapePolyGonList.Count\n",
    "axm.CrossSections[1].ShapePolyGonList[1].LineCount\n",
    "axm.CrossSections[1].ShapePolyGonList[1].Line[1].GetLinePoints()"
   ]
  }
 ],
 "metadata": {
  "kernelspec": {
   "display_name": "Python 3.8.10 ('.venv': venv)",
   "language": "python",
   "name": "python3"
  },
  "language_info": {
   "name": "python",
   "version": "3.8.10"
  },
  "orig_nbformat": 4,
  "vscode": {
   "interpreter": {
    "hash": "81af22673e51a55db93ad07d3dd2d272490ff9da1a60e01b8f0931d11d215c80"
   }
  }
 },
 "nbformat": 4,
 "nbformat_minor": 2
}
